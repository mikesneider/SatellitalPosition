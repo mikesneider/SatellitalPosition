{
 "cells": [
  {
   "cell_type": "code",
   "execution_count": 1,
   "metadata": {
    "collapsed": false
   },
   "outputs": [],
   "source": [
    "import datetime\n",
    "import ephem\n",
    "import math\n",
    "import os\n",
    "import sys \n",
    "import time\n",
    "import urllib2\n",
    "import re\n",
    "import numpy as np\n",
    "import geocoder\n",
    "%run -i pys/utilsEphem.py"
   ]
  },
  {
   "cell_type": "code",
   "execution_count": 2,
   "metadata": {
    "collapsed": false,
    "scrolled": true
   },
   "outputs": [],
   "source": [
    "date = '25/03/2017'\n",
    "time = '14:13:56'\n",
    "TimeNow = GetDateTime(date,time)"
   ]
  },
  {
   "cell_type": "code",
   "execution_count": 3,
   "metadata": {
    "collapsed": false
   },
   "outputs": [
    {
     "name": "stdout",
     "output_type": "stream",
     "text": [
      "2017-03-26 19:16:22.137096\n"
     ]
    }
   ],
   "source": [
    "TimeNow = datetime.datetime.now() #\"10/01/2017\"\n",
    "TimeNow = TimeNow + datetime.timedelta(hours=0)\n",
    "\n",
    "Longitude = '7.068703' #'4.60971' #7.11392\n",
    "Latitude  = '-73.100138' #'-74.08175' #-73.1198 \n",
    "\n",
    "print TimeNow"
   ]
  },
  {
   "cell_type": "code",
   "execution_count": 4,
   "metadata": {
    "collapsed": false
   },
   "outputs": [
    {
     "name": "stdout",
     "output_type": "stream",
     "text": [
      "7.068703,-73.100138\n",
      "Cl. 35, Floridablanca, Santander, Colombia\n"
     ]
    }
   ],
   "source": [
    "longlat = str(Longitude) + \",\" + str(Latitude)\n",
    "print longlat\n",
    "g = geocoder.google([Longitude, Latitude], method='reverse')\n",
    "print g.address"
   ]
  },
  {
   "cell_type": "markdown",
   "metadata": {},
   "source": [
    "[TwoLine Element set](https://en.wikipedia.org/wiki/Two-line_element_set)  - how [this](http://www.celestrak.com/publications/AIAA/2006-6753/AIAA-2006-6753.pdf) info come"
   ]
  },
  {
   "cell_type": "code",
   "execution_count": 5,
   "metadata": {
    "collapsed": false
   },
   "outputs": [],
   "source": [
    "names,elevs,azs,types = GetPositionELAZ(TimeNow,Longitude,Latitude,3)"
   ]
  },
  {
   "cell_type": "code",
   "execution_count": null,
   "metadata": {
    "collapsed": false
   },
   "outputs": [
    {
     "data": {
      "image/png": "[encoded data removed]",
      "text/plain": [
       "<matplotlib.figure.Figure at 0xad30084c>"
      ]
     },
     "metadata": {},
     "output_type": "display_data"
    }
   ],
   "source": [
    "import matplotlib.pyplot as plt\n",
    "from IPython.display import display, HTML \n",
    "%matplotlib inline\n",
    "fig =plt.figure(figsize=(6,6))\n",
    "colores = colorsyou(types)\n",
    "\n",
    "Xs,Ys = to_skyplot(elevs,azs)\n",
    "axes = plt.gca()\n",
    "axes.set_xlim([-1,1])\n",
    "axes.set_ylim([-1,1])\n",
    "#plt.subplot(111,projection='polar')\n",
    "plt.scatter(Xs,Ys,c = colores)\n",
    "plt.title('PRN Position')\n",
    "plt.grid()\n",
    "for i,txt in enumerate(names):\n",
    "    #print txt,i\n",
    "    plt.annotate(txt, (Xs[i],Ys[i]))#,arrowprops=dict(arrowstyle=\"-\",connectionstyle=\"arc3\")"
   ]
  },
  {
   "cell_type": "code",
   "execution_count": null,
   "metadata": {
    "collapsed": false
   },
   "outputs": [],
   "source": [
    "def mapr(r):\n",
    "    \"\"\"Remap the radial axis.\"\"\"\n",
    "    r[:] = [90 - x for x in r]\n",
    "    return (r)\n",
    "import copy\n",
    "els = copy.copy(elevs)\n",
    "ax = plt.subplot(111, polar=True)\n",
    "c = plt.scatter(azs,mapr(els), c=colores)\n",
    "plt.title('PRN Position (polar) \\n')\n",
    "#ax.set_theta_direction(-1)\n",
    "ax.set_yticks(range(0, 90+10, 10))                   # Define the yticks\n",
    "yLabel = ['90', '', '', '', '', '', '30', '', '', '']\n",
    "ax.set_yticklabels(yLabel)\n",
    "c.set_alpha(0.75)"
   ]
  },
  {
   "cell_type": "markdown",
   "metadata": {},
   "source": [
    "I can test the results in this [page](http://www.n2yo.com/?s=41554)"
   ]
  },
  {
   "cell_type": "code",
   "execution_count": 23,
   "metadata": {
    "collapsed": true
   },
   "outputs": [],
   "source": []
  }
 ],
 "metadata": {
  "kernelspec": {
   "display_name": "Python 2",
   "language": "python",
   "name": "python2"
  },
  "language_info": {
   "codemirror_mode": {
    "name": "ipython",
    "version": 2
   },
   "file_extension": ".py",
   "mimetype": "text/x-python",
   "name": "python",
   "nbconvert_exporter": "python",
   "pygments_lexer": "ipython2",
   "version": "2.7.12"
  }
 },
 "nbformat": 4,
 "nbformat_minor": 0
}
