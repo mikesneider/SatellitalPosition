{
 "cells": [
  {
   "cell_type": "code",
   "execution_count": 1,
   "metadata": {
    "collapsed": true
   },
   "outputs": [],
   "source": [
    "#This is for Know the satellites position with a specific time and date "
   ]
  },
  {
   "cell_type": "code",
   "execution_count": 2,
   "metadata": {
    "collapsed": true
   },
   "outputs": [],
   "source": [
    "Sat_Time = \"01:20:23\"\n",
    "Sat_Date = \"12/09/2017\"\n",
    "Latitude_inGround = \"45.9945854\"\n",
    "Longitude_inGround = \"-75.656564\""
   ]
  },
  {
   "cell_type": "code",
   "execution_count": null,
   "metadata": {
    "collapsed": true
   },
   "outputs": [],
   "source": [
    "#Now I need to know the near "
   ]
  },
  {
   "cell_type": "code",
   "execution_count": null,
   "metadata": {
    "collapsed": true
   },
   "outputs": [],
   "source": [
    "def to_skyplot(elevation, azimut):\n",
    "    e = np.array(elevation)\n",
    "    a = np.array(azimut)\n",
    "    sx = ((90-e)/90) * np.sin (a * (np.pi/180))\n",
    "    sy = ((90-e)/90) * np.cos (a * (np.pi/180))\n",
    "    return (sx,sy)"
   ]
  },
  {
   "cell_type": "code",
   "execution_count": null,
   "metadata": {
    "collapsed": true
   },
   "outputs": [],
   "source": [
    "AllSat = []\n",
    "Elevations = []\n",
    "Azimuths = []\n",
    "\n",
    "obsHeader, obsData = gpstk.readRinex3Obs(obsfile)\n",
    "#obsObject = obsData.next()\n",
    "for obsObject in obsData: #round the data\n",
    "    for satID, datumList in obsObject.obs.iteritems():\n",
    "\n",
    "        eph   = bcestore.findEphemeris(satID, obsObject.time)\n",
    "        svXvt = eph.svXvt(obsObject.time)\n",
    "        elev = obsHeader.antennaPosition.elvAngle(svXvt.getPos())\n",
    "        azim    = obsHeader.antennaPosition.azAngle(svXvt.getPos())\n",
    "\n",
    "        if(satID.system != satID.systemGPS):\n",
    "            print satID.system, satID.id\n",
    "        #print satID.system, satID.id\n",
    "        AllSat.append('PRN ' + str(satID.id))\n",
    "        Elevations.append(elev)\n",
    "        Azimuths.append(azim)"
   ]
  },
  {
   "cell_type": "code",
   "execution_count": null,
   "metadata": {
    "collapsed": true
   },
   "outputs": [],
   "source": [
    "#!/bin/bash                                                                                                 \n",
    "for i in $(seq -f \"%03g\" 1 365); do   wget -r ftp://geodesy.noaa.gov/cors/rinex/2013/$i; done "
   ]
  }
 ],
 "metadata": {
  "kernelspec": {
   "display_name": "Anaconda 2",
   "language": "python",
   "name": "python2"
  },
  "language_info": {
   "codemirror_mode": {
    "name": "ipython",
    "version": 2
   },
   "file_extension": ".py",
   "mimetype": "text/x-python",
   "name": "python",
   "nbconvert_exporter": "python",
   "pygments_lexer": "ipython2",
   "version": "2.7.12"
  }
 },
 "nbformat": 4,
 "nbformat_minor": 1
}
