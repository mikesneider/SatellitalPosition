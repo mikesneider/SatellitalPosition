{
 "cells": [
  {
   "cell_type": "code",
   "execution_count": 24,
   "metadata": {
    "collapsed": false
   },
   "outputs": [],
   "source": [
    "import datetime\n",
    "import time\n",
    "import os, sys\n",
    "from ftplib import FTP\n",
    "from pykml import parser\n",
    "import keytree"
   ]
  },
  {
   "cell_type": "code",
   "execution_count": 4,
   "metadata": {
    "collapsed": true
   },
   "outputs": [],
   "source": [
    "Sat_Time = \"01:20:23\"\n",
    "Sat_Date = \"12/09/2017\"\n",
    "Latitude_inGround = \"45.9945854\"\n",
    "Longitude_inGround = \"-75.656564\"\n",
    "filename = \"all.kml\""
   ]
  },
  {
   "cell_type": "code",
   "execution_count": 18,
   "metadata": {
    "collapsed": false
   },
   "outputs": [
    {
     "name": "stdout",
     "output_type": "stream",
     "text": [
      "1 AEIC 2003\n",
      "2 1\n",
      "3 0\n",
      "4 clampedToGround\n",
      "5 1\n",
      "6 \n",
      "7 \n",
      "8 \n"
     ]
    }
   ],
   "source": [
    "counter = 0\n",
    "\n",
    "with open(filename) as f:\n",
    "    doc = parser.parse(f).getroot().Document.Folder\n",
    "for pm in doc.iterchildren():\n",
    "    counter += 1\n",
    "    if hasattr(pm, 'LineString'):\n",
    "        print pm.LineString.coordinates\n",
    "    else:\n",
    "        print counter,pm\n",
    "        if counter >400:\n",
    "            break"
   ]
  },
  {
   "cell_type": "markdown",
   "metadata": {},
   "source": [
    "### Trying to use different libraries, like: pykml, keytree, and fastkml, but  none worked. So, I decided read Line by line because is a speciffic. "
   ]
  },
  {
   "cell_type": "code",
   "execution_count": 22,
   "metadata": {
    "collapsed": false
   },
   "outputs": [
    {
     "data": {
      "text/plain": [
       "'AEIC 2003'"
      ]
     },
     "execution_count": 22,
     "metadata": {},
     "output_type": "execute_result"
    }
   ],
   "source": [
    "doc.name"
   ]
  },
  {
   "cell_type": "code",
   "execution_count": 41,
   "metadata": {
    "collapsed": false
   },
   "outputs": [
    {
     "name": "stdout",
     "output_type": "stream",
     "text": [
      "            <description><![CDATA[\t\t<b>Monument Code:</b> GAMB<br>\n",
      "\n",
      "\t\t<b>Latitude:</b> 63.7745<br>\n",
      "\n",
      "\t\t<b>Longitude:</b> -171.732<br>\n",
      "\n",
      "            <description><![CDATA[\t\t<b>Monument Code:</b> ROWD<br>\n",
      "\n",
      "\t\t<b>Latitude:</b> 52.9707<br>\n",
      "\n",
      "\t\t<b>Longitude:</b> -168.8547<br>\n",
      "\n",
      "            <description><![CDATA[\t\t<b>Monument Code:</b> SPSW<br>\n",
      "\n",
      "\t\t<b>Latitude:</b> 57.1523<br>\n",
      "\n",
      "\t\t<b>Longitude:</b> -170.2485<br>\n",
      "\n",
      "            <description><![CDATA[\t\t<b>Monument Code:</b> ANCR<br>\n",
      "\n",
      "\t\t<b>Latitude:</b> 60.8841<br>\n",
      "\n",
      "\t\t<b>Longitude:</b> -147.2544<br>\n",
      "\n",
      "            <description><![CDATA[\t\t<b>Monument Code:</b> ATKA<br>\n",
      "\n",
      "\t\t<b>Latitude:</b> 52.2186<br>\n",
      "\n",
      "\t\t<b>Longitude:</b> -174.2063<br>\n",
      "\n"
     ]
    }
   ],
   "source": [
    "counter = 0\n",
    "mikml = open(filename,'r')\n",
    "for line in mikml:\n",
    "    counter += 1\n",
    "    if counter > 200:\n",
    "        break\n",
    "    else:\n",
    "        if 'Monument Code:' in line:\n",
    "            print line\n",
    "        if 'Latitude' in line:\n",
    "            print line\n",
    "        if 'Longitude' in line:\n",
    "            print line"
   ]
  },
  {
   "cell_type": "code",
   "execution_count": null,
   "metadata": {
    "collapsed": true
   },
   "outputs": [],
   "source": []
  }
 ],
 "metadata": {
  "kernelspec": {
   "display_name": "Python 2",
   "language": "python",
   "name": "python2"
  },
  "language_info": {
   "codemirror_mode": {
    "name": "ipython",
    "version": 2
   },
   "file_extension": ".py",
   "mimetype": "text/x-python",
   "name": "python",
   "nbconvert_exporter": "python",
   "pygments_lexer": "ipython2",
   "version": "2.7.12"
  }
 },
 "nbformat": 4,
 "nbformat_minor": 0
}
