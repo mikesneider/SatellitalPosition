{
 "cells": [
  {
   "cell_type": "code",
   "execution_count": 2,
   "metadata": {
    "collapsed": false
   },
   "outputs": [],
   "source": [
    "from pykml import parser\n",
    "import keytree\n",
    "import re\n",
    "import pandas as pd"
   ]
  },
  {
   "cell_type": "code",
   "execution_count": 3,
   "metadata": {
    "collapsed": false
   },
   "outputs": [
    {
     "name": "stdout",
     "output_type": "stream",
     "text": [
      "1 AEIC 2003\n",
      "2 1\n",
      "3 0\n",
      "4 clampedToGround\n",
      "5 1\n",
      "6 \n",
      "7 \n",
      "8 \n"
     ]
    }
   ],
   "source": [
    "filename = 'all.kml'\n",
    "counter = 0\n",
    "\n",
    "with open(filename) as f:\n",
    "    doc = parser.parse(f).getroot().Document.Folder\n",
    "for pm in doc.iterchildren():\n",
    "    counter += 1\n",
    "    if hasattr(pm, 'LineString'):\n",
    "        print pm.LineString.coordinates\n",
    "    else:\n",
    "        print counter,pm\n",
    "        if counter >400:\n",
    "            break"
   ]
  },
  {
   "cell_type": "markdown",
   "metadata": {},
   "source": [
    "### Trying to use different libraries, like: _pykml, keytree_, and _fastkml_, but  none worked. So, I decided read Line by line because is a speciffic file. "
   ]
  },
  {
   "cell_type": "code",
   "execution_count": 23,
   "metadata": {
    "collapsed": false
   },
   "outputs": [
    {
     "name": "stdout",
     "output_type": "stream",
     "text": [
      "27868 27868 27868\n",
      "27868 <bound method DataFrame.head of        CODE       Latitude           Longitude\n",
      "0      GAMB        63.7745            -171.732\n",
      "1      ROWD        52.9707           -168.8547\n",
      "2      SPSW        57.1523           -170.2485\n",
      "3      ANCR        60.8841           -147.2544\n",
      "4      ATKA        52.2186           -174.2063\n",
      "5      GAMB        63.7745            -171.732\n",
      "6      GUY_        60.8792           -147.0959\n",
      "7      CMDL        71.3229           -156.6117\n",
      "8      S123        71.3134           -156.6478\n",
      "9      BRW0      71.327328         -156.680725\n",
      "10     BRW1       71.38481         -156.425344\n",
      "11     BRW2      71.377131         -156.418725\n",
      "12     BRW3      71.382727         -156.399571\n",
      "13     IARC        64.8593           -147.8507\n",
      "14     DCPH        59.0904           -138.2158\n",
      "15     PPLA        62.8962           -152.1874\n",
      "16     ROWD        52.9707           -168.8547\n",
      "17     SITU        59.6664           -139.4019\n",
      "18     SPSW        57.1523           -170.2485\n",
      "19     YKTT        59.5107           -139.6488\n",
      "20     S123        71.3134           -156.6478\n",
      "21     MELS        64.9223           -163.6923\n",
      "22     IAR0    64.85928004       -147.85059348\n",
      "23     IARC        64.8593           -147.8507\n",
      "24     SITU        59.6664           -139.4019\n",
      "25     S27A    71.32291897       -156.60945025\n",
      "26     S27B    71.32288816       -156.60933898\n",
      "27     S123        71.3134           -156.6478\n",
      "28     9450        55.3311           -160.5004\n",
      "29     ROWD        52.9707           -168.8547\n",
      "...     ...            ...                 ...\n",
      "27838  YAVC     -22.124514          -65.470997\n",
      "27839  YBHB       41.73166          -122.71074\n",
      "27840  YBRA        45.1221           -109.2674\n",
      "27841  YEBE   40.524897672         -3.08862958\n",
      "27842  YEEP        19.2621          -155.74617\n",
      "27843  YEL2   62.481321138      -114.480846426\n",
      "27844  YELL    62.48089541      -114.480698008\n",
      "27845  YESX   28.378336497      -108.919637803\n",
      "27846  YESX   28.378336497      -108.919637803\n",
      "27847  YIBL   22.186458774        56.112334238\n",
      "27848  YKRO    6.870560281        -5.240092969\n",
      "27849  YMER        77.4329            -24.3263\n",
      "27850  YOMB   38.950434019       -117.51698618\n",
      "27851  YONS   37.541122125       127.001344608\n",
      "27852  YSSK   47.029735832       142.716719198\n",
      "27853  YSST    40.86577802  28.990869119999999\n",
      "27854  YUHG      32.647574         -115.922236\n",
      "27855  ZAMB  -15.425540812         28.31101235\n",
      "27856  ZDC1   39.101595301       -77.542743436\n",
      "27857  ZECK   43.788390773        41.565067354\n",
      "27858  ZIHP        17.6069           -101.4649\n",
      "27859  ZIM2   46.877090865         7.465027127\n",
      "27860  ZIMJ   46.877139429         7.465101218\n",
      "27861  ZIMM   46.877094779          7.46527277\n",
      "27862  ZINA       61.38354          -143.02412\n",
      "27863  ZION     37.3557816         -113.125031\n",
      "27864  ZMBT        -22.827             44.7327\n",
      "27865  ZOMB   -15.37584189         35.32513462\n",
      "27866  ZUMA   37.558166085       -117.49021941\n",
      "27867  ZWE2   55.699554318        36.757970747\n",
      "\n",
      "[27868 rows x 3 columns]>\n"
     ]
    }
   ],
   "source": [
    "counter = 0 #try with a speciffic number of file's lines.\n",
    "Code = []\n",
    "Lat = []\n",
    "Lon = []\n",
    "AreMonCode = False\n",
    "AreLat = False\n",
    "AreLon = False\n",
    "\n",
    "mikml = open(filename,'r')\n",
    "for line in mikml:\n",
    "    #counter += 1\n",
    "    if counter == 1: #< numbers of lines.\n",
    "        break\n",
    "    else:\n",
    "        if 'Monument Code:' in line:\n",
    "            s_MonCode = re.search('</b> (.+?)<br>', line)\n",
    "            if s_MonCode:\n",
    "                MonCode = s_MonCode.group(1)\n",
    "                AreMonCode = True\n",
    "            Code.append(MonCode)\n",
    "        if 'Latitude' in line:\n",
    "            s_Latitude = re.search('</b> (.+?)<br>', line)\n",
    "            if s_Latitude:\n",
    "                Latitude = s_Latitude.group(1)\n",
    "                 \n",
    "            if AreMonCode:\n",
    "                Lat.append(Latitude)\n",
    "                AreLat = True\n",
    "                AreMonCode = False\n",
    "        if 'Longitude' in line:\n",
    "            s_Longitude = re.search('</b> (.+?)<br>', line)\n",
    "            if s_Longitude:\n",
    "                 Longitude = s_Longitude.group(1)\n",
    "            if AreLat:\n",
    "                if MonCode == 'PTAR':\n",
    "                    del Lat[-1]\n",
    "                    del Code[-1]\n",
    "                else:\n",
    "                    Lon.append(Longitude)\n",
    "                    AreLat = False\n",
    "                    AreLon = False\n",
    "                    \n",
    "        \n",
    "        \n",
    "print len(Code),len(Lat),len(Lon)\n",
    "\n",
    "MyKML = pd.DataFrame({\"CODE\":Code ,\"Latitude\": Lat,\"Longitude\":Lon})\n",
    "\n",
    "MyKML.drop_duplicates()\n",
    "print len(MyKML),MyKML.head\n",
    "\n",
    "header = [\"CODE\", \"Longitude\", \"Latitude\"]\n",
    "MyKML.to_csv('UNAVCOlist.csv', columns = header)"
   ]
  },
  {
   "cell_type": "code",
   "execution_count": null,
   "metadata": {
    "collapsed": true
   },
   "outputs": [],
   "source": []
  }
 ],
 "metadata": {
  "kernelspec": {
   "display_name": "Python 2",
   "language": "python",
   "name": "python2"
  },
  "language_info": {
   "codemirror_mode": {
    "name": "ipython",
    "version": 2
   },
   "file_extension": ".py",
   "mimetype": "text/x-python",
   "name": "python",
   "nbconvert_exporter": "python",
   "pygments_lexer": "ipython2",
   "version": "2.7.12"
  }
 },
 "nbformat": 4,
 "nbformat_minor": 0
}
