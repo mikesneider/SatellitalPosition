{
 "cells": [
  {
   "cell_type": "code",
   "execution_count": null,
   "metadata": {
    "collapsed": true
   },
   "outputs": [],
   "source": [
    "#This is for Know the satellites position with a specific time and date "
   ]
  },
  {
   "cell_type": "code",
   "execution_count": 1,
   "metadata": {
    "collapsed": false
   },
   "outputs": [],
   "source": [
    "#Now I need to know the near \n",
    "import os, sys, time, datetime, re, gpstk\n",
    "from ftplib import FTP\n",
    "import pandas as pd\n",
    "import numpy as np\n",
    "from IPython.display import clear_output\n",
    "import matplotlib.pyplot as plt\n",
    "import math\n",
    "import geocoder #to get the elevation in a lon-lat point\n",
    "\n",
    "\n",
    "\n",
    "%matplotlib inline\n",
    "#%run -i code/utils.py"
   ]
  },
  {
   "cell_type": "code",
   "execution_count": 2,
   "metadata": {
    "collapsed": false
   },
   "outputs": [],
   "source": [
    "class WGS84:\n",
    "    \"\"\"General parameters defined by the WGS84 system\"\"\"\n",
    "    #Semimajor axis length (m)\n",
    "    a = 6378137.0\n",
    "    #Semiminor axis length (m)\n",
    "    b = 6356752.3142\n",
    "    #Ellipsoid flatness (unitless)\n",
    "    f = (a - b) / a\n",
    "    #Eccentricity (unitless)\n",
    "    e = math.sqrt(f * (2 - f))\n",
    "    #Speed of light (m/s)\n",
    "    c = 299792458.\n",
    "    #Relativistic constant\n",
    "    F = -4.442807633e-10\n",
    "    #Earth's universal gravitational constant\n",
    "    mu = 3.986005e14\n",
    "    #Earth rotation rate (rad/s)\n",
    "    omega_ie = 7.2921151467e-5\n",
    "    secsInWeek = 604800 \n",
    "    secsInDay = 86400 \n",
    "    gpsEpoch = (1980, 1, 6, 0, 0, 0)  # (year, month, day, hh, mm, ss)"
   ]
  },
  {
   "cell_type": "code",
   "execution_count": 3,
   "metadata": {
    "collapsed": true
   },
   "outputs": [],
   "source": [
    "def deg2rad(deg):\n",
    "    \"\"\"Converts degrees to radians\"\"\"\n",
    "    return deg * math.pi / 180\n",
    "\n",
    "def rad2deg(rad):\n",
    "    \"\"\"Converts radians to degrees\"\"\"\n",
    "    return rad * 180 / math.pi"
   ]
  },
  {
   "cell_type": "code",
   "execution_count": 4,
   "metadata": {
    "collapsed": true
   },
   "outputs": [],
   "source": [
    "def UTC2GPS(fecha):\n",
    "    '''\n",
    "    @UTC2GPS: Método estático para convertir un objeto de la clase datetime a tiempo GPS\n",
    "    @fecha datetime: Objeto de la clase datetime con la fecha a transformar en tiempo GPS.\n",
    "    '''\n",
    "    ## Obtenemos el número del día\n",
    "    ## En python el día 0 es el lunes\n",
    "    day = fecha.weekday()\n",
    "    ## Si el día es Domingo (número 6) -> día = -1\n",
    "    if day == 6 : day = -1\n",
    "    ## Calculamos el tiempo GPS\n",
    "    return ( (day + 1) * 86400 ) + int(fecha.strftime('%H')) * 3600 + int(fecha.strftime('%M')) * 60 + int(fecha.strftime('%S'))"
   ]
  },
  {
   "cell_type": "code",
   "execution_count": 5,
   "metadata": {
    "collapsed": true
   },
   "outputs": [],
   "source": [
    "def to_radians(array):\n",
    "    rads = array*(np.pi /180.)\n",
    "    return rads\n",
    "\n",
    "def compute_distance(df,longitude, latitude):\n",
    "    R = 6371e3 # earth radius metres, mean radius = 6371km\n",
    "    n = len(df.Latitude)\n",
    "    ArrayLat = pd.Series([latitude] * n)\n",
    "    ArrayLon = pd.Series([longitude] * n)\n",
    "    #print len(ArrayLat), type(ArrayLat), type(df.Latitude)\n",
    "    phi1 = to_radians(df.Latitude) #degrees to radians\n",
    "    phi2 = to_radians(ArrayLat)\n",
    "    lambda1 = to_radians(df.Longitude)\n",
    "    lambda2 = to_radians(ArrayLon)\n",
    "    dphi = phi2 - phi1\n",
    "    dlambda = lambda2 - lambda1\n",
    "    a = np.sin(dphi/2.)**2 + (np.cos(phi1) * np.cos(phi2) * np.sin(dlambda/2.)**2 )\n",
    "    c = 2 * np.arctan2(np.sqrt(a),np.sqrt(1.-a))\n",
    "    d = R * c\n",
    "    return d\n",
    "\n",
    "float_formatter = lambda x: \"%.2f\" % x\n",
    "\n",
    "def to_skyplot(elevation, azimut):\n",
    "    e = np.array(elevation)\n",
    "    a = np.array(azimut)\n",
    "    sx = ((90-e)/90) * np.sin (a * (np.pi/180))\n",
    "    sy = ((90-e)/90) * np.cos (a * (np.pi/180))\n",
    "    return (sx,sy)"
   ]
  },
  {
   "cell_type": "code",
   "execution_count": 6,
   "metadata": {
    "collapsed": true
   },
   "outputs": [],
   "source": [
    "#Thanks to https://github.com/twillis449\n",
    "def gunzip_some_file(compressed_file,\n",
    "                     uncompressed_file,\n",
    "                     delete_file = 1):\n",
    "    print 'uncompressing file 1 to file 2 ', compressed_file, uncompressed_file\n",
    "# if file is already uncompressed, do nothing\n",
    "    if compressed_file == uncompressed_file:\n",
    "        return\n",
    "    # make sure there is a file\n",
    "    if not os.path.isfile(compressed_file):\n",
    "        if(compressed_file[-1] == 'Z'):\n",
    "            # try another form\n",
    "            warnings.warn(\"No .Z form of compressed file '%s', trying .gz\"%compressed_file)\n",
    "            print \"No .Z form of compressed file  trying .gz\"\n",
    "            new_compressed = compressed_file[:-1] + \"gz\"\n",
    "            return gunzip_some_file(new_compressed, uncompressed_file,\n",
    "                                    delete_file)\n",
    "        raise Albus_RINEX.RINEX_Data_Barf(\"No such file '%s' to uncompress\"%compressed_file)\n",
    "    if compressed_file[-3:] != 'zip' and compressed_file[-1] != 'Z':\n",
    "        # file is most likely uncompressed ...\n",
    "        command = \"mv  %s %s\"%(compressed_file, uncompressed_file)\n",
    "    elif (compressed_file[-3:] == 'zip'): # we have a trignet file\n",
    "        command = \"unzip -np %s '*d' > %s\"%(compressed_file,uncompressed_file)\n",
    "    else:   \n",
    "        command = \"gunzip -dc %s > %s\"%(compressed_file,uncompressed_file)\n",
    "    print 'gunzip executing ', command\n",
    "    retcode = os.system(command)\n",
    "    print 'gunzip returned ', retcode\n",
    "# handle non-zero return code error from extraction \n",
    "    if(retcode):\n",
    "        raise No_RINEX_File_Error(\"Could not run '%s'\"%command)\n",
    "    if(delete_file):\n",
    "        try:\n",
    "            os.remove(compressed_file)\n",
    "        except:\n",
    "            print 'failure to remove compressed file - probably not a compressed file'\n",
    "    return\n"
   ]
  },
  {
   "cell_type": "code",
   "execution_count": 7,
   "metadata": {
    "collapsed": true
   },
   "outputs": [],
   "source": [
    "Sat_Time = \"21:20:23\"\n",
    "Sat_Date = \"23/02/2017\"\n",
    "Longitude_inGround = -73.1224429 \n",
    "Latitude_inGround = 7.1388027\n"
   ]
  },
  {
   "cell_type": "code",
   "execution_count": 8,
   "metadata": {
    "collapsed": false
   },
   "outputs": [
    {
     "name": "stdout",
     "output_type": "stream",
     "text": [
      "2017-02-23 21:20:23\n"
     ]
    }
   ],
   "source": [
    "#Parse String to Date\n",
    "import datetime\n",
    "\n",
    "time_sat = datetime.datetime.strptime(Sat_Time,'%H:%M:%S')\n",
    "date_sat = datetime.datetime.strptime(Sat_Date,'%d/%m/%Y')\n",
    "\n",
    "InputDate = datetime.datetime.combine(datetime.date(date_sat.year, date_sat.month, date_sat.day), datetime.time(time_sat.hour, time_sat.minute,time_sat.second))\n",
    "print InputDate"
   ]
  },
  {
   "cell_type": "code",
   "execution_count": 9,
   "metadata": {
    "collapsed": false
   },
   "outputs": [
    {
     "data": {
      "text/plain": [
       "54"
      ]
     },
     "execution_count": 9,
     "metadata": {},
     "output_type": "execute_result"
    }
   ],
   "source": [
    "day_of_year = InputDate.timetuple().tm_yday\n",
    "day_of_year"
   ]
  },
  {
   "cell_type": "code",
   "execution_count": 10,
   "metadata": {
    "collapsed": false,
    "scrolled": true
   },
   "outputs": [
    {
     "data": {
      "text/plain": [
       "Index([u'Unnamed: 0', u'CODE', u'Longitude', u'Latitude'], dtype='object')"
      ]
     },
     "execution_count": 10,
     "metadata": {},
     "output_type": "execute_result"
    }
   ],
   "source": [
    "UNAVCO_list = pd.read_csv(\"UNAVCOlist.csv\")\n",
    "UNAVCO_list.columns"
   ]
  },
  {
   "cell_type": "markdown",
   "metadata": {},
   "source": [
    "search the nearest station"
   ]
  },
  {
   "cell_type": "code",
   "execution_count": 11,
   "metadata": {
    "collapsed": false
   },
   "outputs": [
    {
     "data": {
      "text/plain": [
       "(7.1388027, -73.1224429)"
      ]
     },
     "execution_count": 11,
     "metadata": {},
     "output_type": "execute_result"
    }
   ],
   "source": [
    "#Universidad Industrial de Santander\n",
    "Latitude_inGround,Longitude_inGround"
   ]
  },
  {
   "cell_type": "code",
   "execution_count": 12,
   "metadata": {
    "collapsed": false
   },
   "outputs": [],
   "source": [
    "d = compute_distance(UNAVCO_list,Longitude_inGround,Latitude_inGround)\n",
    "UNAVCO_list['Distance'] = d"
   ]
  },
  {
   "cell_type": "code",
   "execution_count": 13,
   "metadata": {
    "collapsed": false,
    "scrolled": true
   },
   "outputs": [
    {
     "data": {
      "text/html": [
       "<div>\n",
       "<table border=\"1\" class=\"dataframe\">\n",
       "  <thead>\n",
       "    <tr style=\"text-align: right;\">\n",
       "      <th></th>\n",
       "      <th>Unnamed: 0</th>\n",
       "      <th>CODE</th>\n",
       "      <th>Longitude</th>\n",
       "      <th>Latitude</th>\n",
       "      <th>Distance</th>\n",
       "    </tr>\n",
       "  </thead>\n",
       "  <tbody>\n",
       "    <tr>\n",
       "      <th>2632</th>\n",
       "      <td>2632</td>\n",
       "      <td>BUCM</td>\n",
       "      <td>-73.181700</td>\n",
       "      <td>7.116900</td>\n",
       "      <td>6977.043272</td>\n",
       "    </tr>\n",
       "    <tr>\n",
       "      <th>2673</th>\n",
       "      <td>2673</td>\n",
       "      <td>BUCM</td>\n",
       "      <td>-73.181700</td>\n",
       "      <td>7.116900</td>\n",
       "      <td>6977.043272</td>\n",
       "    </tr>\n",
       "    <tr>\n",
       "      <th>2901</th>\n",
       "      <td>2901</td>\n",
       "      <td>BUCM</td>\n",
       "      <td>-73.181700</td>\n",
       "      <td>7.116900</td>\n",
       "      <td>6977.043272</td>\n",
       "    </tr>\n",
       "    <tr>\n",
       "      <th>2690</th>\n",
       "      <td>2690</td>\n",
       "      <td>FLOR</td>\n",
       "      <td>-73.088600</td>\n",
       "      <td>7.041600</td>\n",
       "      <td>11435.389590</td>\n",
       "    </tr>\n",
       "    <tr>\n",
       "      <th>2668</th>\n",
       "      <td>2668</td>\n",
       "      <td>ARAT</td>\n",
       "      <td>-73.052200</td>\n",
       "      <td>6.703200</td>\n",
       "      <td>49053.488836</td>\n",
       "    </tr>\n",
       "    <tr>\n",
       "      <th>3048</th>\n",
       "      <td>3048</td>\n",
       "      <td>PLON</td>\n",
       "      <td>-72.649000</td>\n",
       "      <td>7.384000</td>\n",
       "      <td>58911.122695</td>\n",
       "    </tr>\n",
       "    <tr>\n",
       "      <th>25086</th>\n",
       "      <td>25086</td>\n",
       "      <td>MECE</td>\n",
       "      <td>-73.712000</td>\n",
       "      <td>7.107200</td>\n",
       "      <td>65144.656963</td>\n",
       "    </tr>\n",
       "    <tr>\n",
       "      <th>2728</th>\n",
       "      <td>2728</td>\n",
       "      <td>SOCO</td>\n",
       "      <td>-73.241700</td>\n",
       "      <td>6.462500</td>\n",
       "      <td>76345.500651</td>\n",
       "    </tr>\n",
       "    <tr>\n",
       "      <th>2871</th>\n",
       "      <td>2871</td>\n",
       "      <td>ABRE</td>\n",
       "      <td>-73.225900</td>\n",
       "      <td>8.086800</td>\n",
       "      <td>106027.388816</td>\n",
       "    </tr>\n",
       "    <tr>\n",
       "      <th>24149</th>\n",
       "      <td>24149</td>\n",
       "      <td>CUC1</td>\n",
       "      <td>-72.512800</td>\n",
       "      <td>7.932300</td>\n",
       "      <td>110911.258013</td>\n",
       "    </tr>\n",
       "    <tr>\n",
       "      <th>3075</th>\n",
       "      <td>3075</td>\n",
       "      <td>SARD</td>\n",
       "      <td>-72.806800</td>\n",
       "      <td>8.096700</td>\n",
       "      <td>112050.309243</td>\n",
       "    </tr>\n",
       "    <tr>\n",
       "      <th>2712</th>\n",
       "      <td>2712</td>\n",
       "      <td>OLIV</td>\n",
       "      <td>-73.321200</td>\n",
       "      <td>6.140100</td>\n",
       "      <td>113199.621271</td>\n",
       "    </tr>\n",
       "    <tr>\n",
       "      <th>2872</th>\n",
       "      <td>2872</td>\n",
       "      <td>ACHI</td>\n",
       "      <td>-73.576700</td>\n",
       "      <td>8.246200</td>\n",
       "      <td>132922.098131</td>\n",
       "    </tr>\n",
       "    <tr>\n",
       "      <th>2709</th>\n",
       "      <td>2709</td>\n",
       "      <td>MONI</td>\n",
       "      <td>-73.573300</td>\n",
       "      <td>5.863800</td>\n",
       "      <td>150269.131127</td>\n",
       "    </tr>\n",
       "    <tr>\n",
       "      <th>2714</th>\n",
       "      <td>2714</td>\n",
       "      <td>PAIP</td>\n",
       "      <td>-73.117700</td>\n",
       "      <td>5.755200</td>\n",
       "      <td>153850.493211</td>\n",
       "    </tr>\n",
       "    <tr>\n",
       "      <th>3036</th>\n",
       "      <td>3036</td>\n",
       "      <td>PBER</td>\n",
       "      <td>-74.410900</td>\n",
       "      <td>6.465700</td>\n",
       "      <td>160747.984512</td>\n",
       "    </tr>\n",
       "    <tr>\n",
       "      <th>2729</th>\n",
       "      <td>2729</td>\n",
       "      <td>TAME</td>\n",
       "      <td>-71.767900</td>\n",
       "      <td>6.446800</td>\n",
       "      <td>168193.546279</td>\n",
       "    </tr>\n",
       "    <tr>\n",
       "      <th>3092</th>\n",
       "      <td>3092</td>\n",
       "      <td>TIBU</td>\n",
       "      <td>-72.736200</td>\n",
       "      <td>8.630500</td>\n",
       "      <td>171237.598550</td>\n",
       "    </tr>\n",
       "    <tr>\n",
       "      <th>3100</th>\n",
       "      <td>3100</td>\n",
       "      <td>TUNJ</td>\n",
       "      <td>-73.332600</td>\n",
       "      <td>5.581800</td>\n",
       "      <td>174681.482752</td>\n",
       "    </tr>\n",
       "    <tr>\n",
       "      <th>2734</th>\n",
       "      <td>2734</td>\n",
       "      <td>TUNJ</td>\n",
       "      <td>-73.332600</td>\n",
       "      <td>5.581800</td>\n",
       "      <td>174681.482752</td>\n",
       "    </tr>\n",
       "    <tr>\n",
       "      <th>2667</th>\n",
       "      <td>2667</td>\n",
       "      <td>AQUI</td>\n",
       "      <td>-72.883900</td>\n",
       "      <td>5.545300</td>\n",
       "      <td>179139.667500</td>\n",
       "    </tr>\n",
       "    <tr>\n",
       "      <th>2880</th>\n",
       "      <td>2880</td>\n",
       "      <td>AQUI</td>\n",
       "      <td>-72.883900</td>\n",
       "      <td>5.545300</td>\n",
       "      <td>179139.667500</td>\n",
       "    </tr>\n",
       "    <tr>\n",
       "      <th>2694</th>\n",
       "      <td>2694</td>\n",
       "      <td>HATO</td>\n",
       "      <td>-71.761800</td>\n",
       "      <td>6.153800</td>\n",
       "      <td>185956.063608</td>\n",
       "    </tr>\n",
       "    <tr>\n",
       "      <th>2961</th>\n",
       "      <td>2961</td>\n",
       "      <td>HATO</td>\n",
       "      <td>-71.761800</td>\n",
       "      <td>6.153800</td>\n",
       "      <td>185956.063608</td>\n",
       "    </tr>\n",
       "    <tr>\n",
       "      <th>2717</th>\n",
       "      <td>2717</td>\n",
       "      <td>PAZA</td>\n",
       "      <td>-71.887100</td>\n",
       "      <td>5.878400</td>\n",
       "      <td>195621.396327</td>\n",
       "    </tr>\n",
       "    <tr>\n",
       "      <th>3035</th>\n",
       "      <td>3035</td>\n",
       "      <td>PAZA</td>\n",
       "      <td>-71.887100</td>\n",
       "      <td>5.878400</td>\n",
       "      <td>195621.396327</td>\n",
       "    </tr>\n",
       "    <tr>\n",
       "      <th>2716</th>\n",
       "      <td>2716</td>\n",
       "      <td>PAUT</td>\n",
       "      <td>-72.087900</td>\n",
       "      <td>5.669700</td>\n",
       "      <td>199382.306059</td>\n",
       "    </tr>\n",
       "    <tr>\n",
       "      <th>2902</th>\n",
       "      <td>2902</td>\n",
       "      <td>BURR</td>\n",
       "      <td>-73.667000</td>\n",
       "      <td>8.850600</td>\n",
       "      <td>199564.173239</td>\n",
       "    </tr>\n",
       "    <tr>\n",
       "      <th>2736</th>\n",
       "      <td>2736</td>\n",
       "      <td>VEQU</td>\n",
       "      <td>-73.526800</td>\n",
       "      <td>5.366700</td>\n",
       "      <td>202053.749215</td>\n",
       "    </tr>\n",
       "    <tr>\n",
       "      <th>23814</th>\n",
       "      <td>23814</td>\n",
       "      <td>CAPI</td>\n",
       "      <td>-72.427800</td>\n",
       "      <td>5.351400</td>\n",
       "      <td>213064.888275</td>\n",
       "    </tr>\n",
       "    <tr>\n",
       "      <th>...</th>\n",
       "      <td>...</td>\n",
       "      <td>...</td>\n",
       "      <td>...</td>\n",
       "      <td>...</td>\n",
       "      <td>...</td>\n",
       "    </tr>\n",
       "    <tr>\n",
       "      <th>12193</th>\n",
       "      <td>12193</td>\n",
       "      <td>K298</td>\n",
       "      <td>100.576000</td>\n",
       "      <td>-0.961000</td>\n",
       "      <td>19035323.005496</td>\n",
       "    </tr>\n",
       "    <tr>\n",
       "      <th>12130</th>\n",
       "      <td>12130</td>\n",
       "      <td>K204</td>\n",
       "      <td>100.637700</td>\n",
       "      <td>-0.910800</td>\n",
       "      <td>19036236.010491</td>\n",
       "    </tr>\n",
       "    <tr>\n",
       "      <th>12286</th>\n",
       "      <td>12286</td>\n",
       "      <td>K204</td>\n",
       "      <td>100.637700</td>\n",
       "      <td>-0.910800</td>\n",
       "      <td>19036236.010491</td>\n",
       "    </tr>\n",
       "    <tr>\n",
       "      <th>12159</th>\n",
       "      <td>12159</td>\n",
       "      <td>BALA</td>\n",
       "      <td>100.637700</td>\n",
       "      <td>-0.910800</td>\n",
       "      <td>19036236.010491</td>\n",
       "    </tr>\n",
       "    <tr>\n",
       "      <th>12132</th>\n",
       "      <td>12132</td>\n",
       "      <td>K206</td>\n",
       "      <td>100.638800</td>\n",
       "      <td>-0.911500</td>\n",
       "      <td>19036377.420180</td>\n",
       "    </tr>\n",
       "    <tr>\n",
       "      <th>12129</th>\n",
       "      <td>12129</td>\n",
       "      <td>K203</td>\n",
       "      <td>100.634700</td>\n",
       "      <td>-0.926800</td>\n",
       "      <td>19037262.096746</td>\n",
       "    </tr>\n",
       "    <tr>\n",
       "      <th>12262</th>\n",
       "      <td>12262</td>\n",
       "      <td>1339</td>\n",
       "      <td>100.622200</td>\n",
       "      <td>-0.943400</td>\n",
       "      <td>19037586.208215</td>\n",
       "    </tr>\n",
       "    <tr>\n",
       "      <th>12115</th>\n",
       "      <td>12115</td>\n",
       "      <td>1339</td>\n",
       "      <td>100.622200</td>\n",
       "      <td>-0.943400</td>\n",
       "      <td>19037586.208215</td>\n",
       "    </tr>\n",
       "    <tr>\n",
       "      <th>12155</th>\n",
       "      <td>12155</td>\n",
       "      <td>1339</td>\n",
       "      <td>100.622200</td>\n",
       "      <td>-0.943400</td>\n",
       "      <td>19037586.208215</td>\n",
       "    </tr>\n",
       "    <tr>\n",
       "      <th>12192</th>\n",
       "      <td>12192</td>\n",
       "      <td>K297</td>\n",
       "      <td>100.622200</td>\n",
       "      <td>-0.943500</td>\n",
       "      <td>19037594.067275</td>\n",
       "    </tr>\n",
       "    <tr>\n",
       "      <th>12312</th>\n",
       "      <td>12312</td>\n",
       "      <td>P004</td>\n",
       "      <td>100.750300</td>\n",
       "      <td>-1.176700</td>\n",
       "      <td>19065960.339064</td>\n",
       "    </tr>\n",
       "    <tr>\n",
       "      <th>12229</th>\n",
       "      <td>12229</td>\n",
       "      <td>P004</td>\n",
       "      <td>100.750300</td>\n",
       "      <td>-1.176700</td>\n",
       "      <td>19065960.339064</td>\n",
       "    </tr>\n",
       "    <tr>\n",
       "      <th>23719</th>\n",
       "      <td>23719</td>\n",
       "      <td>BNOA</td>\n",
       "      <td>115.209917</td>\n",
       "      <td>-8.746500</td>\n",
       "      <td>19080254.105098</td>\n",
       "    </tr>\n",
       "    <tr>\n",
       "      <th>12220</th>\n",
       "      <td>12220</td>\n",
       "      <td>KAYA</td>\n",
       "      <td>109.410700</td>\n",
       "      <td>0.812300</td>\n",
       "      <td>19087378.915620</td>\n",
       "    </tr>\n",
       "    <tr>\n",
       "      <th>12235</th>\n",
       "      <td>12235</td>\n",
       "      <td>PAGA</td>\n",
       "      <td>100.215000</td>\n",
       "      <td>-2.776900</td>\n",
       "      <td>19132068.976508</td>\n",
       "    </tr>\n",
       "    <tr>\n",
       "      <th>12181</th>\n",
       "      <td>12181</td>\n",
       "      <td>JAMB</td>\n",
       "      <td>103.644800</td>\n",
       "      <td>-1.639700</td>\n",
       "      <td>19306385.921674</td>\n",
       "    </tr>\n",
       "    <tr>\n",
       "      <th>12223</th>\n",
       "      <td>12223</td>\n",
       "      <td>KULU</td>\n",
       "      <td>102.253100</td>\n",
       "      <td>-3.785200</td>\n",
       "      <td>19381840.004899</td>\n",
       "    </tr>\n",
       "    <tr>\n",
       "      <th>12180</th>\n",
       "      <td>12180</td>\n",
       "      <td>ENGG</td>\n",
       "      <td>102.163900</td>\n",
       "      <td>-5.291500</td>\n",
       "      <td>19455028.981548</td>\n",
       "    </tr>\n",
       "    <tr>\n",
       "      <th>12236</th>\n",
       "      <td>12236</td>\n",
       "      <td>PALE</td>\n",
       "      <td>104.699900</td>\n",
       "      <td>-2.900400</td>\n",
       "      <td>19485680.485168</td>\n",
       "    </tr>\n",
       "    <tr>\n",
       "      <th>24733</th>\n",
       "      <td>24733</td>\n",
       "      <td>JOG2</td>\n",
       "      <td>110.372719</td>\n",
       "      <td>-7.763772</td>\n",
       "      <td>19623511.556977</td>\n",
       "    </tr>\n",
       "    <tr>\n",
       "      <th>12222</th>\n",
       "      <td>12222</td>\n",
       "      <td>KRUI</td>\n",
       "      <td>103.934200</td>\n",
       "      <td>-5.188400</td>\n",
       "      <td>19624055.574072</td>\n",
       "    </tr>\n",
       "    <tr>\n",
       "      <th>27828</th>\n",
       "      <td>27828</td>\n",
       "      <td>XMIS</td>\n",
       "      <td>105.688495</td>\n",
       "      <td>-10.449972</td>\n",
       "      <td>19624410.286177</td>\n",
       "    </tr>\n",
       "    <tr>\n",
       "      <th>12107</th>\n",
       "      <td>12107</td>\n",
       "      <td>XMAS</td>\n",
       "      <td>105.689600</td>\n",
       "      <td>-10.449600</td>\n",
       "      <td>19624489.831482</td>\n",
       "    </tr>\n",
       "    <tr>\n",
       "      <th>12177</th>\n",
       "      <td>12177</td>\n",
       "      <td>DEMP</td>\n",
       "      <td>104.927500</td>\n",
       "      <td>-5.114500</td>\n",
       "      <td>19703407.590527</td>\n",
       "    </tr>\n",
       "    <tr>\n",
       "      <th>12164</th>\n",
       "      <td>12164</td>\n",
       "      <td>CINA</td>\n",
       "      <td>104.557100</td>\n",
       "      <td>-5.911600</td>\n",
       "      <td>19724682.967250</td>\n",
       "    </tr>\n",
       "    <tr>\n",
       "      <th>12163</th>\n",
       "      <td>12163</td>\n",
       "      <td>BPIL</td>\n",
       "      <td>105.638600</td>\n",
       "      <td>-6.532000</td>\n",
       "      <td>19862564.605958</td>\n",
       "    </tr>\n",
       "    <tr>\n",
       "      <th>12152</th>\n",
       "      <td>12152</td>\n",
       "      <td>0705</td>\n",
       "      <td>106.849000</td>\n",
       "      <td>-6.490900</td>\n",
       "      <td>19942974.342034</td>\n",
       "    </tr>\n",
       "    <tr>\n",
       "      <th>23608</th>\n",
       "      <td>23608</td>\n",
       "      <td>BAKO</td>\n",
       "      <td>106.848910</td>\n",
       "      <td>-6.491055</td>\n",
       "      <td>19942991.089480</td>\n",
       "    </tr>\n",
       "    <tr>\n",
       "      <th>12158</th>\n",
       "      <td>12158</td>\n",
       "      <td>BAKO</td>\n",
       "      <td>106.849100</td>\n",
       "      <td>-6.491100</td>\n",
       "      <td>19942997.041816</td>\n",
       "    </tr>\n",
       "    <tr>\n",
       "      <th>12064</th>\n",
       "      <td>12064</td>\n",
       "      <td>BAKO</td>\n",
       "      <td>106.849100</td>\n",
       "      <td>-6.491100</td>\n",
       "      <td>19942997.041816</td>\n",
       "    </tr>\n",
       "  </tbody>\n",
       "</table>\n",
       "<p>27868 rows × 5 columns</p>\n",
       "</div>"
      ],
      "text/plain": [
       "       Unnamed: 0  CODE   Longitude   Latitude         Distance\n",
       "2632         2632  BUCM  -73.181700   7.116900      6977.043272\n",
       "2673         2673  BUCM  -73.181700   7.116900      6977.043272\n",
       "2901         2901  BUCM  -73.181700   7.116900      6977.043272\n",
       "2690         2690  FLOR  -73.088600   7.041600     11435.389590\n",
       "2668         2668  ARAT  -73.052200   6.703200     49053.488836\n",
       "3048         3048  PLON  -72.649000   7.384000     58911.122695\n",
       "25086       25086  MECE  -73.712000   7.107200     65144.656963\n",
       "2728         2728  SOCO  -73.241700   6.462500     76345.500651\n",
       "2871         2871  ABRE  -73.225900   8.086800    106027.388816\n",
       "24149       24149  CUC1  -72.512800   7.932300    110911.258013\n",
       "3075         3075  SARD  -72.806800   8.096700    112050.309243\n",
       "2712         2712  OLIV  -73.321200   6.140100    113199.621271\n",
       "2872         2872  ACHI  -73.576700   8.246200    132922.098131\n",
       "2709         2709  MONI  -73.573300   5.863800    150269.131127\n",
       "2714         2714  PAIP  -73.117700   5.755200    153850.493211\n",
       "3036         3036  PBER  -74.410900   6.465700    160747.984512\n",
       "2729         2729  TAME  -71.767900   6.446800    168193.546279\n",
       "3092         3092  TIBU  -72.736200   8.630500    171237.598550\n",
       "3100         3100  TUNJ  -73.332600   5.581800    174681.482752\n",
       "2734         2734  TUNJ  -73.332600   5.581800    174681.482752\n",
       "2667         2667  AQUI  -72.883900   5.545300    179139.667500\n",
       "2880         2880  AQUI  -72.883900   5.545300    179139.667500\n",
       "2694         2694  HATO  -71.761800   6.153800    185956.063608\n",
       "2961         2961  HATO  -71.761800   6.153800    185956.063608\n",
       "2717         2717  PAZA  -71.887100   5.878400    195621.396327\n",
       "3035         3035  PAZA  -71.887100   5.878400    195621.396327\n",
       "2716         2716  PAUT  -72.087900   5.669700    199382.306059\n",
       "2902         2902  BURR  -73.667000   8.850600    199564.173239\n",
       "2736         2736  VEQU  -73.526800   5.366700    202053.749215\n",
       "23814       23814  CAPI  -72.427800   5.351400    213064.888275\n",
       "...           ...   ...         ...        ...              ...\n",
       "12193       12193  K298  100.576000  -0.961000  19035323.005496\n",
       "12130       12130  K204  100.637700  -0.910800  19036236.010491\n",
       "12286       12286  K204  100.637700  -0.910800  19036236.010491\n",
       "12159       12159  BALA  100.637700  -0.910800  19036236.010491\n",
       "12132       12132  K206  100.638800  -0.911500  19036377.420180\n",
       "12129       12129  K203  100.634700  -0.926800  19037262.096746\n",
       "12262       12262  1339  100.622200  -0.943400  19037586.208215\n",
       "12115       12115  1339  100.622200  -0.943400  19037586.208215\n",
       "12155       12155  1339  100.622200  -0.943400  19037586.208215\n",
       "12192       12192  K297  100.622200  -0.943500  19037594.067275\n",
       "12312       12312  P004  100.750300  -1.176700  19065960.339064\n",
       "12229       12229  P004  100.750300  -1.176700  19065960.339064\n",
       "23719       23719  BNOA  115.209917  -8.746500  19080254.105098\n",
       "12220       12220  KAYA  109.410700   0.812300  19087378.915620\n",
       "12235       12235  PAGA  100.215000  -2.776900  19132068.976508\n",
       "12181       12181  JAMB  103.644800  -1.639700  19306385.921674\n",
       "12223       12223  KULU  102.253100  -3.785200  19381840.004899\n",
       "12180       12180  ENGG  102.163900  -5.291500  19455028.981548\n",
       "12236       12236  PALE  104.699900  -2.900400  19485680.485168\n",
       "24733       24733  JOG2  110.372719  -7.763772  19623511.556977\n",
       "12222       12222  KRUI  103.934200  -5.188400  19624055.574072\n",
       "27828       27828  XMIS  105.688495 -10.449972  19624410.286177\n",
       "12107       12107  XMAS  105.689600 -10.449600  19624489.831482\n",
       "12177       12177  DEMP  104.927500  -5.114500  19703407.590527\n",
       "12164       12164  CINA  104.557100  -5.911600  19724682.967250\n",
       "12163       12163  BPIL  105.638600  -6.532000  19862564.605958\n",
       "12152       12152  0705  106.849000  -6.490900  19942974.342034\n",
       "23608       23608  BAKO  106.848910  -6.491055  19942991.089480\n",
       "12158       12158  BAKO  106.849100  -6.491100  19942997.041816\n",
       "12064       12064  BAKO  106.849100  -6.491100  19942997.041816\n",
       "\n",
       "[27868 rows x 5 columns]"
      ]
     },
     "execution_count": 13,
     "metadata": {},
     "output_type": "execute_result"
    }
   ],
   "source": [
    "UNAVCO_list.sort_values(['Distance'], ascending=[True], inplace=True)\n",
    "UNAVCO_list"
   ]
  },
  {
   "cell_type": "code",
   "execution_count": null,
   "metadata": {
    "collapsed": false,
    "scrolled": true
   },
   "outputs": [],
   "source": [
    "#search the nearest land stage\n",
    "IDmin = UNAVCO_list.Distance.argmin()\n",
    "S_Code = UNAVCO_list.CODE[IDmin]\n",
    "S_Dist = UNAVCO_list.Distance[IDmin]\n",
    "print S_Code,UNAVCO_list.Longitude[IDmin],UNAVCO_list.Latitude[IDmin],S_Dist"
   ]
  },
  {
   "cell_type": "markdown",
   "metadata": {},
   "source": [
    "Now I have the Name of the Lan Station that I need.\n"
   ]
  },
  {
   "cell_type": "code",
   "execution_count": null,
   "metadata": {
    "collapsed": false,
    "scrolled": true
   },
   "outputs": [],
   "source": [
    "UNAVCO_FTP = 'data-out.unavco.org'\n",
    "NASA_FTP = 'cddis.gsfc.nasa.gov'\n",
    "\n",
    "try:\n",
    "    f = FTP(NASA_FTP)\n",
    "    #f = FTP(UNAVCO_FTP)\n",
    "    print f\n",
    "    \n",
    "except:\n",
    "    pass\n",
    "#print \"Welcome:\", f.getwelcome()\n",
    "f.login()\n",
    "\n",
    "#Now I wnat to look the folder that I need.\n",
    "UNAVCO_FTP_path = '/pub/rinex/nav/' + str(InputDate.year) + '/' + str(day_of_year).zfill(3)\n",
    "FTP_path ='/pub/gps/data/daily/'+ str(InputDate.year) + '/' + str(day_of_year).zfill(3) + '/' + str(InputDate.year)[2:] + 'n'\n",
    "\n",
    "#[data-out.unavco.org] --> /pub/rinex/nav/2017/002\n",
    "#[cddis.gsfc.nasa.gov] --> /pub/gps/data/daily/2017/001/17n --> \n",
    "#    FTP_path ='/pub/gps/data/daily/'+ str_year + '/' + str(day_of_year).zfill(3) + '/' + str_year[2:] + 'n'\n",
    "\n",
    "print \"Folder Needed:\", f.cwd(FTP_path)\n",
    "print \"Current working directory:\", f.pwd()"
   ]
  },
  {
   "cell_type": "code",
   "execution_count": null,
   "metadata": {
    "collapsed": false,
    "scrolled": false
   },
   "outputs": [],
   "source": [
    "import os, sys\n",
    "from ftplib import FTP \n",
    "\n",
    "\n",
    "LineData = 0\n",
    "while (1):\n",
    "    try:\n",
    "        if(LineData>70):\n",
    "            break\n",
    "        IDmin = UNAVCO_list.Distance.argmin()\n",
    "        NameStation = UNAVCO_list.CODE[IDmin]\n",
    "        LineData += 1\n",
    "        NameFile = NameStation.lower() + str(day_of_year).zfill(3) + '0.' + str(InputDate.year)[2:] + 'n.Z' \n",
    "        #For Now just GPS constallartion, I mean, .n file.'\n",
    "        clear_output(wait=True)\n",
    "        print(\"Try with station: %s\" % (NameFile),\"to \" + str(float_formatter(UNAVCO_list.Distance[IDmin]/1000)) + \" [Km]\")\n",
    "        print\n",
    "        \n",
    "        f.voidcmd(\"TYPE I\")\n",
    "        datasock, size = f.ntransfercmd(\"RETR \"+ NameFile)\n",
    "        bytes_so_far = 0\n",
    "        fd = open(NameFile, 'wb')\n",
    "        \n",
    "        while 1:\n",
    "            buf = datasock.recv(2048) \n",
    "            \n",
    "            fd.write(buf)\n",
    "            bytes_so_far += len(buf)\n",
    "            clear_output(wait=True)\n",
    "            print \"Received\",bytes_so_far, \"of %d total bytes (%.1f%%)\" % (size, 100 * bytes_so_far / float(size)),\"bytes\"\n",
    "            sys.stdout.flush()\n",
    "            if not buf:\n",
    "                break\n",
    "                 \n",
    "            #if bytes_so_far == len(buf):\n",
    "                #print \n",
    "                #break\n",
    "        print(\"File %s\" % (NameFile),\"to \" + str(float_formatter(UNAVCO_list.Distance[IDmin]/1000)) + \" [Km]\")\n",
    "        fd.close()\n",
    "        datasock.close()\n",
    "        f.voidresp\n",
    "        f.close()\n",
    "        break\n",
    "    except:\n",
    "        UNAVCO_list = UNAVCO_list[UNAVCO_list.CODE != NameStation]"
   ]
  },
  {
   "cell_type": "code",
   "execution_count": null,
   "metadata": {
    "collapsed": false
   },
   "outputs": [],
   "source": [
    "NameFile"
   ]
  },
  {
   "cell_type": "code",
   "execution_count": null,
   "metadata": {
    "collapsed": false
   },
   "outputs": [],
   "source": [
    "gunzip_some_file(NameFile,'navRINEX',0)"
   ]
  },
  {
   "cell_type": "code",
   "execution_count": null,
   "metadata": {
    "collapsed": false
   },
   "outputs": [],
   "source": [
    "#!head -29 $navRINEX"
   ]
  },
  {
   "cell_type": "code",
   "execution_count": 14,
   "metadata": {
    "collapsed": false
   },
   "outputs": [
    {
     "data": {
      "text/plain": [
       "483907"
      ]
     },
     "execution_count": 14,
     "metadata": {},
     "output_type": "execute_result"
    }
   ],
   "source": [
    "UTC2GPS(datetime.datetime.now())"
   ]
  },
  {
   "cell_type": "code",
   "execution_count": 15,
   "metadata": {
    "collapsed": false
   },
   "outputs": [],
   "source": [
    "def MeanToEccentricAnomaly(e,M):\n",
    "    pi = math.pi\n",
    "    if (e >= 1.0):\n",
    "        print(\"MeanToEccenAnomaly does not support parabolic or hyperbolic orbits!\")\n",
    "    # Make sure M lies between -pi and pi\n",
    "    M = math.fmod(M, 2*pi);\n",
    "    if (M < pi):\n",
    "        M = M + 2*pi\n",
    "    elif (M > pi):\n",
    "        M = M - 2*pi\n",
    "\n",
    "    if ((M > -pi and M < 0) or (M > pi)):\n",
    "        E = M - e\n",
    "    else:\n",
    "        E = M + e\n",
    "\n",
    "    Enew = E\n",
    "    zero = 1E-6;\n",
    "    first = 1;\n",
    "    while (first or abs(Enew - E) > zero):\n",
    "        first = 0\n",
    "        E = Enew\n",
    "        Enew = E + (M - E + e*math.sin(E))/(1 - e*math.cos(E))\n",
    "\n",
    "    E = Enew;\n",
    "    return E"
   ]
  },
  {
   "cell_type": "code",
   "execution_count": 16,
   "metadata": {
    "collapsed": false
   },
   "outputs": [],
   "source": [
    "def TrueAnomaly(ec,E):\n",
    "    '''\n",
    "    ec = eccentricty  -  E = Eccentricity Anomaly\n",
    "    '''\n",
    "    return  math.atan( ( math.sqrt(1-ec**2)*math.sin(E) )/(math.cos(E) - ec  )  )"
   ]
  },
  {
   "cell_type": "code",
   "execution_count": 17,
   "metadata": {
    "collapsed": true
   },
   "outputs": [],
   "source": [
    "def GetPositionECEF(rj,fj):\n",
    "    '''\n",
    "    Position in Orbital Plane\n",
    "    rj: Radial Distance - fj: True Anomaly\n",
    "    http://web.ics.purdue.edu/~ecalais/teaching/geodesy/EAS_591T_2003_lab_4.htm\n",
    "    '''\n",
    "    x = rj * math.cos(fj)\n",
    "    y = rj * math.sin(fj)\n",
    "    return x,y"
   ]
  },
  {
   "cell_type": "code",
   "execution_count": 18,
   "metadata": {
    "collapsed": true
   },
   "outputs": [],
   "source": [
    "def GetPositionOrbitPlane(a,E,e):\n",
    "    '''\n",
    "        a: semi-major axis    E: Ecentric Anomaly   e: eccentricity\n",
    "        http://ssd.jpl.nasa.gov/txt/aprx_pos_planets.pdf\n",
    "    '''\n",
    "    x = a*(math.cos(E) - e)\n",
    "    y = a* math.sqrt(1-e**2)*math.sin(E)\n",
    "    z = 0\n",
    "    return x,y\n",
    "    "
   ]
  },
  {
   "cell_type": "code",
   "execution_count": 19,
   "metadata": {
    "collapsed": true
   },
   "outputs": [],
   "source": [
    "def GetFirstPointAries(r,omg,w,v,i):\n",
    "    '''\n",
    "    r: Radial distance , Omega: Longitud for ascending node , w:  Agument pf perigee \n",
    "    v: True Anomaly    , i:  Inclination\n",
    "    http://www.davidcolarusso.com/astro/#helioeclipxyz\n",
    "    '''\n",
    "    x = r*(math.cos(omg) * math.cos(w+v) - math.sin(omg)*math.sin(w+v)*math.cos(i))\n",
    "    y = r*(math.sin(omg) * math.cos(w+v) - math.cos(omg)*math.sin(w+v)*math.cos(i))\n",
    "    z = r*math.sin(w+v)*math.sin(i)\n",
    "    return x,y,z"
   ]
  },
  {
   "cell_type": "code",
   "execution_count": 20,
   "metadata": {
    "collapsed": false
   },
   "outputs": [],
   "source": [
    "def GetHeliocentricCoordenates(x,y,z,i):\n",
    "    '''\n",
    "    From x,y,z area First Posint Aries coordenates\n",
    "    i: Inclination     x,y,z: Orbital Plane Position\n",
    "    '''\n",
    "    y2 = (y*math.cos(i)-z*math.sin(i))\n",
    "    z2 = (y*math.sin(i)+z*math.cos(i))\n",
    "    return x,y2,z2"
   ]
  },
  {
   "cell_type": "code",
   "execution_count": 21,
   "metadata": {
    "collapsed": false
   },
   "outputs": [],
   "source": [
    "def GetRightAscensionDeclination(x,y,z):\n",
    "    '''\n",
    "    x,y,z: Position in Heliocentric Coordenates\n",
    "    '''\n",
    "    RA = math.atan(y/x)\n",
    "    DE = math.atan(z/(math.sqrt(x**2+y**2)))\n",
    "    return RA, DE"
   ]
  },
  {
   "cell_type": "code",
   "execution_count": 22,
   "metadata": {
    "collapsed": true
   },
   "outputs": [],
   "source": [
    "def GetRA_Dec(E,ec,a,w,omg,i):\n",
    "    '''\n",
    "    RA: Right Ascension    -  Dec: Declination\n",
    "    E = Eccentricity Anomaly    - ec: eccentricity        -  a: semi major axis\n",
    "    http://www.davidcolarusso.com/astro/#helioeclipxyz\n",
    "    '''\n",
    "    \n",
    "    v = 2* math.tan( math.sqrt( (1+ec)/(1-ec) )* math.tan(E/2) )\n",
    "    r = (a*1-ec**2)/(1+ec*math.cos(v))\n",
    "    x = r*(math.cos(omg) * math.cos(w+v) - math.sin(omg)*math.sin(w+v)*math.cos(i))\n",
    "    y = r*(math.sin(omg) * math.cos(w+v) - math.cos(omg)*math.sin(w+v)*math.cos(i))\n",
    "    z = r*math.sin(w+v)*math.sin(i)\n",
    "    ra,dec = GetRightAscensionDeclination(x,y,z)\n",
    "    print ra,dec"
   ]
  },
  {
   "cell_type": "code",
   "execution_count": 31,
   "metadata": {
    "collapsed": false
   },
   "outputs": [],
   "source": [
    "def MatrixRotation(omg,w,i,r):\n",
    "    '''\n",
    "    omg: Longitude for ascending node   - w: Argument of perigee   - i:  Inclination    - r: Radial Distance \n",
    "    http://web.ics.purdue.edu/~ecalais/teaching/geodesy/EAS_591T_2003_lab_4.htm\n",
    "    '''\n",
    "    A = math.cos(omg)*math.cos(w) - math.sin(omg)*math.sin(w)*math.cos(i)\n",
    "    B = math.cos(omg)*math.sin(w) - math.sin(omg)*math.cos(w)*math.cos(i)\n",
    "    C = math.sin(omg)*math.sin(i)\n",
    "    \n",
    "    D = math.sin(omg)*math.cos(w) - math.cos(omg)*math.sin(w)*math.cos(i)\n",
    "    E = math.sin(omg)*math.sin(w) - math.cos(omg)*math.cos(w)*math.cos(i)\n",
    "    F = (-1.)*math.cos(omg)*math.sin(i)\n",
    "    \n",
    "    G = math.sin(w)*math.sin(i)\n",
    "    H = math.cos(w)*math.sin(i)\n",
    "    I = math.cos(i)\n",
    "    \n",
    "    R = np.array([[A,B,C], [D,E,F], [G,H,I]])\n",
    "    #print R\n",
    "    #T = R*r\n",
    "    T = np.dot(r,R)\n",
    "    PosECEF = tuple(map(tuple, T))\n",
    "    #print \"ECEF coordinate: \", T\n",
    "    return PosECEF[0]\n",
    "    "
   ]
  },
  {
   "cell_type": "markdown",
   "metadata": {},
   "source": [
    "Info about coordinate system [here](https://stereo-ssc.nascom.nasa.gov/coordinates_explanation.shtml)"
   ]
  },
  {
   "cell_type": "code",
   "execution_count": 32,
   "metadata": {
    "collapsed": false
   },
   "outputs": [],
   "source": [
    "def future_position(e,t_data,GPSweek):\n",
    "    import math\n",
    "    #%run -i utils/utils.py\n",
    "    \n",
    "    GM = 3.986004418e14     # [m^3 / s^2] value of earth universal gravitational parameter for GPS user. \n",
    "    w_e = 7.2921151467e-5   # [rad/s] Value of earth rotation\n",
    "    toe = e.HOWtime   # Ephemeris time\n",
    "    M_o = e.M0  # Mean Anomaly\n",
    "    #print \"Mean ANomaly from RINEX: \",M_o\n",
    "    \n",
    "    a = e.A # semi-major axis\n",
    "    ec = e.ecc #Eccentricity\n",
    "    delta_n = e.dn  # mean motion difference From Computed value\n",
    "    #n_o = math.sqrt(GM/math.pow(a,3))   # computed mean motion\n",
    "    t = t_data - toe  # Time from ephemeris refrence epoc\n",
    "    \n",
    "    if t < -302400:\n",
    "        t += 604800\n",
    "    if t > 302400:\n",
    "        t -= 604800\n",
    "        \n",
    "    #print \"my new time: \", t_data, \" - ephemeris time: \", toe, \" - diff time: \",t\n",
    "    u_j = M_o + (math.sqrt(GM/(a**3)) + delta_n) * t          #Mean Anomaly at my time (rad/secs)\n",
    "    #n = n_o + delta_n  #corrected mean motion\n",
    "    #M_k = M_o + n     # Mean Anomaly\n",
    "    #E = GetEccentricAnomaly(ec,u_j,4)   # E = eccentric anomaly\n",
    "   \n",
    "    E = MeanToEccentricAnomaly(ec,u_j)\n",
    "    #print \"Eccentric Anomaly : \",E\n",
    "    M = E - ec*math.sin(E)\n",
    "    fj = TrueAnomaly(ec,E)\n",
    "    # with the E, I can get M,, the M in the new ephoc M = E - ec*sin(E)\n",
    "    Omegaj = e.OMEGA0 + (e.OMEGAdot - w_e)*t - w_e*toe  #Longitude for ascending node\n",
    "    #print \"omega_j: \",Omegaj\n",
    "    wj = e.w + fj + e.Cuc*math.cos(2*(e.w+fj)) + e.Cus*math.sin(2*(e.w+fj)) #Argument of Perigee\n",
    "    #print \"Argument of peroigee:\",wj\n",
    "    rj = a*(1 - ec*math.cos(E)) + e.Crc*math.cos(2*(e.w+fj)) + e.Crs*math.sin(2*(e.w+fj)) #Radial distance\n",
    "    ij = e.i0 + e.idot*t + e.Cic*math.cos(2*(e.w+fj)) + e.Cis*math.sin(2*(e.w+fj)) # Inclination\n",
    "    #print \"Radial distance: \", rj, \" - new Inclination:\", ij\n",
    "    \n",
    "    #toECEF frame\n",
    "    x,y = GetPositionECEF(rj,fj)\n",
    "    r = np.array([[x,y,0]])\n",
    "    POS = MatrixRotation(Omegaj,wj,ij,r)\n",
    "    x2,y2 = GetPositionOrbitPlane(a,E,ec)\n",
    "    x3,y3,z3 = GetFirstPointAries(rj,Omegaj,wj,fj,ij)\n",
    "    x,y,z = GetHeliocentricCoordenates(x3,y3,z3,ij)\n",
    "    #print \"Right Ascension - Declination: \",GetRA_Dec(E,ec,a,wj,Omegaj,ij)\n",
    "    return POS"
   ]
  },
  {
   "cell_type": "code",
   "execution_count": 33,
   "metadata": {
    "collapsed": false
   },
   "outputs": [
    {
     "name": "stdout",
     "output_type": "stream",
     "text": [
      "PRN:  GPS 1\n",
      "GPS time: 280800\n",
      "\n"
     ]
    }
   ],
   "source": [
    "import datetime\n",
    "PRN = 23\n",
    "#import ephem\n",
    "\n",
    "navfile = 'navRINEX'\n",
    "navHeader, navData = gpstk.readRinex3Nav(navfile)\n",
    "# setup ephemeris store to look for satellite positions\n",
    "bcestore = gpstk.GPSEphemerisStore()\n",
    "contador = 1\n",
    " \n",
    "for navDataObj in navData:\n",
    "    ephem = navDataObj.toGPSEphemeris()\n",
    "    bcestore.addEphemeris(ephem)\n",
    "    if contador == 1:\n",
    "        print \"PRN: \",ephem.satID\n",
    "        globalEphem = ephem\n",
    "        POS = future_position(ephem,280850,1937)\n",
    "        print \"GPS time:\", ephem.HOWtime\n",
    "        print \n",
    "        contador += 1 \n",
    "bcestore.SearchNear()\n",
    "navData.close()"
   ]
  },
  {
   "cell_type": "code",
   "execution_count": 34,
   "metadata": {
    "collapsed": false
   },
   "outputs": [],
   "source": [
    "def LLA2ECEF(longitude,latitude):\n",
    "    \"\"\"Convert lat, lon, alt to Earth-centered, Earth-fixed coordinates.\n",
    "    Input: lla - (lat, lon, alt) in (decimal degrees, decimal degees, m)\n",
    "    Output: ecef - (x, y, z) in (m, m, m)\n",
    "    \"\"\"\n",
    "    point = str(str(longitude)+','+str(latitude))\n",
    "    #Decompose the input\n",
    "    global lat, lon, alt\n",
    "    lat = deg2rad(latitude)\n",
    "    lon = deg2rad(longitude)\n",
    "    g = geocoder.elevation(point) #lon,lat\n",
    "    alt =  g.meters #elevation\n",
    "    #Calculate length of the normal to the ellipsoid\n",
    "    N = WGS84.a / math.sqrt(1 - (WGS84.e * math.sin(lat))**2)\n",
    "    #Calculate ecef coordinates\n",
    "    x = (N + alt) * math.cos(lat) * math.cos(lon)\n",
    "    y = (N + alt) * math.cos(lat) * math.sin(lon)\n",
    "    z = (N * (1 - WGS84.e**2) + alt) * math.sin(lat)\n",
    "    #Return the ecef coordinates\n",
    "    return (x, y, z)"
   ]
  },
  {
   "cell_type": "code",
   "execution_count": 35,
   "metadata": {
    "collapsed": false
   },
   "outputs": [],
   "source": [
    "def ECEF2SEZ(satellite_position_ecef,receiver_position_ecef):\n",
    "    \"\"\"\n",
    "    First, pos to SEZ (South - East - Local Vertical)\n",
    "    Function takes receiver and satellite locations, both in ECEF format and returns\n",
    "    satellite location relating to receiver position in ecef format. \n",
    "    Function first substract distances to get new satellite position but this is\n",
    "    calculated to parallel coordinate system. We need to rotate moved coordinate\n",
    "    system to be rectangluar to tangential surface to get right azimuth and\n",
    "    elevation angles.\n",
    "    \"\"\"\n",
    "    fi = lat\n",
    "    lam = lon\n",
    "    h = alt\n",
    "    position = list(satellite_position_ecef)\n",
    "    R = list(receiver_position_ecef)\n",
    "    #Substract position points to get satellite position relating\n",
    "    #to receiver postion on earth \n",
    "    pos = [0, 0, 0]\n",
    "    pos[0] = ((position[0]) - (R[0]))\n",
    "    pos[1] = ((position[1]) - (R[1]))\n",
    "    pos[2] = ((position[2]) - (R[2]))\n",
    "    #Rotation matrix for coordinate axis twist\n",
    "    rot = np.array([[math.sin(fi)*math.cos(lam), math.sin(fi)* math.sin(lam), -math.cos(fi)], \n",
    "        [-math.sin(lam), math.cos(lam), 0],\n",
    "        [math.cos(fi)*math.cos(lam), math.cos(fi)*math.sin(lam), math.sin(fi)]])\n",
    "    #Marix product to get coordinates rectangular to tangetial surface on \n",
    "    #receiver location\n",
    "    sez = np.dot(rot, pos)\n",
    "    s = sez[0]\n",
    "    e = sez[1] \n",
    "    z = sez[2]\n",
    "    return sez"
   ]
  },
  {
   "cell_type": "code",
   "execution_count": 36,
   "metadata": {
    "collapsed": true
   },
   "outputs": [],
   "source": [
    "def azimuthAndEvevation(sez):\n",
    "    \"\"\"\n",
    "    Function takes twisted coordinates and returns azimuth and\n",
    "    elevation angle of the satellite relating to receviver \n",
    "    \"\"\"\n",
    "    print sez\n",
    "    s = sez[0]\n",
    "    e = sez[1]\n",
    "    z = sez[2]\n",
    "    distance = math.sqrt(s**2 + e**2 + z**2)\n",
    "    El = rad2deg(math.asin(z / distance))\n",
    "    Az = rad2deg(math.atan2(e, -s))\n",
    "    #Azimuth angle is in range [0, 360] degrees\n",
    "    Az = Az % 360\n",
    "    #Elevation angle is in range [0, 90] degrees\n",
    "    El = El % 90\n",
    "    return Az, El"
   ]
  },
  {
   "cell_type": "code",
   "execution_count": 37,
   "metadata": {
    "collapsed": false
   },
   "outputs": [],
   "source": [
    "def ECEFtoAzElev(pos,lon,lat):\n",
    "    '''\n",
    "    pos: Position of satellite in ECEF\n",
    "    lon: Longitude of receptor in earth\n",
    "    lat: Latitude of receptor in earth\n",
    "    '''\n",
    "    posECEF = LLA2ECEF(lon,lat)\n",
    "    EarthPosECEF = POS\n",
    "    sez = ECEF2SEZ(EarthPosECEF,posECEF)\n",
    "    Az,El = azimuthAndEvevation(sez)\n",
    "    return Az,El"
   ]
  },
  {
   "cell_type": "code",
   "execution_count": 38,
   "metadata": {
    "collapsed": false
   },
   "outputs": [
    {
     "name": "stdout",
     "output_type": "stream",
     "text": [
      "[ 12850051.14910699 -10682344.43256952  -6759955.591052  ]\n",
      "Azimuth:  219.737002893  Elevation:  67.9748617217\n"
     ]
    }
   ],
   "source": [
    "Longitude_inGround = -73.1224429 \n",
    "Latitude_inGround = 7.1388027\n",
    "AZ,EL = ECEFtoAzElev(POS,Longitude_inGround,Latitude_inGround)\n",
    "print \"Azimuth: \",AZ,\" Elevation: \",EL"
   ]
  },
  {
   "cell_type": "code",
   "execution_count": 39,
   "metadata": {
    "collapsed": true
   },
   "outputs": [],
   "source": [
    "def to_skyplot(elevation, azimut):\n",
    "    e = np.array(elevation)\n",
    "    a = np.array(azimut)\n",
    "    sx = ((90-e)/90) * np.sin (a * (np.pi/180))\n",
    "    sy = ((90-e)/90) * np.cos (a * (np.pi/180))\n",
    "    return (sx,sy)"
   ]
  },
  {
   "cell_type": "code",
   "execution_count": 42,
   "metadata": {
    "collapsed": false
   },
   "outputs": [
    {
     "data": {
      "text/plain": [
       "<matplotlib.collections.PathCollection at 0xa763628c>"
      ]
     },
     "execution_count": 42,
     "metadata": {},
     "output_type": "execute_result"
    },
    {
     "data": {
      "image/png": "[encoded data removed]",
      "text/plain": [
       "<matplotlib.figure.Figure at 0xa766d98c>"
      ]
     },
     "metadata": {},
     "output_type": "display_data"
    }
   ],
   "source": [
    "x,y = to_skyplot(EL,AZ)\n",
    "axes = plt.gca()\n",
    "axes.set_xlim([-1,1])\n",
    "axes.set_ylim([-1,1])\n",
    "plt.scatter(x,y)"
   ]
  },
  {
   "cell_type": "code",
   "execution_count": null,
   "metadata": {
    "collapsed": true
   },
   "outputs": [],
   "source": []
  },
  {
   "cell_type": "code",
   "execution_count": null,
   "metadata": {
    "collapsed": true
   },
   "outputs": [],
   "source": []
  },
  {
   "cell_type": "code",
   "execution_count": null,
   "metadata": {
    "collapsed": true
   },
   "outputs": [],
   "source": []
  },
  {
   "cell_type": "code",
   "execution_count": null,
   "metadata": {
    "collapsed": true
   },
   "outputs": [],
   "source": []
  }
 ],
 "metadata": {
  "kernelspec": {
   "display_name": "Python 2",
   "language": "python",
   "name": "python2"
  },
  "language_info": {
   "codemirror_mode": {
    "name": "ipython",
    "version": 2
   },
   "file_extension": ".py",
   "mimetype": "text/x-python",
   "name": "python",
   "nbconvert_exporter": "python",
   "pygments_lexer": "ipython2",
   "version": "2.7.12"
  }
 },
 "nbformat": 4,
 "nbformat_minor": 1
}
