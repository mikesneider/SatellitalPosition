{
 "cells": [
  {
   "cell_type": "code",
   "execution_count": 1,
   "metadata": {
    "collapsed": true
   },
   "outputs": [],
   "source": [
    "#This is for Know the satellites position with a specific time and date "
   ]
  },
  {
   "cell_type": "code",
   "execution_count": 65,
   "metadata": {
    "collapsed": false
   },
   "outputs": [],
   "source": [
    "#Now I need to know the near \n",
    "import datetime\n",
    "import time\n",
    "import os, sys\n",
    "from ftplib import FTP"
   ]
  },
  {
   "cell_type": "code",
   "execution_count": 66,
   "metadata": {
    "collapsed": true
   },
   "outputs": [],
   "source": [
    "Sat_Time = \"01:20:23\"\n",
    "Sat_Date = \"12/09/2017\"\n",
    "Latitude_inGround = \"45.9945854\"\n",
    "Longitude_inGround = \"-75.656564\""
   ]
  },
  {
   "cell_type": "code",
   "execution_count": 67,
   "metadata": {
    "collapsed": false
   },
   "outputs": [
    {
     "data": {
      "text/plain": [
       "23"
      ]
     },
     "execution_count": 67,
     "metadata": {},
     "output_type": "execute_result"
    }
   ],
   "source": [
    "day_of_year = datetime.datetime.now().timetuple().tm_yday\n",
    "day_of_year"
   ]
  },
  {
   "cell_type": "code",
   "execution_count": 68,
   "metadata": {
    "collapsed": false
   },
   "outputs": [
    {
     "data": {
      "text/plain": [
       "(12, 9, 2017)"
      ]
     },
     "execution_count": 68,
     "metadata": {},
     "output_type": "execute_result"
    }
   ],
   "source": [
    "#Parse String to Date\n",
    "date_sat = datetime.datetime.strptime(Sat_Date,'%d/%m/%Y')\n",
    "date_sat.day,date.month,date.year"
   ]
  },
  {
   "cell_type": "code",
   "execution_count": 69,
   "metadata": {
    "collapsed": false
   },
   "outputs": [
    {
     "data": {
      "text/plain": [
       "(1, 20, 23)"
      ]
     },
     "execution_count": 69,
     "metadata": {},
     "output_type": "execute_result"
    }
   ],
   "source": [
    "#Parse String to Time\n",
    "time_sat = datetime.datetime.strptime(Sat_Time,'%H:%M:%S')\n",
    "time_sat.hour,time_sat.minute,time_sat.second"
   ]
  },
  {
   "cell_type": "code",
   "execution_count": 71,
   "metadata": {
    "collapsed": false
   },
   "outputs": [
    {
     "name": "stdout",
     "output_type": "stream",
     "text": [
      "/pub/gps/data/daily/2017\n",
      "Folder Needed: 250 Directory successfully changed.\n",
      "Current working directory: /pub/gps/data/daily/2017/001/17n\n"
     ]
    }
   ],
   "source": [
    "f = FTP('cddis.gsfc.nasa.gov')\n",
    "#print \"Welcome:\", f.getwelcome()\n",
    "f.login()\n",
    "\n",
    "#f.quit() \n",
    "#Now I wnat to look the folder that I need.\n",
    "#f.login()\n",
    "FTP_path = '/pub/gps/data/daily/'+ str(date_sat.year)\n",
    "path_ = '/pub/gps/data/daily/2017/001/17n'\n",
    "print FTP_path\n",
    "print \"Folder Needed:\", f.cwd(path_)\n",
    "print \"Current working directory:\", f.pwd()"
   ]
  },
  {
   "cell_type": "code",
   "execution_count": 63,
   "metadata": {
    "collapsed": false
   },
   "outputs": [
    {
     "name": "stdout",
     "output_type": "stream",
     "text": [
      "/pub/gps/data/daily/2017\n",
      "Folder Needed: 250 Directory successfully changed.\n"
     ]
    }
   ],
   "source": []
  },
  {
   "cell_type": "code",
   "execution_count": 49,
   "metadata": {
    "collapsed": false
   },
   "outputs": [
    {
     "name": "stdout",
     "output_type": "stream",
     "text": [
      "Received 1259161 of 1259161 total bytes (100.0%)\n"
     ]
    },
    {
     "data": {
      "text/plain": [
       "<bound method FTP.voidresp of <ftplib.FTP instance at 0x7f103d18b5f0>>"
      ]
     },
     "execution_count": 49,
     "metadata": {},
     "output_type": "execute_result"
    }
   ],
   "source": [
    "f = FTP('ftp.kernel.org')\n",
    "f.login()\n",
    "f.cwd('/pub/linux/kernel/v1.0')\n",
    "f.voidcmd(\"TYPE I\")\n",
    "datasock, size = f.ntransfercmd(\"RETR linux-1.0.tar.gz\")\n",
    "bytes_so_far = 0\n",
    "fd = open('linux-1.0.tar.gz', 'wb')\n",
    "while 1:\n",
    "    buf = datasock.recv(2048)\n",
    "    if not buf:\n",
    "        break\n",
    "    fd.write(buf)\n",
    "    bytes_so_far += len(buf)\n",
    "    print \"\\rReceived\", bytes_so_far,\n",
    "    if size:\n",
    "        print \"of %d total bytes (%.1f%%)\" % (\n",
    "            size, 100 * bytes_so_far / float(size)),\n",
    "    else:\n",
    "        print \"bytes\",\n",
    "    sys.stdout.flush()\n",
    "print\n",
    "fd.close()\n",
    "datasock.close()\n",
    "f.voidresp"
   ]
  },
  {
   "cell_type": "code",
   "execution_count": 50,
   "metadata": {
    "collapsed": false
   },
   "outputs": [
    {
     "data": {
      "text/plain": [
       "'250 Directory successfully changed.'"
      ]
     },
     "execution_count": 50,
     "metadata": {},
     "output_type": "execute_result"
    }
   ],
   "source": [
    "f = FTP('ftp.kernel.org')\n",
    "f.login()\n",
    "f.cwd('/pub/linux/kernel/v1.0')"
   ]
  },
  {
   "cell_type": "code",
   "execution_count": null,
   "metadata": {
    "collapsed": true
   },
   "outputs": [],
   "source": []
  }
 ],
 "metadata": {
  "kernelspec": {
   "display_name": "Anaconda 2",
   "language": "python",
   "name": "python2"
  },
  "language_info": {
   "codemirror_mode": {
    "name": "ipython",
    "version": 2
   },
   "file_extension": ".py",
   "mimetype": "text/x-python",
   "name": "python",
   "nbconvert_exporter": "python",
   "pygments_lexer": "ipython2",
   "version": "2.7.12"
  }
 },
 "nbformat": 4,
 "nbformat_minor": 1
}
