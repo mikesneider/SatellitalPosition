{
 "cells": [
  {
   "cell_type": "code",
   "execution_count": 1,
   "metadata": {
    "collapsed": true
   },
   "outputs": [],
   "source": [
    "#This is for Know the satellites position with a specific time and date "
   ]
  },
  {
   "cell_type": "code",
   "execution_count": 2,
   "metadata": {
    "collapsed": false
   },
   "outputs": [],
   "source": [
    "#Now I need to know the near \n",
    "import os, sys, time, datetime, re, gpstk\n",
    "from ftplib import FTP\n",
    "import pandas as pd\n",
    "import numpy as np\n",
    "from IPython.display import clear_output\n",
    "import matplotlib.pyplot as plt\n",
    "import math\n",
    "import geocoder #to get the elevation in a lon-lat point\n",
    "\n",
    "\n",
    "\n",
    "%matplotlib inline\n",
    "#%run -i code/utils.py"
   ]
  },
  {
   "cell_type": "code",
   "execution_count": 3,
   "metadata": {
    "collapsed": false
   },
   "outputs": [],
   "source": [
    "class WGS84:\n",
    "    \"\"\"General parameters defined by the WGS84 system\"\"\"\n",
    "    #Semimajor axis length (m)\n",
    "    a = 6378137.0\n",
    "    #Semiminor axis length (m)\n",
    "    b = 6356752.3142\n",
    "    #Ellipsoid flatness (unitless)\n",
    "    f = (a - b) / a\n",
    "    #Eccentricity (unitless)\n",
    "    e = math.sqrt(f * (2 - f))\n",
    "    #Speed of light (m/s)\n",
    "    c = 299792458.\n",
    "    #Relativistic constant\n",
    "    F = -4.442807633e-10\n",
    "    #Earth's universal gravitational constant\n",
    "    mu = 3.986005e14\n",
    "    #Earth rotation rate (rad/s)\n",
    "    omega_ie = 7.2921151467e-5\n",
    "    secsInWeek = 604800 \n",
    "    secsInDay = 86400 \n",
    "    gpsEpoch = (1980, 1, 6, 0, 0, 0)  # (year, month, day, hh, mm, ss)"
   ]
  },
  {
   "cell_type": "code",
   "execution_count": 4,
   "metadata": {
    "collapsed": true
   },
   "outputs": [],
   "source": [
    "def deg2rad(deg):\n",
    "    \"\"\"Converts degrees to radians\"\"\"\n",
    "    return deg * math.pi / 180\n",
    "\n",
    "def rad2deg(rad):\n",
    "    \"\"\"Converts radians to degrees\"\"\"\n",
    "    return rad * 180 / math.pi"
   ]
  },
  {
   "cell_type": "code",
   "execution_count": 91,
   "metadata": {
    "collapsed": true
   },
   "outputs": [],
   "source": [
    "from datetime import datetime, timedelta\n",
    "def UTC2GPS(fecha):\n",
    "    '''\n",
    "    @UTC2GPS: Método estático para convertir un objeto de la clase datetime a tiempo GPS\n",
    "    @fecha datetime: Objeto de la clase datetime con la fecha a transformar en tiempo GPS.\n",
    "    '''\n",
    "    ## Obtenemos el número del día\n",
    "    ## En python el día 0 es el lunes\n",
    "    day = fecha.weekday()\n",
    "    ## Si el día es Domingo (número 6) -> día = -1\n",
    "    if day == 6 : day = -1\n",
    "    ## Calculamos el tiempo GPS\n",
    "    return ( (day + 1) * 86400 ) + int(fecha.strftime('%H')) * 3600 + int(fecha.strftime('%M')) * 60 + int(fecha.strftime('%S'))\n",
    "\n",
    "def leap(date):\n",
    "    \"\"\"\n",
    "    Return the number of leap seconds since 6/Jan/1980\n",
    "    :param date: datetime instance\n",
    "    :return: leap seconds for the date (int)\n",
    "    \"\"\"\n",
    "    if date < datetime(1981, 6, 30, 23, 59, 59):\n",
    "        return 0\n",
    "    leap_list = [(1981, 6, 30), (1982, 6, 30), (1983, 6, 30),\n",
    "                 (1985, 6, 30), (1987, 12, 31), (1989, 12, 31),\n",
    "                 (1990, 12, 31), (1992, 6, 30), (1993, 6, 30),\n",
    "                 (1994, 6, 30), (1995, 12, 31), (1997, 6, 30),\n",
    "                 (1998, 12, 31), (2005, 12, 31), (2008, 12, 31),\n",
    "                 (2012, 6, 30), (2015, 6, 30)]\n",
    "    leap_dates = map(lambda x: datetime(x[0], x[1], x[2], 23, 59, 59), leap_list)\n",
    "    for j in xrange(len(leap_dates[:-1])):\n",
    "        if leap_dates[j] < date < leap_dates[j + 1]:\n",
    "            return j + 1\n",
    "    return len(leap_dates)\n",
    "def GPS2UTC(week, secs):\n",
    "    \"\"\"\n",
    "    :param week: GPS week number, i.e. 1866\n",
    "    :param secs: number of seconds since the beginning of `week`\n",
    "    :return: datetime instance with UTC time\n",
    "    \"\"\"\n",
    "    import datetime\n",
    "    secs_in_week = 604800\n",
    "    gps_epoch = datetime.datetime(1980, 1, 6, 0, 0, 0)\n",
    "    date_before_leaps = gps_epoch + datetime.timedelta(seconds=week * secs_in_week + secs)\n",
    "    return date_before_leaps - datetime.timedelta(seconds=leap(date_before_leaps))"
   ]
  },
  {
   "cell_type": "code",
   "execution_count": 76,
   "metadata": {
    "collapsed": true
   },
   "outputs": [],
   "source": [
    "def to_radians(array):\n",
    "    rads = array*(np.pi /180.)\n",
    "    return rads\n",
    "\n",
    "def compute_distance(df,longitude, latitude):\n",
    "    R = 6371e3 # earth radius metres, mean radius = 6371km\n",
    "    n = len(df.Latitude)\n",
    "    ArrayLat = pd.Series([latitude] * n)\n",
    "    ArrayLon = pd.Series([longitude] * n)\n",
    "    #print len(ArrayLat), type(ArrayLat), type(df.Latitude)\n",
    "    phi1 = to_radians(df.Latitude) #degrees to radians\n",
    "    phi2 = to_radians(ArrayLat)\n",
    "    lambda1 = to_radians(df.Longitude)\n",
    "    lambda2 = to_radians(ArrayLon)\n",
    "    dphi = phi2 - phi1\n",
    "    dlambda = lambda2 - lambda1\n",
    "    a = np.sin(dphi/2.)**2 + (np.cos(phi1) * np.cos(phi2) * np.sin(dlambda/2.)**2 )\n",
    "    c = 2 * np.arctan2(np.sqrt(a),np.sqrt(1.-a))\n",
    "    d = R * c\n",
    "    return d\n",
    "\n",
    "float_formatter = lambda x: \"%.2f\" % x\n",
    "\n",
    "def to_skyplot(elevation, azimut):\n",
    "    e = np.array(elevation)\n",
    "    a = np.array(azimut)\n",
    "    sx = ((90-e)/90) * np.sin (a * (np.pi/180))\n",
    "    sy = ((90-e)/90) * np.cos (a * (np.pi/180))\n",
    "    return (sx,sy)"
   ]
  },
  {
   "cell_type": "code",
   "execution_count": 77,
   "metadata": {
    "collapsed": true
   },
   "outputs": [],
   "source": [
    "#Thanks to https://github.com/twillis449\n",
    "def gunzip_some_file(compressed_file,\n",
    "                     uncompressed_file,\n",
    "                     delete_file = 1):\n",
    "    print 'uncompressing file 1 to file 2 ', compressed_file, uncompressed_file\n",
    "# if file is already uncompressed, do nothing\n",
    "    if compressed_file == uncompressed_file:\n",
    "        return\n",
    "    # make sure there is a file\n",
    "    if not os.path.isfile(compressed_file):\n",
    "        if(compressed_file[-1] == 'Z'):\n",
    "            # try another form\n",
    "            warnings.warn(\"No .Z form of compressed file '%s', trying .gz\"%compressed_file)\n",
    "            print \"No .Z form of compressed file  trying .gz\"\n",
    "            new_compressed = compressed_file[:-1] + \"gz\"\n",
    "            return gunzip_some_file(new_compressed, uncompressed_file,\n",
    "                                    delete_file)\n",
    "        raise Albus_RINEX.RINEX_Data_Barf(\"No such file '%s' to uncompress\"%compressed_file)\n",
    "    if compressed_file[-3:] != 'zip' and compressed_file[-1] != 'Z':\n",
    "        # file is most likely uncompressed ...\n",
    "        command = \"mv  %s %s\"%(compressed_file, uncompressed_file)\n",
    "    elif (compressed_file[-3:] == 'zip'): # we have a trignet file\n",
    "        command = \"unzip -np %s '*d' > %s\"%(compressed_file,uncompressed_file)\n",
    "    else:   \n",
    "        command = \"gunzip -dc %s > %s\"%(compressed_file,uncompressed_file)\n",
    "    print 'gunzip executing ', command\n",
    "    retcode = os.system(command)\n",
    "    print 'gunzip returned ', retcode\n",
    "# handle non-zero return code error from extraction \n",
    "    if(retcode):\n",
    "        raise No_RINEX_File_Error(\"Could not run '%s'\"%command)\n",
    "    if(delete_file):\n",
    "        try:\n",
    "            os.remove(compressed_file)\n",
    "        except:\n",
    "            print 'failure to remove compressed file - probably not a compressed file'\n",
    "    return\n"
   ]
  },
  {
   "cell_type": "code",
   "execution_count": 95,
   "metadata": {
    "collapsed": true
   },
   "outputs": [],
   "source": [
    "Sat_Time = \"21:20:23\"\n",
    "Sat_Date = \"13/03/2017\"\n",
    "Longitude_inGround = -73.1224429 \n",
    "Latitude_inGround = 7.1388027\n"
   ]
  },
  {
   "cell_type": "code",
   "execution_count": 96,
   "metadata": {
    "collapsed": false
   },
   "outputs": [
    {
     "name": "stdout",
     "output_type": "stream",
     "text": [
      "2017-03-13 21:20:23\n"
     ]
    }
   ],
   "source": [
    "#Parse String to Date\n",
    "import datetime\n",
    "\n",
    "time_sat = datetime.datetime.strptime(Sat_Time,'%H:%M:%S')\n",
    "date_sat = datetime.datetime.strptime(Sat_Date,'%d/%m/%Y')\n",
    "\n",
    "InputDate = datetime.datetime.combine(datetime.date(date_sat.year, date_sat.month, date_sat.day), datetime.time(time_sat.hour, time_sat.minute,time_sat.second))\n",
    "print InputDate"
   ]
  },
  {
   "cell_type": "code",
   "execution_count": 97,
   "metadata": {
    "collapsed": false
   },
   "outputs": [
    {
     "data": {
      "text/plain": [
       "72"
      ]
     },
     "execution_count": 97,
     "metadata": {},
     "output_type": "execute_result"
    }
   ],
   "source": [
    "day_of_year = InputDate.timetuple().tm_yday\n",
    "day_of_year"
   ]
  },
  {
   "cell_type": "code",
   "execution_count": 108,
   "metadata": {
    "collapsed": false,
    "scrolled": true
   },
   "outputs": [
    {
     "data": {
      "text/plain": [
       "Index([u'Unnamed: 0', u'CODE', u'Longitude', u'Latitude'], dtype='object')"
      ]
     },
     "execution_count": 108,
     "metadata": {},
     "output_type": "execute_result"
    }
   ],
   "source": [
    "UNAVCO_list = pd.read_csv(\"UNAVCOlist.csv\")\n",
    "UNAVCO_list.columns"
   ]
  },
  {
   "cell_type": "markdown",
   "metadata": {},
   "source": [
    "search the nearest station"
   ]
  },
  {
   "cell_type": "code",
   "execution_count": 109,
   "metadata": {
    "collapsed": false
   },
   "outputs": [
    {
     "data": {
      "text/plain": [
       "(7.1388027, -73.1224429)"
      ]
     },
     "execution_count": 109,
     "metadata": {},
     "output_type": "execute_result"
    }
   ],
   "source": [
    "#Universidad Industrial de Santander\n",
    "Latitude_inGround,Longitude_inGround"
   ]
  },
  {
   "cell_type": "code",
   "execution_count": 116,
   "metadata": {
    "collapsed": false
   },
   "outputs": [],
   "source": [
    "d = compute_distance(UNAVCO_list,Longitude_inGround,Latitude_inGround)\n",
    "UNAVCO_list['Distance'] = d"
   ]
  },
  {
   "cell_type": "code",
   "execution_count": 117,
   "metadata": {
    "collapsed": false,
    "scrolled": true
   },
   "outputs": [
    {
     "data": {
      "text/html": [
       "<div>\n",
       "<table border=\"1\" class=\"dataframe\">\n",
       "  <thead>\n",
       "    <tr style=\"text-align: right;\">\n",
       "      <th></th>\n",
       "      <th>Unnamed: 0</th>\n",
       "      <th>CODE</th>\n",
       "      <th>Longitude</th>\n",
       "      <th>Latitude</th>\n",
       "      <th>Distance</th>\n",
       "    </tr>\n",
       "  </thead>\n",
       "  <tbody>\n",
       "    <tr>\n",
       "      <th>3080</th>\n",
       "      <td>3080</td>\n",
       "      <td>SINC</td>\n",
       "      <td>-75.283500</td>\n",
       "      <td>9.336300</td>\n",
       "      <td>340965.850479</td>\n",
       "    </tr>\n",
       "    <tr>\n",
       "      <th>3007</th>\n",
       "      <td>3007</td>\n",
       "      <td>MONT</td>\n",
       "      <td>-75.680800</td>\n",
       "      <td>8.895200</td>\n",
       "      <td>342766.519589</td>\n",
       "    </tr>\n",
       "    <tr>\n",
       "      <th>2710</th>\n",
       "      <td>2710</td>\n",
       "      <td>MONT</td>\n",
       "      <td>-75.680800</td>\n",
       "      <td>8.895200</td>\n",
       "      <td>342766.519589</td>\n",
       "    </tr>\n",
       "    <tr>\n",
       "      <th>2644</th>\n",
       "      <td>2644</td>\n",
       "      <td>MONT</td>\n",
       "      <td>-75.680800</td>\n",
       "      <td>8.895200</td>\n",
       "      <td>342766.519589</td>\n",
       "    </tr>\n",
       "    <tr>\n",
       "      <th>2737</th>\n",
       "      <td>2737</td>\n",
       "      <td>VILL</td>\n",
       "      <td>-73.380100</td>\n",
       "      <td>4.065600</td>\n",
       "      <td>342911.761312</td>\n",
       "    </tr>\n",
       "    <tr>\n",
       "      <th>3107</th>\n",
       "      <td>3107</td>\n",
       "      <td>VILL</td>\n",
       "      <td>-73.380100</td>\n",
       "      <td>4.065600</td>\n",
       "      <td>342911.761312</td>\n",
       "    </tr>\n",
       "    <tr>\n",
       "      <th>2655</th>\n",
       "      <td>2655</td>\n",
       "      <td>VILL</td>\n",
       "      <td>-73.380100</td>\n",
       "      <td>4.065600</td>\n",
       "      <td>342911.761312</td>\n",
       "    </tr>\n",
       "    <tr>\n",
       "      <th>3018</th>\n",
       "      <td>3018</td>\n",
       "      <td>NEIR</td>\n",
       "      <td>-75.520200</td>\n",
       "      <td>5.171300</td>\n",
       "      <td>343691.722430</td>\n",
       "    </tr>\n",
       "    <tr>\n",
       "      <th>3042</th>\n",
       "      <td>3042</td>\n",
       "      <td>PIRA</td>\n",
       "      <td>-75.283300</td>\n",
       "      <td>4.916100</td>\n",
       "      <td>343763.611111</td>\n",
       "    </tr>\n",
       "    <tr>\n",
       "      <th>3069</th>\n",
       "      <td>3069</td>\n",
       "      <td>RUBI</td>\n",
       "      <td>-75.313200</td>\n",
       "      <td>4.937700</td>\n",
       "      <td>344355.308980</td>\n",
       "    </tr>\n",
       "    <tr>\n",
       "      <th>3104</th>\n",
       "      <td>3104</td>\n",
       "      <td>URRA</td>\n",
       "      <td>-76.136900</td>\n",
       "      <td>6.325200</td>\n",
       "      <td>344952.480723</td>\n",
       "    </tr>\n",
       "    <tr>\n",
       "      <th>2960</th>\n",
       "      <td>2960</td>\n",
       "      <td>GULI</td>\n",
       "      <td>-75.354900</td>\n",
       "      <td>4.951800</td>\n",
       "      <td>346509.922208</td>\n",
       "    </tr>\n",
       "    <tr>\n",
       "      <th>2990</th>\n",
       "      <td>2990</td>\n",
       "      <td>MARA</td>\n",
       "      <td>-75.359200</td>\n",
       "      <td>4.951500</td>\n",
       "      <td>346872.210898</td>\n",
       "    </tr>\n",
       "    <tr>\n",
       "      <th>3045</th>\n",
       "      <td>3045</td>\n",
       "      <td>PLAT</td>\n",
       "      <td>-74.785100</td>\n",
       "      <td>9.796300</td>\n",
       "      <td>347495.442938</td>\n",
       "    </tr>\n",
       "    <tr>\n",
       "      <th>3017</th>\n",
       "      <td>3017</td>\n",
       "      <td>NAZT</td>\n",
       "      <td>-74.147000</td>\n",
       "      <td>4.172400</td>\n",
       "      <td>348784.086682</td>\n",
       "    </tr>\n",
       "    <tr>\n",
       "      <th>2885</th>\n",
       "      <td>2885</td>\n",
       "      <td>ARNA</td>\n",
       "      <td>-75.355200</td>\n",
       "      <td>4.920500</td>\n",
       "      <td>348989.501477</td>\n",
       "    </tr>\n",
       "    <tr>\n",
       "      <th>3014</th>\n",
       "      <td>3014</td>\n",
       "      <td>MZAM</td>\n",
       "      <td>-75.464500</td>\n",
       "      <td>5.029300</td>\n",
       "      <td>349388.787834</td>\n",
       "    </tr>\n",
       "    <tr>\n",
       "      <th>3060</th>\n",
       "      <td>3060</td>\n",
       "      <td>REFU</td>\n",
       "      <td>-75.339100</td>\n",
       "      <td>4.898100</td>\n",
       "      <td>349506.977586</td>\n",
       "    </tr>\n",
       "    <tr>\n",
       "      <th>2711</th>\n",
       "      <td>2711</td>\n",
       "      <td>MZAL</td>\n",
       "      <td>-75.470500</td>\n",
       "      <td>5.030000</td>\n",
       "      <td>349828.419924</td>\n",
       "    </tr>\n",
       "    <tr>\n",
       "      <th>3013</th>\n",
       "      <td>3013</td>\n",
       "      <td>MZAL</td>\n",
       "      <td>-75.470500</td>\n",
       "      <td>5.030000</td>\n",
       "      <td>349828.419924</td>\n",
       "    </tr>\n",
       "    <tr>\n",
       "      <th>3022</th>\n",
       "      <td>3022</td>\n",
       "      <td>OLLE</td>\n",
       "      <td>-75.353800</td>\n",
       "      <td>4.893300</td>\n",
       "      <td>351028.968585</td>\n",
       "    </tr>\n",
       "    <tr>\n",
       "      <th>24026</th>\n",
       "      <td>24026</td>\n",
       "      <td>CN36</td>\n",
       "      <td>-75.821130</td>\n",
       "      <td>8.819650</td>\n",
       "      <td>351053.053043</td>\n",
       "    </tr>\n",
       "    <tr>\n",
       "      <th>24025</th>\n",
       "      <td>24025</td>\n",
       "      <td>CN36</td>\n",
       "      <td>-75.821130</td>\n",
       "      <td>8.819650</td>\n",
       "      <td>351053.053043</td>\n",
       "    </tr>\n",
       "    <tr>\n",
       "      <th>2922</th>\n",
       "      <td>2922</td>\n",
       "      <td>CHIP</td>\n",
       "      <td>-75.525100</td>\n",
       "      <td>5.072200</td>\n",
       "      <td>351236.152188</td>\n",
       "    </tr>\n",
       "    <tr>\n",
       "      <th>3020</th>\n",
       "      <td>3020</td>\n",
       "      <td>NERE</td>\n",
       "      <td>-75.351000</td>\n",
       "      <td>4.882000</td>\n",
       "      <td>351708.514820</td>\n",
       "    </tr>\n",
       "    <tr>\n",
       "      <th>3105</th>\n",
       "      <td>3105</td>\n",
       "      <td>VALE</td>\n",
       "      <td>-76.146100</td>\n",
       "      <td>8.260300</td>\n",
       "      <td>355750.937780</td>\n",
       "    </tr>\n",
       "    <tr>\n",
       "      <th>2957</th>\n",
       "      <td>2957</td>\n",
       "      <td>GUAT</td>\n",
       "      <td>-75.797500</td>\n",
       "      <td>5.313900</td>\n",
       "      <td>358616.861629</td>\n",
       "    </tr>\n",
       "    <tr>\n",
       "      <th>2639</th>\n",
       "      <td>2639</td>\n",
       "      <td>IGAC</td>\n",
       "      <td>-73.159700</td>\n",
       "      <td>10.394200</td>\n",
       "      <td>362006.812486</td>\n",
       "    </tr>\n",
       "    <tr>\n",
       "      <th>3012</th>\n",
       "      <td>3012</td>\n",
       "      <td>MUTT</td>\n",
       "      <td>-76.433100</td>\n",
       "      <td>7.238500</td>\n",
       "      <td>365401.963219</td>\n",
       "    </tr>\n",
       "    <tr>\n",
       "      <th>27677</th>\n",
       "      <td>27677</td>\n",
       "      <td>VDPR</td>\n",
       "      <td>-73.247800</td>\n",
       "      <td>10.435800</td>\n",
       "      <td>366868.013732</td>\n",
       "    </tr>\n",
       "    <tr>\n",
       "      <th>...</th>\n",
       "      <td>...</td>\n",
       "      <td>...</td>\n",
       "      <td>...</td>\n",
       "      <td>...</td>\n",
       "      <td>...</td>\n",
       "    </tr>\n",
       "    <tr>\n",
       "      <th>27784</th>\n",
       "      <td>27784</td>\n",
       "      <td>WIND</td>\n",
       "      <td>17.089432</td>\n",
       "      <td>-22.574920</td>\n",
       "      <td>NaN</td>\n",
       "    </tr>\n",
       "    <tr>\n",
       "      <th>27853</th>\n",
       "      <td>27853</td>\n",
       "      <td>YSST</td>\n",
       "      <td>28.990869</td>\n",
       "      <td>40.865778</td>\n",
       "      <td>NaN</td>\n",
       "    </tr>\n",
       "    <tr>\n",
       "      <th>27867</th>\n",
       "      <td>27867</td>\n",
       "      <td>ZWE2</td>\n",
       "      <td>36.757971</td>\n",
       "      <td>55.699554</td>\n",
       "      <td>NaN</td>\n",
       "    </tr>\n",
       "    <tr>\n",
       "      <th>27769</th>\n",
       "      <td>27769</td>\n",
       "      <td>WHL1</td>\n",
       "      <td>-150.029200</td>\n",
       "      <td>-84.640400</td>\n",
       "      <td>NaN</td>\n",
       "    </tr>\n",
       "    <tr>\n",
       "      <th>27770</th>\n",
       "      <td>27770</td>\n",
       "      <td>WHL2</td>\n",
       "      <td>-153.614000</td>\n",
       "      <td>-84.247400</td>\n",
       "      <td>NaN</td>\n",
       "    </tr>\n",
       "    <tr>\n",
       "      <th>27857</th>\n",
       "      <td>27857</td>\n",
       "      <td>ZECK</td>\n",
       "      <td>41.565067</td>\n",
       "      <td>43.788391</td>\n",
       "      <td>NaN</td>\n",
       "    </tr>\n",
       "    <tr>\n",
       "      <th>27855</th>\n",
       "      <td>27855</td>\n",
       "      <td>ZAMB</td>\n",
       "      <td>28.311012</td>\n",
       "      <td>-15.425541</td>\n",
       "      <td>NaN</td>\n",
       "    </tr>\n",
       "    <tr>\n",
       "      <th>27771</th>\n",
       "      <td>27771</td>\n",
       "      <td>WHN0</td>\n",
       "      <td>154.220100</td>\n",
       "      <td>-79.845700</td>\n",
       "      <td>NaN</td>\n",
       "    </tr>\n",
       "    <tr>\n",
       "      <th>27725</th>\n",
       "      <td>27725</td>\n",
       "      <td>VWZM</td>\n",
       "      <td>33.574400</td>\n",
       "      <td>-11.175300</td>\n",
       "      <td>NaN</td>\n",
       "    </tr>\n",
       "    <tr>\n",
       "      <th>27831</th>\n",
       "      <td>27831</td>\n",
       "      <td>YAKT</td>\n",
       "      <td>129.680301</td>\n",
       "      <td>62.030961</td>\n",
       "      <td>NaN</td>\n",
       "    </tr>\n",
       "    <tr>\n",
       "      <th>27865</th>\n",
       "      <td>27865</td>\n",
       "      <td>ZOMB</td>\n",
       "      <td>35.325135</td>\n",
       "      <td>-15.375842</td>\n",
       "      <td>NaN</td>\n",
       "    </tr>\n",
       "    <tr>\n",
       "      <th>27764</th>\n",
       "      <td>27764</td>\n",
       "      <td>WGTN</td>\n",
       "      <td>174.805893</td>\n",
       "      <td>-41.323456</td>\n",
       "      <td>NaN</td>\n",
       "    </tr>\n",
       "    <tr>\n",
       "      <th>27758</th>\n",
       "      <td>27758</td>\n",
       "      <td>WEL1</td>\n",
       "      <td>174.778707</td>\n",
       "      <td>-41.272649</td>\n",
       "      <td>NaN</td>\n",
       "    </tr>\n",
       "    <tr>\n",
       "      <th>27757</th>\n",
       "      <td>27757</td>\n",
       "      <td>WEL1</td>\n",
       "      <td>174.778707</td>\n",
       "      <td>-41.272649</td>\n",
       "      <td>NaN</td>\n",
       "    </tr>\n",
       "    <tr>\n",
       "      <th>27742</th>\n",
       "      <td>27742</td>\n",
       "      <td>WARK</td>\n",
       "      <td>174.662700</td>\n",
       "      <td>-36.434400</td>\n",
       "      <td>NaN</td>\n",
       "    </tr>\n",
       "    <tr>\n",
       "      <th>27735</th>\n",
       "      <td>27735</td>\n",
       "      <td>WAKA</td>\n",
       "      <td>169.885310</td>\n",
       "      <td>-43.584039</td>\n",
       "      <td>NaN</td>\n",
       "    </tr>\n",
       "    <tr>\n",
       "      <th>27852</th>\n",
       "      <td>27852</td>\n",
       "      <td>YSSK</td>\n",
       "      <td>142.716719</td>\n",
       "      <td>47.029736</td>\n",
       "      <td>NaN</td>\n",
       "    </tr>\n",
       "    <tr>\n",
       "      <th>27864</th>\n",
       "      <td>27864</td>\n",
       "      <td>ZMBT</td>\n",
       "      <td>44.732700</td>\n",
       "      <td>-22.827000</td>\n",
       "      <td>NaN</td>\n",
       "    </tr>\n",
       "    <tr>\n",
       "      <th>27847</th>\n",
       "      <td>27847</td>\n",
       "      <td>YIBL</td>\n",
       "      <td>56.112334</td>\n",
       "      <td>22.186459</td>\n",
       "      <td>NaN</td>\n",
       "    </tr>\n",
       "    <tr>\n",
       "      <th>27851</th>\n",
       "      <td>27851</td>\n",
       "      <td>YONS</td>\n",
       "      <td>127.001345</td>\n",
       "      <td>37.541122</td>\n",
       "      <td>NaN</td>\n",
       "    </tr>\n",
       "    <tr>\n",
       "      <th>27795</th>\n",
       "      <td>27795</td>\n",
       "      <td>WLNG</td>\n",
       "      <td>83.769742</td>\n",
       "      <td>27.982750</td>\n",
       "      <td>NaN</td>\n",
       "    </tr>\n",
       "    <tr>\n",
       "      <th>27827</th>\n",
       "      <td>27827</td>\n",
       "      <td>XIAN</td>\n",
       "      <td>109.221500</td>\n",
       "      <td>34.368700</td>\n",
       "      <td>NaN</td>\n",
       "    </tr>\n",
       "    <tr>\n",
       "      <th>27826</th>\n",
       "      <td>27826</td>\n",
       "      <td>XBAR</td>\n",
       "      <td>85.899656</td>\n",
       "      <td>27.778121</td>\n",
       "      <td>NaN</td>\n",
       "    </tr>\n",
       "    <tr>\n",
       "      <th>27829</th>\n",
       "      <td>27829</td>\n",
       "      <td>XYAK</td>\n",
       "      <td>85.537309</td>\n",
       "      <td>27.556770</td>\n",
       "      <td>NaN</td>\n",
       "    </tr>\n",
       "    <tr>\n",
       "      <th>27820</th>\n",
       "      <td>27820</td>\n",
       "      <td>WUHN</td>\n",
       "      <td>114.357259</td>\n",
       "      <td>30.531653</td>\n",
       "      <td>NaN</td>\n",
       "    </tr>\n",
       "    <tr>\n",
       "      <th>27834</th>\n",
       "      <td>27834</td>\n",
       "      <td>YAR1</td>\n",
       "      <td>115.347000</td>\n",
       "      <td>-29.046600</td>\n",
       "      <td>NaN</td>\n",
       "    </tr>\n",
       "    <tr>\n",
       "      <th>27837</th>\n",
       "      <td>27837</td>\n",
       "      <td>YARR</td>\n",
       "      <td>115.346971</td>\n",
       "      <td>-29.046594</td>\n",
       "      <td>NaN</td>\n",
       "    </tr>\n",
       "    <tr>\n",
       "      <th>27836</th>\n",
       "      <td>27836</td>\n",
       "      <td>YAR3</td>\n",
       "      <td>115.347147</td>\n",
       "      <td>-29.046501</td>\n",
       "      <td>NaN</td>\n",
       "    </tr>\n",
       "    <tr>\n",
       "      <th>27835</th>\n",
       "      <td>27835</td>\n",
       "      <td>YAR2</td>\n",
       "      <td>115.346973</td>\n",
       "      <td>-29.046559</td>\n",
       "      <td>NaN</td>\n",
       "    </tr>\n",
       "    <tr>\n",
       "      <th>27828</th>\n",
       "      <td>27828</td>\n",
       "      <td>XMIS</td>\n",
       "      <td>105.688495</td>\n",
       "      <td>-10.449972</td>\n",
       "      <td>NaN</td>\n",
       "    </tr>\n",
       "  </tbody>\n",
       "</table>\n",
       "<p>27704 rows × 5 columns</p>\n",
       "</div>"
      ],
      "text/plain": [
       "       Unnamed: 0  CODE   Longitude   Latitude       Distance\n",
       "3080         3080  SINC  -75.283500   9.336300  340965.850479\n",
       "3007         3007  MONT  -75.680800   8.895200  342766.519589\n",
       "2710         2710  MONT  -75.680800   8.895200  342766.519589\n",
       "2644         2644  MONT  -75.680800   8.895200  342766.519589\n",
       "2737         2737  VILL  -73.380100   4.065600  342911.761312\n",
       "3107         3107  VILL  -73.380100   4.065600  342911.761312\n",
       "2655         2655  VILL  -73.380100   4.065600  342911.761312\n",
       "3018         3018  NEIR  -75.520200   5.171300  343691.722430\n",
       "3042         3042  PIRA  -75.283300   4.916100  343763.611111\n",
       "3069         3069  RUBI  -75.313200   4.937700  344355.308980\n",
       "3104         3104  URRA  -76.136900   6.325200  344952.480723\n",
       "2960         2960  GULI  -75.354900   4.951800  346509.922208\n",
       "2990         2990  MARA  -75.359200   4.951500  346872.210898\n",
       "3045         3045  PLAT  -74.785100   9.796300  347495.442938\n",
       "3017         3017  NAZT  -74.147000   4.172400  348784.086682\n",
       "2885         2885  ARNA  -75.355200   4.920500  348989.501477\n",
       "3014         3014  MZAM  -75.464500   5.029300  349388.787834\n",
       "3060         3060  REFU  -75.339100   4.898100  349506.977586\n",
       "2711         2711  MZAL  -75.470500   5.030000  349828.419924\n",
       "3013         3013  MZAL  -75.470500   5.030000  349828.419924\n",
       "3022         3022  OLLE  -75.353800   4.893300  351028.968585\n",
       "24026       24026  CN36  -75.821130   8.819650  351053.053043\n",
       "24025       24025  CN36  -75.821130   8.819650  351053.053043\n",
       "2922         2922  CHIP  -75.525100   5.072200  351236.152188\n",
       "3020         3020  NERE  -75.351000   4.882000  351708.514820\n",
       "3105         3105  VALE  -76.146100   8.260300  355750.937780\n",
       "2957         2957  GUAT  -75.797500   5.313900  358616.861629\n",
       "2639         2639  IGAC  -73.159700  10.394200  362006.812486\n",
       "3012         3012  MUTT  -76.433100   7.238500  365401.963219\n",
       "27677       27677  VDPR  -73.247800  10.435800  366868.013732\n",
       "...           ...   ...         ...        ...            ...\n",
       "27784       27784  WIND   17.089432 -22.574920            NaN\n",
       "27853       27853  YSST   28.990869  40.865778            NaN\n",
       "27867       27867  ZWE2   36.757971  55.699554            NaN\n",
       "27769       27769  WHL1 -150.029200 -84.640400            NaN\n",
       "27770       27770  WHL2 -153.614000 -84.247400            NaN\n",
       "27857       27857  ZECK   41.565067  43.788391            NaN\n",
       "27855       27855  ZAMB   28.311012 -15.425541            NaN\n",
       "27771       27771  WHN0  154.220100 -79.845700            NaN\n",
       "27725       27725  VWZM   33.574400 -11.175300            NaN\n",
       "27831       27831  YAKT  129.680301  62.030961            NaN\n",
       "27865       27865  ZOMB   35.325135 -15.375842            NaN\n",
       "27764       27764  WGTN  174.805893 -41.323456            NaN\n",
       "27758       27758  WEL1  174.778707 -41.272649            NaN\n",
       "27757       27757  WEL1  174.778707 -41.272649            NaN\n",
       "27742       27742  WARK  174.662700 -36.434400            NaN\n",
       "27735       27735  WAKA  169.885310 -43.584039            NaN\n",
       "27852       27852  YSSK  142.716719  47.029736            NaN\n",
       "27864       27864  ZMBT   44.732700 -22.827000            NaN\n",
       "27847       27847  YIBL   56.112334  22.186459            NaN\n",
       "27851       27851  YONS  127.001345  37.541122            NaN\n",
       "27795       27795  WLNG   83.769742  27.982750            NaN\n",
       "27827       27827  XIAN  109.221500  34.368700            NaN\n",
       "27826       27826  XBAR   85.899656  27.778121            NaN\n",
       "27829       27829  XYAK   85.537309  27.556770            NaN\n",
       "27820       27820  WUHN  114.357259  30.531653            NaN\n",
       "27834       27834  YAR1  115.347000 -29.046600            NaN\n",
       "27837       27837  YARR  115.346971 -29.046594            NaN\n",
       "27836       27836  YAR3  115.347147 -29.046501            NaN\n",
       "27835       27835  YAR2  115.346973 -29.046559            NaN\n",
       "27828       27828  XMIS  105.688495 -10.449972            NaN\n",
       "\n",
       "[27704 rows x 5 columns]"
      ]
     },
     "execution_count": 117,
     "metadata": {},
     "output_type": "execute_result"
    }
   ],
   "source": [
    "UNAVCO_list.sort_values(['Distance'], ascending=[True], inplace=True)\n",
    "UNAVCO_list"
   ]
  },
  {
   "cell_type": "code",
   "execution_count": 118,
   "metadata": {
    "collapsed": false,
    "scrolled": true
   },
   "outputs": [
    {
     "name": "stdout",
     "output_type": "stream",
     "text": [
      "SINC -75.2835 9.3363 340965.850479\n"
     ]
    }
   ],
   "source": [
    "#search the nearest land stage\n",
    "IDmin = UNAVCO_list.Distance.argmin()\n",
    "S_Code = UNAVCO_list.CODE[IDmin]\n",
    "S_Dist = UNAVCO_list.Distance[IDmin]\n",
    "print S_Code,UNAVCO_list.Longitude[IDmin],UNAVCO_list.Latitude[IDmin],S_Dist"
   ]
  },
  {
   "cell_type": "markdown",
   "metadata": {},
   "source": [
    "Now I have the Name of the Lan Station that I need.\n"
   ]
  },
  {
   "cell_type": "code",
   "execution_count": 119,
   "metadata": {
    "collapsed": false,
    "scrolled": true
   },
   "outputs": [
    {
     "name": "stdout",
     "output_type": "stream",
     "text": [
      "<ftplib.FTP instance at 0xa7562dec>\n",
      "Folder Needed: 250 Directory successfully changed.\n",
      "Current working directory: /pub/gps/data/daily/2017/072/17n\n"
     ]
    }
   ],
   "source": [
    "UNAVCO_FTP = 'data-out.unavco.org'\n",
    "NASA_FTP = 'cddis.gsfc.nasa.gov'\n",
    "\n",
    "try:\n",
    "    f = FTP(NASA_FTP)\n",
    "    #f = FTP(UNAVCO_FTP)\n",
    "    print f\n",
    "    \n",
    "except:\n",
    "    pass\n",
    "#print \"Welcome:\", f.getwelcome()\n",
    "f.login()\n",
    "\n",
    "#Now I wnat to look the folder that I need.\n",
    "UNAVCO_FTP_path = '/pub/rinex/nav/' + str(InputDate.year) + '/' + str(day_of_year).zfill(3)\n",
    "FTP_path ='/pub/gps/data/daily/'+ str(InputDate.year) + '/' + str(day_of_year).zfill(3) + '/' + str(InputDate.year)[2:] + 'n'\n",
    "\n",
    "#[data-out.unavco.org] --> /pub/rinex/nav/2017/002\n",
    "#[cddis.gsfc.nasa.gov] --> /pub/gps/data/daily/2017/001/17n --> \n",
    "#    FTP_path ='/pub/gps/data/daily/'+ str_year + '/' + str(day_of_year).zfill(3) + '/' + str_year[2:] + 'n'\n",
    "\n",
    "print \"Folder Needed:\", f.cwd(FTP_path)\n",
    "print \"Current working directory:\", f.pwd()"
   ]
  },
  {
   "cell_type": "code",
   "execution_count": 120,
   "metadata": {
    "collapsed": false,
    "scrolled": false
   },
   "outputs": [
    {
     "name": "stdout",
     "output_type": "stream",
     "text": [
      "('Try with station: rold0720.17n.Z', 'to 452.34 [Km]')\n",
      "\n"
     ]
    }
   ],
   "source": [
    "import os, sys\n",
    "from ftplib import FTP \n",
    "\n",
    "\n",
    "LineData = 0\n",
    "while (1):\n",
    "    try:\n",
    "        if(LineData>70):\n",
    "            break\n",
    "        IDmin = UNAVCO_list.Distance.argmin()\n",
    "        NameStation = UNAVCO_list.CODE[IDmin]\n",
    "        LineData += 1\n",
    "        NameFile = NameStation.lower() + str(day_of_year).zfill(3) + '0.' + str(InputDate.year)[2:] + 'n.Z' \n",
    "        #For Now just GPS constallartion, I mean, .n file.'\n",
    "        clear_output(wait=True)\n",
    "        print(\"Try with station: %s\" % (NameFile),\"to \" + str(float_formatter(UNAVCO_list.Distance[IDmin]/1000)) + \" [Km]\")\n",
    "        print\n",
    "        \n",
    "        f.voidcmd(\"TYPE I\")\n",
    "        datasock, size = f.ntransfercmd(\"RETR \"+ NameFile)\n",
    "        bytes_so_far = 0\n",
    "        fd = open(NameFile, 'wb')\n",
    "        \n",
    "        while 1:\n",
    "            buf = datasock.recv(2048) \n",
    "            \n",
    "            fd.write(buf)\n",
    "            bytes_so_far += len(buf)\n",
    "            clear_output(wait=True)\n",
    "            print \"Received\",bytes_so_far, \"of %d total bytes (%.1f%%)\" % (size, 100 * bytes_so_far / float(size)),\"bytes\"\n",
    "            sys.stdout.flush()\n",
    "            if not buf:\n",
    "                break\n",
    "                 \n",
    "            #if bytes_so_far == len(buf):\n",
    "                #print \n",
    "                #break\n",
    "        print(\"File %s\" % (NameFile),\"to \" + str(float_formatter(UNAVCO_list.Distance[IDmin]/1000)) + \" [Km]\")\n",
    "        fd.close()\n",
    "        datasock.close()\n",
    "        f.voidresp\n",
    "        f.close()\n",
    "        break\n",
    "    except:\n",
    "        UNAVCO_list = UNAVCO_list[UNAVCO_list.CODE != NameStation]"
   ]
  },
  {
   "cell_type": "code",
   "execution_count": 105,
   "metadata": {
    "collapsed": false
   },
   "outputs": [
    {
     "data": {
      "text/plain": [
       "'coro0720.17n.Z'"
      ]
     },
     "execution_count": 105,
     "metadata": {},
     "output_type": "execute_result"
    }
   ],
   "source": [
    "NameFile"
   ]
  },
  {
   "cell_type": "code",
   "execution_count": 106,
   "metadata": {
    "collapsed": false
   },
   "outputs": [
    {
     "name": "stdout",
     "output_type": "stream",
     "text": [
      "uncompressing file 1 to file 2  coro0720.17n.Z navRINEX\n"
     ]
    },
    {
     "ename": "NameError",
     "evalue": "global name 'warnings' is not defined",
     "output_type": "error",
     "traceback": [
      "\u001b[1;31m---------------------------------------------------------------------------\u001b[0m",
      "\u001b[1;31mNameError\u001b[0m                                 Traceback (most recent call last)",
      "\u001b[1;32m<ipython-input-106-e1888274c0b4>\u001b[0m in \u001b[0;36m<module>\u001b[1;34m()\u001b[0m\n\u001b[1;32m----> 1\u001b[1;33m \u001b[0mgunzip_some_file\u001b[0m\u001b[1;33m(\u001b[0m\u001b[0mNameFile\u001b[0m\u001b[1;33m,\u001b[0m\u001b[1;34m'navRINEX'\u001b[0m\u001b[1;33m,\u001b[0m\u001b[1;36m0\u001b[0m\u001b[1;33m)\u001b[0m\u001b[1;33m\u001b[0m\u001b[0m\n\u001b[0m",
      "\u001b[1;32m<ipython-input-77-b4bff7736484>\u001b[0m in \u001b[0;36mgunzip_some_file\u001b[1;34m(compressed_file, uncompressed_file, delete_file)\u001b[0m\n\u001b[0;32m     11\u001b[0m         \u001b[1;32mif\u001b[0m\u001b[1;33m(\u001b[0m\u001b[0mcompressed_file\u001b[0m\u001b[1;33m[\u001b[0m\u001b[1;33m-\u001b[0m\u001b[1;36m1\u001b[0m\u001b[1;33m]\u001b[0m \u001b[1;33m==\u001b[0m \u001b[1;34m'Z'\u001b[0m\u001b[1;33m)\u001b[0m\u001b[1;33m:\u001b[0m\u001b[1;33m\u001b[0m\u001b[0m\n\u001b[0;32m     12\u001b[0m             \u001b[1;31m# try another form\u001b[0m\u001b[1;33m\u001b[0m\u001b[1;33m\u001b[0m\u001b[0m\n\u001b[1;32m---> 13\u001b[1;33m             \u001b[0mwarnings\u001b[0m\u001b[1;33m.\u001b[0m\u001b[0mwarn\u001b[0m\u001b[1;33m(\u001b[0m\u001b[1;34m\"No .Z form of compressed file '%s', trying .gz\"\u001b[0m\u001b[1;33m%\u001b[0m\u001b[0mcompressed_file\u001b[0m\u001b[1;33m)\u001b[0m\u001b[1;33m\u001b[0m\u001b[0m\n\u001b[0m\u001b[0;32m     14\u001b[0m             \u001b[1;32mprint\u001b[0m \u001b[1;34m\"No .Z form of compressed file  trying .gz\"\u001b[0m\u001b[1;33m\u001b[0m\u001b[0m\n\u001b[0;32m     15\u001b[0m             \u001b[0mnew_compressed\u001b[0m \u001b[1;33m=\u001b[0m \u001b[0mcompressed_file\u001b[0m\u001b[1;33m[\u001b[0m\u001b[1;33m:\u001b[0m\u001b[1;33m-\u001b[0m\u001b[1;36m1\u001b[0m\u001b[1;33m]\u001b[0m \u001b[1;33m+\u001b[0m \u001b[1;34m\"gz\"\u001b[0m\u001b[1;33m\u001b[0m\u001b[0m\n",
      "\u001b[1;31mNameError\u001b[0m: global name 'warnings' is not defined"
     ]
    }
   ],
   "source": [
    "gunzip_some_file(NameFile,'navRINEX',0)"
   ]
  },
  {
   "cell_type": "code",
   "execution_count": null,
   "metadata": {
    "collapsed": false
   },
   "outputs": [],
   "source": [
    "#!head -29 $navRINEX"
   ]
  },
  {
   "cell_type": "code",
   "execution_count": 115,
   "metadata": {
    "collapsed": false
   },
   "outputs": [
    {
     "data": {
      "text/plain": [
       "136550"
      ]
     },
     "execution_count": 115,
     "metadata": {},
     "output_type": "execute_result"
    }
   ],
   "source": [
    "seconds = UTC2GPS(datetime.datetime.now())\n",
    "seconds"
   ]
  },
  {
   "cell_type": "code",
   "execution_count": 93,
   "metadata": {
    "collapsed": false
   },
   "outputs": [
    {
     "data": {
      "text/plain": [
       "datetime.datetime(2017, 2, 20, 13, 31, 22)"
      ]
     },
     "execution_count": 93,
     "metadata": {},
     "output_type": "execute_result"
    }
   ],
   "source": [
    "GPS2UTC(1937,seconds)"
   ]
  },
  {
   "cell_type": "code",
   "execution_count": 17,
   "metadata": {
    "collapsed": false
   },
   "outputs": [],
   "source": [
    "def MeanToEccentricAnomaly(e,M):\n",
    "    pi = math.pi\n",
    "    if (e >= 1.0):\n",
    "        print(\"MeanToEccenAnomaly does not support parabolic or hyperbolic orbits!\")\n",
    "    # Make sure M lies between -pi and pi\n",
    "    M = math.fmod(M, 2*pi);\n",
    "    if (M < pi):\n",
    "        M = M + 2*pi\n",
    "    elif (M > pi):\n",
    "        M = M - 2*pi\n",
    "\n",
    "    if ((M > -pi and M < 0) or (M > pi)):\n",
    "        E = M - e\n",
    "    else:\n",
    "        E = M + e\n",
    "\n",
    "    Enew = E\n",
    "    zero = 1E-6;\n",
    "    first = 1;\n",
    "    while (first or abs(Enew - E) > zero):\n",
    "        first = 0\n",
    "        E = Enew\n",
    "        Enew = E + (M - E + e*math.sin(E))/(1 - e*math.cos(E))\n",
    "\n",
    "    E = Enew;\n",
    "    return E"
   ]
  },
  {
   "cell_type": "code",
   "execution_count": 18,
   "metadata": {
    "collapsed": false
   },
   "outputs": [],
   "source": [
    "def TrueAnomaly(ec,E):\n",
    "    '''\n",
    "    ec = eccentricty  -  E = Eccentricity Anomaly\n",
    "    '''\n",
    "    return  math.atan( ( math.sqrt(1-ec**2)*math.sin(E) )/(math.cos(E) - ec  )  )"
   ]
  },
  {
   "cell_type": "code",
   "execution_count": 19,
   "metadata": {
    "collapsed": true
   },
   "outputs": [],
   "source": [
    "def GetPositionECEF(rj,fj):\n",
    "    '''\n",
    "    Position in Orbital Plane\n",
    "    rj: Radial Distance - fj: True Anomaly\n",
    "    http://web.ics.purdue.edu/~ecalais/teaching/geodesy/EAS_591T_2003_lab_4.htm\n",
    "    '''\n",
    "    x = rj * math.cos(fj)\n",
    "    y = rj * math.sin(fj)\n",
    "    return x,y"
   ]
  },
  {
   "cell_type": "code",
   "execution_count": 20,
   "metadata": {
    "collapsed": true
   },
   "outputs": [],
   "source": [
    "def GetPositionOrbitPlane(a,E,e):\n",
    "    '''\n",
    "        a: semi-major axis    E: Ecentric Anomaly   e: eccentricity\n",
    "        http://ssd.jpl.nasa.gov/txt/aprx_pos_planets.pdf\n",
    "    '''\n",
    "    x = a*(math.cos(E) - e)\n",
    "    y = a* math.sqrt(1-e**2)*math.sin(E)\n",
    "    z = 0\n",
    "    return x,y\n",
    "    "
   ]
  },
  {
   "cell_type": "code",
   "execution_count": 21,
   "metadata": {
    "collapsed": true
   },
   "outputs": [],
   "source": [
    "def GetFirstPointAries(r,omg,w,v,i):\n",
    "    '''\n",
    "    r: Radial distance , Omega: Longitud for ascending node , w:  Agument pf perigee \n",
    "    v: True Anomaly    , i:  Inclination\n",
    "    http://www.davidcolarusso.com/astro/#helioeclipxyz\n",
    "    '''\n",
    "    x = r*(math.cos(omg) * math.cos(w+v) - math.sin(omg)*math.sin(w+v)*math.cos(i))\n",
    "    y = r*(math.sin(omg) * math.cos(w+v) - math.cos(omg)*math.sin(w+v)*math.cos(i))\n",
    "    z = r*math.sin(w+v)*math.sin(i)\n",
    "    return x,y,z"
   ]
  },
  {
   "cell_type": "code",
   "execution_count": 22,
   "metadata": {
    "collapsed": false
   },
   "outputs": [],
   "source": [
    "def GetHeliocentricCoordenates(x,y,z,i):\n",
    "    '''\n",
    "    From x,y,z area First Posint Aries coordenates\n",
    "    i: Inclination     x,y,z: Orbital Plane Position\n",
    "    '''\n",
    "    y2 = (y*math.cos(i)-z*math.sin(i))\n",
    "    z2 = (y*math.sin(i)+z*math.cos(i))\n",
    "    return x,y2,z2"
   ]
  },
  {
   "cell_type": "code",
   "execution_count": 23,
   "metadata": {
    "collapsed": false
   },
   "outputs": [],
   "source": [
    "def GetRightAscensionDeclination(x,y,z):\n",
    "    '''\n",
    "    x,y,z: Position in Heliocentric Coordenates\n",
    "    '''\n",
    "    RA = math.atan(y/x)\n",
    "    DE = math.atan(z/(math.sqrt(x**2+y**2)))\n",
    "    return RA, DE"
   ]
  },
  {
   "cell_type": "code",
   "execution_count": 24,
   "metadata": {
    "collapsed": true
   },
   "outputs": [],
   "source": [
    "def GetRA_Dec(E,ec,a,w,omg,i):\n",
    "    '''\n",
    "    RA: Right Ascension    -  Dec: Declination\n",
    "    E = Eccentricity Anomaly    - ec: eccentricity        -  a: semi major axis\n",
    "    http://www.davidcolarusso.com/astro/#helioeclipxyz\n",
    "    '''\n",
    "    \n",
    "    v = 2* math.tan( math.sqrt( (1+ec)/(1-ec) )* math.tan(E/2) )\n",
    "    r = (a*1-ec**2)/(1+ec*math.cos(v))\n",
    "    x = r*(math.cos(omg) * math.cos(w+v) - math.sin(omg)*math.sin(w+v)*math.cos(i))\n",
    "    y = r*(math.sin(omg) * math.cos(w+v) - math.cos(omg)*math.sin(w+v)*math.cos(i))\n",
    "    z = r*math.sin(w+v)*math.sin(i)\n",
    "    ra,dec = GetRightAscensionDeclination(x,y,z)\n",
    "    print ra,dec"
   ]
  },
  {
   "cell_type": "code",
   "execution_count": 25,
   "metadata": {
    "collapsed": false
   },
   "outputs": [],
   "source": [
    "def MatrixRotation(omg,w,i,r):\n",
    "    '''\n",
    "    omg: Longitude for ascending node   - w: Argument of perigee   - i:  Inclination    - r: Radial Distance \n",
    "    http://web.ics.purdue.edu/~ecalais/teaching/geodesy/EAS_591T_2003_lab_4.htm\n",
    "    '''\n",
    "    A = math.cos(omg)*math.cos(w) - math.sin(omg)*math.sin(w)*math.cos(i)\n",
    "    B = math.cos(omg)*math.sin(w) - math.sin(omg)*math.cos(w)*math.cos(i)\n",
    "    C = math.sin(omg)*math.sin(i)\n",
    "    \n",
    "    D = math.sin(omg)*math.cos(w) - math.cos(omg)*math.sin(w)*math.cos(i)\n",
    "    E = math.sin(omg)*math.sin(w) - math.cos(omg)*math.cos(w)*math.cos(i)\n",
    "    F = (-1.)*math.cos(omg)*math.sin(i)\n",
    "    \n",
    "    G = math.sin(w)*math.sin(i)\n",
    "    H = math.cos(w)*math.sin(i)\n",
    "    I = math.cos(i)\n",
    "    \n",
    "    R = np.array([[A,B,C], [D,E,F], [G,H,I]])\n",
    "    #print R\n",
    "    #T = R*r\n",
    "    T = np.dot(r,R)\n",
    "    PosECEF = tuple(map(tuple, T))\n",
    "    #print \"ECEF coordinate: \", T\n",
    "    return PosECEF[0]\n",
    "    "
   ]
  },
  {
   "cell_type": "markdown",
   "metadata": {},
   "source": [
    "Info about coordinate system [here](https://stereo-ssc.nascom.nasa.gov/coordinates_explanation.shtml)"
   ]
  },
  {
   "cell_type": "code",
   "execution_count": 26,
   "metadata": {
    "collapsed": false
   },
   "outputs": [],
   "source": [
    "def future_position(e,t_data,GPSweek):\n",
    "    import math\n",
    "    #%run -i utils/utils.py\n",
    "    \n",
    "    GM = 3.986004418e14     # [m^3 / s^2] value of earth universal gravitational parameter for GPS user. \n",
    "    w_e = 7.2921151467e-5   # [rad/s] Value of earth rotation\n",
    "    toe = e.HOWtime   # Ephemeris time\n",
    "    M_o = e.M0  # Mean Anomaly\n",
    "    #print \"Mean ANomaly from RINEX: \",M_o\n",
    "    \n",
    "    a = e.A # semi-major axis\n",
    "    ec = e.ecc #Eccentricity\n",
    "    delta_n = e.dn  # mean motion difference From Computed value\n",
    "    #n_o = math.sqrt(GM/math.pow(a,3))   # computed mean motion\n",
    "    t = t_data - toe  # Time from ephemeris refrence epoc\n",
    "    \n",
    "    if t < -302400:\n",
    "        t += 604800\n",
    "    if t > 302400:\n",
    "        t -= 604800\n",
    "        \n",
    "    #print \"my new time: \", t_data, \" - ephemeris time: \", toe, \" - diff time: \",t\n",
    "    u_j = M_o + (math.sqrt(GM/(a**3)) + delta_n) * t          #Mean Anomaly at my time (rad/secs)\n",
    "    #n = n_o + delta_n  #corrected mean motion\n",
    "    #M_k = M_o + n     # Mean Anomaly\n",
    "    #E = GetEccentricAnomaly(ec,u_j,4)   # E = eccentric anomaly\n",
    "   \n",
    "    E = MeanToEccentricAnomaly(ec,u_j)\n",
    "    #print \"Eccentric Anomaly : \",E\n",
    "    M = E - ec*math.sin(E)\n",
    "    fj = TrueAnomaly(ec,E)\n",
    "    # with the E, I can get M,, the M in the new ephoc M = E - ec*sin(E)\n",
    "    Omegaj = e.OMEGA0 + (e.OMEGAdot - w_e)*t - w_e*toe  #Longitude for ascending node\n",
    "    #print \"omega_j: \",Omegaj\n",
    "    wj = e.w + fj + e.Cuc*math.cos(2*(e.w+fj)) + e.Cus*math.sin(2*(e.w+fj)) #Argument of Perigee\n",
    "    #print \"Argument of peroigee:\",wj\n",
    "    rj = a*(1 - ec*math.cos(E)) + e.Crc*math.cos(2*(e.w+fj)) + e.Crs*math.sin(2*(e.w+fj)) #Radial distance\n",
    "    ij = e.i0 + e.idot*t + e.Cic*math.cos(2*(e.w+fj)) + e.Cis*math.sin(2*(e.w+fj)) # Inclination\n",
    "    #print \"Radial distance: \", rj, \" - new Inclination:\", ij\n",
    "    \n",
    "    #toECEF frame\n",
    "    x,y = GetPositionECEF(rj,fj)\n",
    "    r = np.array([[x,y,0]])\n",
    "    POS = MatrixRotation(Omegaj,wj,ij,r)\n",
    "    x2,y2 = GetPositionOrbitPlane(a,E,ec)\n",
    "    x3,y3,z3 = GetFirstPointAries(rj,Omegaj,wj,fj,ij)\n",
    "    x,y,z = GetHeliocentricCoordenates(x3,y3,z3,ij)\n",
    "    #print \"Right Ascension - Declination: \",GetRA_Dec(E,ec,a,wj,Omegaj,ij)\n",
    "    return POS"
   ]
  },
  {
   "cell_type": "code",
   "execution_count": 27,
   "metadata": {
    "collapsed": false
   },
   "outputs": [
    {
     "name": "stdout",
     "output_type": "stream",
     "text": [
      "PRN:  GPS 1\n",
      "GPS time: 280800\n",
      "\n"
     ]
    }
   ],
   "source": [
    "import datetime\n",
    "PRN = 23\n",
    "#import ephem\n",
    "\n",
    "navfile = 'navRINEX'\n",
    "navHeader, navData = gpstk.readRinex3Nav(navfile)\n",
    "# setup ephemeris store to look for satellite positions\n",
    "bcestore = gpstk.GPSEphemerisStore()\n",
    "contador = 1\n",
    " \n",
    "for navDataObj in navData:\n",
    "    ephem = navDataObj.toGPSEphemeris()\n",
    "    bcestore.addEphemeris(ephem)\n",
    "    if contador == 1:\n",
    "        print \"PRN: \",ephem.satID\n",
    "        globalEphem = ephem\n",
    "        POS = future_position(ephem,280850,1937)\n",
    "        print \"GPS time:\", ephem.HOWtime\n",
    "        print \n",
    "        contador += 1 \n",
    "bcestore.SearchNear()\n",
    "navData.close()"
   ]
  },
  {
   "cell_type": "code",
   "execution_count": 51,
   "metadata": {
    "collapsed": false
   },
   "outputs": [],
   "source": [
    "def LLA2ECEF(longitude,latitude):\n",
    "    \"\"\"Convert lat, lon, alt to Earth-centered, Earth-fixed coordinates.\n",
    "    Input: lla - (lat, lon, alt) in (decimal degrees, decimal degees, m)\n",
    "    Output: ecef - (x, y, z) in (m, m, m)\n",
    "    \"\"\"\n",
    "    point = str(str(longitude)+','+str(latitude))\n",
    "    #Decompose the input\n",
    "    global lat, lon, alt\n",
    "    lat = deg2rad(latitude)\n",
    "    lon = deg2rad(longitude)\n",
    "    g = geocoder.elevation(point) #lon,lat\n",
    "    alt =  g.meters #elevation\n",
    "    #Calculate length of the normal to the ellipsoid\n",
    "    N = WGS84.a / math.sqrt(1 - (WGS84.e * math.sin(lat))**2)\n",
    "    #Calculate ecef coordinates\n",
    "    #print N,alt,lat,lon\n",
    "    \n",
    "    try:\n",
    "        x = (N + alt) * math.cos(lat) * math.cos(lon)\n",
    "        y = (N + alt) * math.cos(lat) * math.sin(lon)\n",
    "        z = (N * (1 - WGS84.e**2) + alt) * math.sin(lat)\n",
    "    except mistake:\n",
    "        print N,alt\n",
    "    \n",
    "    #Return the ecef coordinates\n",
    "    return (x, y, z)"
   ]
  },
  {
   "cell_type": "code",
   "execution_count": 52,
   "metadata": {
    "collapsed": false
   },
   "outputs": [],
   "source": [
    "def ECEF2SEZ(satellite_position_ecef,receiver_position_ecef):\n",
    "    \"\"\"\n",
    "    First, pos to SEZ (South - East - Local Vertical)\n",
    "    Function takes receiver and satellite locations, both in ECEF format and returns\n",
    "    satellite location relating to receiver position in ecef format. \n",
    "    Function first substract distances to get new satellite position but this is\n",
    "    calculated to parallel coordinate system. We need to rotate moved coordinate\n",
    "    system to be rectangluar to tangential surface to get right azimuth and\n",
    "    elevation angles.\n",
    "    \"\"\"\n",
    "    fi = lat\n",
    "    lam = lon\n",
    "    h = alt\n",
    "    position = list(satellite_position_ecef)\n",
    "    R = list(receiver_position_ecef)\n",
    "    #Substract position points to get satellite position relating\n",
    "    #to receiver postion on earth \n",
    "    pos = [0, 0, 0]\n",
    "    pos[0] = ((position[0]) - (R[0]))\n",
    "    pos[1] = ((position[1]) - (R[1]))\n",
    "    pos[2] = ((position[2]) - (R[2]))\n",
    "    #Rotation matrix for coordinate axis twist\n",
    "    rot = np.array([[math.sin(fi)*math.cos(lam), math.sin(fi)* math.sin(lam), -math.cos(fi)], \n",
    "        [-math.sin(lam), math.cos(lam), 0],\n",
    "        [math.cos(fi)*math.cos(lam), math.cos(fi)*math.sin(lam), math.sin(fi)]])\n",
    "    #Marix product to get coordinates rectangular to tangetial surface on \n",
    "    #receiver location\n",
    "    sez = np.dot(rot, pos)\n",
    "    s = sez[0]\n",
    "    e = sez[1] \n",
    "    z = sez[2]\n",
    "    return sez"
   ]
  },
  {
   "cell_type": "code",
   "execution_count": 53,
   "metadata": {
    "collapsed": true
   },
   "outputs": [],
   "source": [
    "def azimuthAndEvevation(sez):\n",
    "    \"\"\"\n",
    "    Function takes twisted coordinates and returns azimuth and\n",
    "    elevation angle of the satellite relating to receviver \n",
    "    \"\"\"\n",
    "    s = sez[0]\n",
    "    e = sez[1]\n",
    "    z = sez[2]\n",
    "    distance = math.sqrt(s**2 + e**2 + z**2)\n",
    "    El = rad2deg(math.asin(z / distance))\n",
    "    Az = rad2deg(math.atan2(e, -s))\n",
    "    #Azimuth angle is in range [0, 360] degrees\n",
    "    Az = Az % 360\n",
    "    #Elevation angle is in range [0, 90] degrees\n",
    "    El = El % 90\n",
    "    return Az, El"
   ]
  },
  {
   "cell_type": "code",
   "execution_count": 54,
   "metadata": {
    "collapsed": false
   },
   "outputs": [],
   "source": [
    "def ECEFtoAzElev(pos,lon,lat):\n",
    "    '''\n",
    "    pos: Position of satellite in ECEF\n",
    "    lon: Longitude of receptor in earth\n",
    "    lat: Latitude of receptor in earth\n",
    "    '''\n",
    "    posECEF = LLA2ECEF(lon,lat)\n",
    "    EarthPosECEF = POS\n",
    "    sez = ECEF2SEZ(EarthPosECEF,posECEF)\n",
    "    Az,El = azimuthAndEvevation(sez)\n",
    "    return Az,El"
   ]
  },
  {
   "cell_type": "code",
   "execution_count": 55,
   "metadata": {
    "collapsed": false
   },
   "outputs": [
    {
     "name": "stdout",
     "output_type": "stream",
     "text": [
      "Azimuth:  343.395629913  Elevation:  56.4048975101\n"
     ]
    }
   ],
   "source": [
    "Longitude_inGround = -73.1224429 \n",
    "Latitude_inGround = 7.1388027\n",
    "AZ,EL = ECEFtoAzElev(POS,Longitude_inGround,Latitude_inGround)\n",
    "print \"Azimuth: \",AZ,\" Elevation: \",EL"
   ]
  },
  {
   "cell_type": "code",
   "execution_count": 56,
   "metadata": {
    "collapsed": true
   },
   "outputs": [],
   "source": [
    "def to_skyplot(elevation, azimut):\n",
    "    e = np.array(elevation)\n",
    "    a = np.array(azimut)\n",
    "    sx = ((90-e)/90) * np.sin (a * (np.pi/180))\n",
    "    sy = ((90-e)/90) * np.cos (a * (np.pi/180))\n",
    "    return (sx,sy)"
   ]
  },
  {
   "cell_type": "code",
   "execution_count": 57,
   "metadata": {
    "collapsed": false
   },
   "outputs": [
    {
     "data": {
      "text/plain": [
       "<matplotlib.collections.PathCollection at 0xa75b888c>"
      ]
     },
     "execution_count": 57,
     "metadata": {},
     "output_type": "execute_result"
    },
    {
     "data": {
      "image/png": "[encoded data removed]",
      "text/plain": [
       "<matplotlib.figure.Figure at 0xa764d24c>"
      ]
     },
     "metadata": {},
     "output_type": "display_data"
    }
   ],
   "source": [
    "x,y = to_skyplot(EL,AZ)\n",
    "axes = plt.gca()\n",
    "axes.set_xlim([-1,1])\n",
    "axes.set_ylim([-1,1])\n",
    "plt.scatter(x,y)"
   ]
  },
  {
   "cell_type": "code",
   "execution_count": 66,
   "metadata": {
    "collapsed": false,
    "scrolled": true
   },
   "outputs": [
    {
     "name": "stdout",
     "output_type": "stream",
     "text": [
      "115230\n",
      "GPS 1\n"
     ]
    }
   ],
   "source": [
    "import datetime\n",
    "#PRN = All\n",
    "\n",
    "Longitude_inGround = -73.1224429 \n",
    "Latitude_inGround = 7.1388027\n",
    "WeekSec = UTC2GPS(datetime.datetime.now()) #second of week\n",
    "print WeekSec\n",
    "list_PRN = []\n",
    "AZIMUTH = []\n",
    "ELEVATION = []\n",
    "Times = []\n",
    "Diffs = []\n",
    "ownPRN = np.arange(0,32)\n",
    "prueba = 1\n",
    "\n",
    "navfile = 'navRINEX'\n",
    "navHeader, navData = gpstk.readRinex3Nav(navfile)\n",
    "bcestore = gpstk.GPSEphemerisStore()\n",
    " \n",
    "for navDataObj in navData:\n",
    "    ephem = navDataObj.toGPSEphemeris()\n",
    "    #bcestore.addEphemeris(ephem)\n",
    "    \n",
    "    if 1 == 1: #ephem.HOWtime <= WeekSec: # and math.fabs(WeekSec-ephem.HOWtime) <= 21600.:  #21600 is 6 hours in seconds\n",
    "        #print \"SAT: \",ephem.satID,\" Time: \",ephem.HOWtime, \" Diff: \", math.fabs(WeekSec-ephem.HOWtime)\n",
    "        list_PRN.append(str(ephem.satID))\n",
    "        Times.append(ephem.HOWtime)\n",
    "        Diffs.append(math.fabs(WeekSec-ephem.HOWtime))\n",
    "        POS = future_position(ephem,WeekSec,1937)\n",
    "        AZ,EL = ECEFtoAzElev(POS,Longitude_inGround,Latitude_inGround)\n",
    "        AZIMUTH.append(AZ)\n",
    "        ELEVATION.append(EL)\n",
    "        if prueba == 1:\n",
    "            print ephem.satID\n",
    "            prueba += 1\n",
    "        \n",
    "RES = pd.DataFrame({\"SATID\":list_PRN ,\"Time\": Times, \"Diff\":Diffs,\"Elev\": ELEVATION,\"Azimuth\": AZIMUTH,})\n",
    "        \n",
    "bcestore.SearchNear()\n",
    "navData.close()"
   ]
  },
  {
   "cell_type": "code",
   "execution_count": 68,
   "metadata": {
    "collapsed": false
   },
   "outputs": [
    {
     "data": {
      "text/html": [
       "<div>\n",
       "<table border=\"1\" class=\"dataframe\">\n",
       "  <thead>\n",
       "    <tr style=\"text-align: right;\">\n",
       "      <th></th>\n",
       "      <th>Azimuth</th>\n",
       "      <th>Diff</th>\n",
       "      <th>Elev</th>\n",
       "      <th>SATID</th>\n",
       "      <th>Time</th>\n",
       "    </tr>\n",
       "  </thead>\n",
       "  <tbody>\n",
       "    <tr>\n",
       "      <th>0</th>\n",
       "      <td>36.181661</td>\n",
       "      <td>165570</td>\n",
       "      <td>47.628345</td>\n",
       "      <td>GPS 1</td>\n",
       "      <td>280800</td>\n",
       "    </tr>\n",
       "    <tr>\n",
       "      <th>1</th>\n",
       "      <td>337.713838</td>\n",
       "      <td>215970</td>\n",
       "      <td>45.005512</td>\n",
       "      <td>GPS 2</td>\n",
       "      <td>331200</td>\n",
       "    </tr>\n",
       "    <tr>\n",
       "      <th>2</th>\n",
       "      <td>177.966296</td>\n",
       "      <td>172770</td>\n",
       "      <td>50.578808</td>\n",
       "      <td>GPS 3</td>\n",
       "      <td>288000</td>\n",
       "    </tr>\n",
       "    <tr>\n",
       "      <th>3</th>\n",
       "      <td>122.462351</td>\n",
       "      <td>274290</td>\n",
       "      <td>61.380014</td>\n",
       "      <td>GPS 4</td>\n",
       "      <td>389520</td>\n",
       "    </tr>\n",
       "    <tr>\n",
       "      <th>4</th>\n",
       "      <td>166.195111</td>\n",
       "      <td>223200</td>\n",
       "      <td>56.916518</td>\n",
       "      <td>GPS 5</td>\n",
       "      <td>338430</td>\n",
       "    </tr>\n",
       "  </tbody>\n",
       "</table>\n",
       "</div>"
      ],
      "text/plain": [
       "      Azimuth    Diff       Elev  SATID    Time\n",
       "0   36.181661  165570  47.628345  GPS 1  280800\n",
       "1  337.713838  215970  45.005512  GPS 2  331200\n",
       "2  177.966296  172770  50.578808  GPS 3  288000\n",
       "3  122.462351  274290  61.380014  GPS 4  389520\n",
       "4  166.195111  223200  56.916518  GPS 5  338430"
      ]
     },
     "execution_count": 68,
     "metadata": {},
     "output_type": "execute_result"
    }
   ],
   "source": [
    "RES.head()"
   ]
  },
  {
   "cell_type": "code",
   "execution_count": 67,
   "metadata": {
    "collapsed": false
   },
   "outputs": [
    {
     "data": {
      "text/html": [
       "<div>\n",
       "<table border=\"1\" class=\"dataframe\">\n",
       "  <thead>\n",
       "    <tr style=\"text-align: right;\">\n",
       "      <th></th>\n",
       "      <th>Azimuth</th>\n",
       "      <th>Diff</th>\n",
       "      <th>Elev</th>\n",
       "      <th>SATID</th>\n",
       "      <th>Time</th>\n",
       "    </tr>\n",
       "  </thead>\n",
       "  <tbody>\n",
       "    <tr>\n",
       "      <th>226</th>\n",
       "      <td>242.140150</td>\n",
       "      <td>311850</td>\n",
       "      <td>20.300536</td>\n",
       "      <td>GPS 7</td>\n",
       "      <td>427080</td>\n",
       "    </tr>\n",
       "    <tr>\n",
       "      <th>227</th>\n",
       "      <td>356.363148</td>\n",
       "      <td>312390</td>\n",
       "      <td>1.469682</td>\n",
       "      <td>GPS 8</td>\n",
       "      <td>427620</td>\n",
       "    </tr>\n",
       "    <tr>\n",
       "      <th>228</th>\n",
       "      <td>93.792841</td>\n",
       "      <td>312450</td>\n",
       "      <td>74.886592</td>\n",
       "      <td>GPS 15</td>\n",
       "      <td>427680</td>\n",
       "    </tr>\n",
       "    <tr>\n",
       "      <th>229</th>\n",
       "      <td>160.521615</td>\n",
       "      <td>314310</td>\n",
       "      <td>67.609189</td>\n",
       "      <td>GPS 13</td>\n",
       "      <td>429540</td>\n",
       "    </tr>\n",
       "    <tr>\n",
       "      <th>230</th>\n",
       "      <td>340.816264</td>\n",
       "      <td>315660</td>\n",
       "      <td>18.129045</td>\n",
       "      <td>GPS 10</td>\n",
       "      <td>430890</td>\n",
       "    </tr>\n",
       "  </tbody>\n",
       "</table>\n",
       "</div>"
      ],
      "text/plain": [
       "        Azimuth    Diff       Elev   SATID    Time\n",
       "226  242.140150  311850  20.300536   GPS 7  427080\n",
       "227  356.363148  312390   1.469682   GPS 8  427620\n",
       "228   93.792841  312450  74.886592  GPS 15  427680\n",
       "229  160.521615  314310  67.609189  GPS 13  429540\n",
       "230  340.816264  315660  18.129045  GPS 10  430890"
      ]
     },
     "execution_count": 67,
     "metadata": {},
     "output_type": "execute_result"
    }
   ],
   "source": [
    "RES.tail()"
   ]
  },
  {
   "cell_type": "code",
   "execution_count": null,
   "metadata": {
    "collapsed": true
   },
   "outputs": [],
   "source": [
    "for k in range (0,len(RES)):\n",
    "    if "
   ]
  },
  {
   "cell_type": "code",
   "execution_count": null,
   "metadata": {
    "collapsed": true
   },
   "outputs": [],
   "source": [
    "fig =plt.figure(figsize=(6,6))\n",
    "axes = plt.gca()\n",
    "axes.set_xlim([-1,1])\n",
    "axes.set_ylim([-1,1])\n",
    "plt.scatter(sx3,sy3,s=1, alpha=0.5, color = 'blue')\n",
    "plt.scatter(sxo,syo,s=1, alpha=0.5, color = 'black')\n",
    "plt.title('PRN Position')\n",
    "plt.grid()"
   ]
  },
  {
   "cell_type": "code",
   "execution_count": null,
   "metadata": {
    "collapsed": true
   },
   "outputs": [],
   "source": []
  },
  {
   "cell_type": "code",
   "execution_count": 66,
   "metadata": {
    "collapsed": false,
    "scrolled": true
   },
   "outputs": [
    {
     "name": "stdout",
     "output_type": "stream",
     "text": [
      "115230\n",
      "GPS 1\n"
     ]
    }
   ],
   "source": [
    "import datetime\n",
    "#PRN = All\n",
    "\n",
    "Longitude_inGround = -73.1224429 \n",
    "Latitude_inGround = 7.1388027\n",
    "WeekSec = UTC2GPS(datetime.datetime.now()) #second of week\n",
    "print WeekSec\n",
    "list_PRN = []\n",
    "AZIMUTH = []\n",
    "ELEVATION = []\n",
    "Times = []\n",
    "Diffs = []\n",
    "ownPRN = np.arange(0,32)\n",
    "prueba = 1\n",
    "\n",
    "navfile = 'navRINEX'\n",
    "navHeader, navData = gpstk.readRinex3Nav(navfile)\n",
    "bcestore = gpstk.GPSEphemerisStore()\n",
    " \n",
    "for navDataObj in navData:\n",
    "    ephem = navDataObj.toGPSEphemeris()\n",
    "    #bcestore.addEphemeris(ephem)\n",
    "    \n",
    "    if 1 == 1: #ephem.HOWtime <= WeekSec: # and math.fabs(WeekSec-ephem.HOWtime) <= 21600.:  #21600 is 6 hours in seconds\n",
    "        #print \"SAT: \",ephem.satID,\" Time: \",ephem.HOWtime, \" Diff: \", math.fabs(WeekSec-ephem.HOWtime)\n",
    "        list_PRN.append(str(ephem.satID))\n",
    "        Times.append(ephem.HOWtime)\n",
    "        Diffs.append(math.fabs(WeekSec-ephem.HOWtime))\n",
    "        POS = future_position(ephem,WeekSec,1937)\n",
    "        AZ,EL = ECEFtoAzElev(POS,Longitude_inGround,Latitude_inGround)\n",
    "        AZIMUTH.append(AZ)\n",
    "        ELEVATION.append(EL)\n",
    "        if prueba == 1:\n",
    "            print ephem.satID\n",
    "            prueba += 1\n",
    "        \n",
    "RES = pd.DataFrame({\"SATID\":list_PRN ,\"Time\": Times, \"Diff\":Diffs,\"Elev\": ELEVATION,\"Azimuth\": AZIMUTH,})\n",
    "        \n",
    "bcestore.SearchNear()\n",
    "navData.close()"
   ]
  }
 ],
 "metadata": {
  "kernelspec": {
   "display_name": "Python 2",
   "language": "python",
   "name": "python2"
  },
  "language_info": {
   "codemirror_mode": {
    "name": "ipython",
    "version": 2
   },
   "file_extension": ".py",
   "mimetype": "text/x-python",
   "name": "python",
   "nbconvert_exporter": "python",
   "pygments_lexer": "ipython2",
   "version": "2.7.12"
  }
 },
 "nbformat": 4,
 "nbformat_minor": 1
}
