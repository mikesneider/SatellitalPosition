{
 "cells": [
  {
   "cell_type": "code",
   "execution_count": null,
   "metadata": {
    "collapsed": true
   },
   "outputs": [],
   "source": [
    "#This is for Know the satellites position with a specific time and date "
   ]
  },
  {
   "cell_type": "code",
   "execution_count": 1,
   "metadata": {
    "collapsed": false
   },
   "outputs": [],
   "source": [
    "#Now I need to know the near \n",
    "import os, sys, time, datetime, re, gpstk\n",
    "from ftplib import FTP\n",
    "import pandas as pd\n",
    "import numpy as np\n",
    "from IPython.display import clear_output\n",
    "import matplotlib.pyplot as plt\n",
    "%matplotlib inline"
   ]
  },
  {
   "cell_type": "code",
   "execution_count": 2,
   "metadata": {
    "collapsed": true
   },
   "outputs": [],
   "source": [
    "def to_radians(array):\n",
    "    rads = array*(np.pi /180.)\n",
    "    return rads\n",
    "\n",
    "def compute_distance(df,longitude, latitude):\n",
    "    R = 6371e3 # earth radius metres, mean radius = 6371km\n",
    "    n = len(df.Latitude)\n",
    "    ArrayLat = pd.Series([latitude] * n)\n",
    "    ArrayLon = pd.Series([longitude] * n)\n",
    "    #print len(ArrayLat), type(ArrayLat), type(df.Latitude)\n",
    "    phi1 = to_radians(df.Latitude) #degrees to radians\n",
    "    phi2 = to_radians(ArrayLat)\n",
    "    lambda1 = to_radians(df.Longitude)\n",
    "    lambda2 = to_radians(ArrayLon)\n",
    "    dphi = phi2 - phi1\n",
    "    dlambda = lambda2 - lambda1\n",
    "    a = np.sin(dphi/2.)**2 + (np.cos(phi1) * np.cos(phi2) * np.sin(dlambda/2.)**2 )\n",
    "    c = 2 * np.arctan2(np.sqrt(a),np.sqrt(1.-a))\n",
    "    d = R * c\n",
    "    return d\n",
    "\n",
    "float_formatter = lambda x: \"%.2f\" % x\n",
    "\n",
    "def to_skyplot(elevation, azimut):\n",
    "    e = np.array(elevation)\n",
    "    a = np.array(azimut)\n",
    "    sx = ((90-e)/90) * np.sin (a * (np.pi/180))\n",
    "    sy = ((90-e)/90) * np.cos (a * (np.pi/180))\n",
    "    return (sx,sy)"
   ]
  },
  {
   "cell_type": "code",
   "execution_count": 3,
   "metadata": {
    "collapsed": true
   },
   "outputs": [],
   "source": [
    "#Thanks to https://github.com/twillis449\n",
    "def gunzip_some_file(compressed_file,\n",
    "                     uncompressed_file,\n",
    "                     delete_file = 1):\n",
    "    print 'uncompressing file 1 to file 2 ', compressed_file, uncompressed_file\n",
    "# if file is already uncompressed, do nothing\n",
    "    if compressed_file == uncompressed_file:\n",
    "        return\n",
    "    # make sure there is a file\n",
    "    if not os.path.isfile(compressed_file):\n",
    "        if(compressed_file[-1] == 'Z'):\n",
    "            # try another form\n",
    "            warnings.warn(\"No .Z form of compressed file '%s', trying .gz\"%compressed_file)\n",
    "            print \"No .Z form of compressed file  trying .gz\"\n",
    "            new_compressed = compressed_file[:-1] + \"gz\"\n",
    "            return gunzip_some_file(new_compressed, uncompressed_file,\n",
    "                                    delete_file)\n",
    "        raise Albus_RINEX.RINEX_Data_Barf(\"No such file '%s' to uncompress\"%compressed_file)\n",
    "    if compressed_file[-3:] != 'zip' and compressed_file[-1] != 'Z':\n",
    "        # file is most likely uncompressed ...\n",
    "        command = \"mv  %s %s\"%(compressed_file, uncompressed_file)\n",
    "    elif (compressed_file[-3:] == 'zip'): # we have a trignet file\n",
    "        command = \"unzip -np %s '*d' > %s\"%(compressed_file,uncompressed_file)\n",
    "    else:   \n",
    "        command = \"gunzip -dc %s > %s\"%(compressed_file,uncompressed_file)\n",
    "    print 'gunzip executing ', command\n",
    "    retcode = os.system(command)\n",
    "    print 'gunzip returned ', retcode\n",
    "# handle non-zero return code error from extraction \n",
    "    if(retcode):\n",
    "        raise No_RINEX_File_Error(\"Could not run '%s'\"%command)\n",
    "    if(delete_file):\n",
    "        try:\n",
    "            os.remove(compressed_file)\n",
    "        except:\n",
    "            print 'failure to remove compressed file - probably not a compressed file'\n",
    "    return\n"
   ]
  },
  {
   "cell_type": "code",
   "execution_count": 91,
   "metadata": {
    "collapsed": true
   },
   "outputs": [],
   "source": [
    "Sat_Time = \"01:20:23\"\n",
    "Sat_Date = \"10/01/2017\"\n",
    "Longitude_inGround = -73.1224429 \n",
    "Latitude_inGround = 7.1388027\n"
   ]
  },
  {
   "cell_type": "code",
   "execution_count": 94,
   "metadata": {
    "collapsed": false
   },
   "outputs": [
    {
     "name": "stdout",
     "output_type": "stream",
     "text": [
      "2017-02-02 01:30:00\n"
     ]
    }
   ],
   "source": [
    "import datetime as dt\n",
    "mytime = dt.datetime.strptime('0130','%H%M').time()\n",
    "mydatetime = dt.datetime.combine(dt.date.today(), mytime)\n",
    "print mydatetime"
   ]
  },
  {
   "cell_type": "code",
   "execution_count": 96,
   "metadata": {
    "collapsed": false
   },
   "outputs": [
    {
     "name": "stdout",
     "output_type": "stream",
     "text": [
      "2017-01-10 01:20:23\n"
     ]
    }
   ],
   "source": [
    "#Parse String to Date\n",
    "import datetime\n",
    "\n",
    "time_sat = datetime.datetime.strptime(Sat_Time,'%H:%M:%S')\n",
    "date_sat = datetime.datetime.strptime(Sat_Date,'%d/%m/%Y')\n",
    "\n",
    "InputDate = datetime.datetime.combine(datetime.date(date_sat.year, date_sat.month, date_sat.day), datetime.time(time_sat.hour, time_sat.minute,time_sat.second))\n",
    "print InputDate"
   ]
  },
  {
   "cell_type": "code",
   "execution_count": 98,
   "metadata": {
    "collapsed": false
   },
   "outputs": [
    {
     "data": {
      "text/plain": [
       "10"
      ]
     },
     "execution_count": 98,
     "metadata": {},
     "output_type": "execute_result"
    }
   ],
   "source": [
    "day_of_year = InputDate.timetuple().tm_yday\n",
    "day_of_year"
   ]
  },
  {
   "cell_type": "code",
   "execution_count": 45,
   "metadata": {
    "collapsed": false,
    "scrolled": true
   },
   "outputs": [
    {
     "data": {
      "text/plain": [
       "Index([u'Unnamed: 0', u'CODE', u'Longitude', u'Latitude'], dtype='object')"
      ]
     },
     "execution_count": 45,
     "metadata": {},
     "output_type": "execute_result"
    }
   ],
   "source": [
    "UNAVCO_list = pd.read_csv(\"UNAVCOlist.csv\")\n",
    "UNAVCO_list.columns"
   ]
  },
  {
   "cell_type": "markdown",
   "metadata": {},
   "source": [
    "search the nearest station"
   ]
  },
  {
   "cell_type": "code",
   "execution_count": 9,
   "metadata": {
    "collapsed": false
   },
   "outputs": [
    {
     "data": {
      "text/plain": [
       "(7.1388027, -73.1224429)"
      ]
     },
     "execution_count": 9,
     "metadata": {},
     "output_type": "execute_result"
    }
   ],
   "source": [
    "#Universidad Industrial de Santander\n",
    "Latitude_inGround,Longitude_inGround"
   ]
  },
  {
   "cell_type": "code",
   "execution_count": 10,
   "metadata": {
    "collapsed": false
   },
   "outputs": [],
   "source": [
    "d = compute_distance(UNAVCO_list,Longitude_inGround,Latitude_inGround)\n",
    "UNAVCO_list['Distance'] = d"
   ]
  },
  {
   "cell_type": "code",
   "execution_count": 11,
   "metadata": {
    "collapsed": false,
    "scrolled": true
   },
   "outputs": [
    {
     "data": {
      "text/html": [
       "<div>\n",
       "<table border=\"1\" class=\"dataframe\">\n",
       "  <thead>\n",
       "    <tr style=\"text-align: right;\">\n",
       "      <th></th>\n",
       "      <th>Unnamed: 0</th>\n",
       "      <th>CODE</th>\n",
       "      <th>Longitude</th>\n",
       "      <th>Latitude</th>\n",
       "      <th>Distance</th>\n",
       "    </tr>\n",
       "  </thead>\n",
       "  <tbody>\n",
       "    <tr>\n",
       "      <th>2632</th>\n",
       "      <td>2632</td>\n",
       "      <td>BUCM</td>\n",
       "      <td>-73.181700</td>\n",
       "      <td>7.116900</td>\n",
       "      <td>6977.043272</td>\n",
       "    </tr>\n",
       "    <tr>\n",
       "      <th>2673</th>\n",
       "      <td>2673</td>\n",
       "      <td>BUCM</td>\n",
       "      <td>-73.181700</td>\n",
       "      <td>7.116900</td>\n",
       "      <td>6977.043272</td>\n",
       "    </tr>\n",
       "    <tr>\n",
       "      <th>2901</th>\n",
       "      <td>2901</td>\n",
       "      <td>BUCM</td>\n",
       "      <td>-73.181700</td>\n",
       "      <td>7.116900</td>\n",
       "      <td>6977.043272</td>\n",
       "    </tr>\n",
       "    <tr>\n",
       "      <th>2690</th>\n",
       "      <td>2690</td>\n",
       "      <td>FLOR</td>\n",
       "      <td>-73.088600</td>\n",
       "      <td>7.041600</td>\n",
       "      <td>11435.389590</td>\n",
       "    </tr>\n",
       "    <tr>\n",
       "      <th>2668</th>\n",
       "      <td>2668</td>\n",
       "      <td>ARAT</td>\n",
       "      <td>-73.052200</td>\n",
       "      <td>6.703200</td>\n",
       "      <td>49053.488836</td>\n",
       "    </tr>\n",
       "    <tr>\n",
       "      <th>3048</th>\n",
       "      <td>3048</td>\n",
       "      <td>PLON</td>\n",
       "      <td>-72.649000</td>\n",
       "      <td>7.384000</td>\n",
       "      <td>58911.122695</td>\n",
       "    </tr>\n",
       "    <tr>\n",
       "      <th>25086</th>\n",
       "      <td>25086</td>\n",
       "      <td>MECE</td>\n",
       "      <td>-73.712000</td>\n",
       "      <td>7.107200</td>\n",
       "      <td>65144.656963</td>\n",
       "    </tr>\n",
       "    <tr>\n",
       "      <th>2728</th>\n",
       "      <td>2728</td>\n",
       "      <td>SOCO</td>\n",
       "      <td>-73.241700</td>\n",
       "      <td>6.462500</td>\n",
       "      <td>76345.500651</td>\n",
       "    </tr>\n",
       "    <tr>\n",
       "      <th>2871</th>\n",
       "      <td>2871</td>\n",
       "      <td>ABRE</td>\n",
       "      <td>-73.225900</td>\n",
       "      <td>8.086800</td>\n",
       "      <td>106027.388816</td>\n",
       "    </tr>\n",
       "    <tr>\n",
       "      <th>24149</th>\n",
       "      <td>24149</td>\n",
       "      <td>CUC1</td>\n",
       "      <td>-72.512800</td>\n",
       "      <td>7.932300</td>\n",
       "      <td>110911.258013</td>\n",
       "    </tr>\n",
       "    <tr>\n",
       "      <th>3075</th>\n",
       "      <td>3075</td>\n",
       "      <td>SARD</td>\n",
       "      <td>-72.806800</td>\n",
       "      <td>8.096700</td>\n",
       "      <td>112050.309243</td>\n",
       "    </tr>\n",
       "    <tr>\n",
       "      <th>2712</th>\n",
       "      <td>2712</td>\n",
       "      <td>OLIV</td>\n",
       "      <td>-73.321200</td>\n",
       "      <td>6.140100</td>\n",
       "      <td>113199.621271</td>\n",
       "    </tr>\n",
       "    <tr>\n",
       "      <th>2872</th>\n",
       "      <td>2872</td>\n",
       "      <td>ACHI</td>\n",
       "      <td>-73.576700</td>\n",
       "      <td>8.246200</td>\n",
       "      <td>132922.098131</td>\n",
       "    </tr>\n",
       "    <tr>\n",
       "      <th>2709</th>\n",
       "      <td>2709</td>\n",
       "      <td>MONI</td>\n",
       "      <td>-73.573300</td>\n",
       "      <td>5.863800</td>\n",
       "      <td>150269.131127</td>\n",
       "    </tr>\n",
       "    <tr>\n",
       "      <th>2714</th>\n",
       "      <td>2714</td>\n",
       "      <td>PAIP</td>\n",
       "      <td>-73.117700</td>\n",
       "      <td>5.755200</td>\n",
       "      <td>153850.493211</td>\n",
       "    </tr>\n",
       "    <tr>\n",
       "      <th>3036</th>\n",
       "      <td>3036</td>\n",
       "      <td>PBER</td>\n",
       "      <td>-74.410900</td>\n",
       "      <td>6.465700</td>\n",
       "      <td>160747.984512</td>\n",
       "    </tr>\n",
       "    <tr>\n",
       "      <th>2729</th>\n",
       "      <td>2729</td>\n",
       "      <td>TAME</td>\n",
       "      <td>-71.767900</td>\n",
       "      <td>6.446800</td>\n",
       "      <td>168193.546279</td>\n",
       "    </tr>\n",
       "    <tr>\n",
       "      <th>3092</th>\n",
       "      <td>3092</td>\n",
       "      <td>TIBU</td>\n",
       "      <td>-72.736200</td>\n",
       "      <td>8.630500</td>\n",
       "      <td>171237.598550</td>\n",
       "    </tr>\n",
       "    <tr>\n",
       "      <th>3100</th>\n",
       "      <td>3100</td>\n",
       "      <td>TUNJ</td>\n",
       "      <td>-73.332600</td>\n",
       "      <td>5.581800</td>\n",
       "      <td>174681.482752</td>\n",
       "    </tr>\n",
       "    <tr>\n",
       "      <th>2734</th>\n",
       "      <td>2734</td>\n",
       "      <td>TUNJ</td>\n",
       "      <td>-73.332600</td>\n",
       "      <td>5.581800</td>\n",
       "      <td>174681.482752</td>\n",
       "    </tr>\n",
       "    <tr>\n",
       "      <th>2667</th>\n",
       "      <td>2667</td>\n",
       "      <td>AQUI</td>\n",
       "      <td>-72.883900</td>\n",
       "      <td>5.545300</td>\n",
       "      <td>179139.667500</td>\n",
       "    </tr>\n",
       "    <tr>\n",
       "      <th>2880</th>\n",
       "      <td>2880</td>\n",
       "      <td>AQUI</td>\n",
       "      <td>-72.883900</td>\n",
       "      <td>5.545300</td>\n",
       "      <td>179139.667500</td>\n",
       "    </tr>\n",
       "    <tr>\n",
       "      <th>2694</th>\n",
       "      <td>2694</td>\n",
       "      <td>HATO</td>\n",
       "      <td>-71.761800</td>\n",
       "      <td>6.153800</td>\n",
       "      <td>185956.063608</td>\n",
       "    </tr>\n",
       "    <tr>\n",
       "      <th>2961</th>\n",
       "      <td>2961</td>\n",
       "      <td>HATO</td>\n",
       "      <td>-71.761800</td>\n",
       "      <td>6.153800</td>\n",
       "      <td>185956.063608</td>\n",
       "    </tr>\n",
       "    <tr>\n",
       "      <th>2717</th>\n",
       "      <td>2717</td>\n",
       "      <td>PAZA</td>\n",
       "      <td>-71.887100</td>\n",
       "      <td>5.878400</td>\n",
       "      <td>195621.396327</td>\n",
       "    </tr>\n",
       "    <tr>\n",
       "      <th>3035</th>\n",
       "      <td>3035</td>\n",
       "      <td>PAZA</td>\n",
       "      <td>-71.887100</td>\n",
       "      <td>5.878400</td>\n",
       "      <td>195621.396327</td>\n",
       "    </tr>\n",
       "    <tr>\n",
       "      <th>2716</th>\n",
       "      <td>2716</td>\n",
       "      <td>PAUT</td>\n",
       "      <td>-72.087900</td>\n",
       "      <td>5.669700</td>\n",
       "      <td>199382.306059</td>\n",
       "    </tr>\n",
       "    <tr>\n",
       "      <th>2902</th>\n",
       "      <td>2902</td>\n",
       "      <td>BURR</td>\n",
       "      <td>-73.667000</td>\n",
       "      <td>8.850600</td>\n",
       "      <td>199564.173239</td>\n",
       "    </tr>\n",
       "    <tr>\n",
       "      <th>2736</th>\n",
       "      <td>2736</td>\n",
       "      <td>VEQU</td>\n",
       "      <td>-73.526800</td>\n",
       "      <td>5.366700</td>\n",
       "      <td>202053.749215</td>\n",
       "    </tr>\n",
       "    <tr>\n",
       "      <th>23814</th>\n",
       "      <td>23814</td>\n",
       "      <td>CAPI</td>\n",
       "      <td>-72.427800</td>\n",
       "      <td>5.351400</td>\n",
       "      <td>213064.888275</td>\n",
       "    </tr>\n",
       "    <tr>\n",
       "      <th>...</th>\n",
       "      <td>...</td>\n",
       "      <td>...</td>\n",
       "      <td>...</td>\n",
       "      <td>...</td>\n",
       "      <td>...</td>\n",
       "    </tr>\n",
       "    <tr>\n",
       "      <th>12193</th>\n",
       "      <td>12193</td>\n",
       "      <td>K298</td>\n",
       "      <td>100.576000</td>\n",
       "      <td>-0.961000</td>\n",
       "      <td>19035323.005496</td>\n",
       "    </tr>\n",
       "    <tr>\n",
       "      <th>12130</th>\n",
       "      <td>12130</td>\n",
       "      <td>K204</td>\n",
       "      <td>100.637700</td>\n",
       "      <td>-0.910800</td>\n",
       "      <td>19036236.010491</td>\n",
       "    </tr>\n",
       "    <tr>\n",
       "      <th>12286</th>\n",
       "      <td>12286</td>\n",
       "      <td>K204</td>\n",
       "      <td>100.637700</td>\n",
       "      <td>-0.910800</td>\n",
       "      <td>19036236.010491</td>\n",
       "    </tr>\n",
       "    <tr>\n",
       "      <th>12159</th>\n",
       "      <td>12159</td>\n",
       "      <td>BALA</td>\n",
       "      <td>100.637700</td>\n",
       "      <td>-0.910800</td>\n",
       "      <td>19036236.010491</td>\n",
       "    </tr>\n",
       "    <tr>\n",
       "      <th>12132</th>\n",
       "      <td>12132</td>\n",
       "      <td>K206</td>\n",
       "      <td>100.638800</td>\n",
       "      <td>-0.911500</td>\n",
       "      <td>19036377.420180</td>\n",
       "    </tr>\n",
       "    <tr>\n",
       "      <th>12129</th>\n",
       "      <td>12129</td>\n",
       "      <td>K203</td>\n",
       "      <td>100.634700</td>\n",
       "      <td>-0.926800</td>\n",
       "      <td>19037262.096746</td>\n",
       "    </tr>\n",
       "    <tr>\n",
       "      <th>12262</th>\n",
       "      <td>12262</td>\n",
       "      <td>1339</td>\n",
       "      <td>100.622200</td>\n",
       "      <td>-0.943400</td>\n",
       "      <td>19037586.208215</td>\n",
       "    </tr>\n",
       "    <tr>\n",
       "      <th>12115</th>\n",
       "      <td>12115</td>\n",
       "      <td>1339</td>\n",
       "      <td>100.622200</td>\n",
       "      <td>-0.943400</td>\n",
       "      <td>19037586.208215</td>\n",
       "    </tr>\n",
       "    <tr>\n",
       "      <th>12155</th>\n",
       "      <td>12155</td>\n",
       "      <td>1339</td>\n",
       "      <td>100.622200</td>\n",
       "      <td>-0.943400</td>\n",
       "      <td>19037586.208215</td>\n",
       "    </tr>\n",
       "    <tr>\n",
       "      <th>12192</th>\n",
       "      <td>12192</td>\n",
       "      <td>K297</td>\n",
       "      <td>100.622200</td>\n",
       "      <td>-0.943500</td>\n",
       "      <td>19037594.067275</td>\n",
       "    </tr>\n",
       "    <tr>\n",
       "      <th>12312</th>\n",
       "      <td>12312</td>\n",
       "      <td>P004</td>\n",
       "      <td>100.750300</td>\n",
       "      <td>-1.176700</td>\n",
       "      <td>19065960.339064</td>\n",
       "    </tr>\n",
       "    <tr>\n",
       "      <th>12229</th>\n",
       "      <td>12229</td>\n",
       "      <td>P004</td>\n",
       "      <td>100.750300</td>\n",
       "      <td>-1.176700</td>\n",
       "      <td>19065960.339064</td>\n",
       "    </tr>\n",
       "    <tr>\n",
       "      <th>23719</th>\n",
       "      <td>23719</td>\n",
       "      <td>BNOA</td>\n",
       "      <td>115.209917</td>\n",
       "      <td>-8.746500</td>\n",
       "      <td>19080254.105098</td>\n",
       "    </tr>\n",
       "    <tr>\n",
       "      <th>12220</th>\n",
       "      <td>12220</td>\n",
       "      <td>KAYA</td>\n",
       "      <td>109.410700</td>\n",
       "      <td>0.812300</td>\n",
       "      <td>19087378.915620</td>\n",
       "    </tr>\n",
       "    <tr>\n",
       "      <th>12235</th>\n",
       "      <td>12235</td>\n",
       "      <td>PAGA</td>\n",
       "      <td>100.215000</td>\n",
       "      <td>-2.776900</td>\n",
       "      <td>19132068.976508</td>\n",
       "    </tr>\n",
       "    <tr>\n",
       "      <th>12181</th>\n",
       "      <td>12181</td>\n",
       "      <td>JAMB</td>\n",
       "      <td>103.644800</td>\n",
       "      <td>-1.639700</td>\n",
       "      <td>19306385.921674</td>\n",
       "    </tr>\n",
       "    <tr>\n",
       "      <th>12223</th>\n",
       "      <td>12223</td>\n",
       "      <td>KULU</td>\n",
       "      <td>102.253100</td>\n",
       "      <td>-3.785200</td>\n",
       "      <td>19381840.004899</td>\n",
       "    </tr>\n",
       "    <tr>\n",
       "      <th>12180</th>\n",
       "      <td>12180</td>\n",
       "      <td>ENGG</td>\n",
       "      <td>102.163900</td>\n",
       "      <td>-5.291500</td>\n",
       "      <td>19455028.981548</td>\n",
       "    </tr>\n",
       "    <tr>\n",
       "      <th>12236</th>\n",
       "      <td>12236</td>\n",
       "      <td>PALE</td>\n",
       "      <td>104.699900</td>\n",
       "      <td>-2.900400</td>\n",
       "      <td>19485680.485168</td>\n",
       "    </tr>\n",
       "    <tr>\n",
       "      <th>24733</th>\n",
       "      <td>24733</td>\n",
       "      <td>JOG2</td>\n",
       "      <td>110.372719</td>\n",
       "      <td>-7.763772</td>\n",
       "      <td>19623511.556977</td>\n",
       "    </tr>\n",
       "    <tr>\n",
       "      <th>12222</th>\n",
       "      <td>12222</td>\n",
       "      <td>KRUI</td>\n",
       "      <td>103.934200</td>\n",
       "      <td>-5.188400</td>\n",
       "      <td>19624055.574072</td>\n",
       "    </tr>\n",
       "    <tr>\n",
       "      <th>27828</th>\n",
       "      <td>27828</td>\n",
       "      <td>XMIS</td>\n",
       "      <td>105.688495</td>\n",
       "      <td>-10.449972</td>\n",
       "      <td>19624410.286177</td>\n",
       "    </tr>\n",
       "    <tr>\n",
       "      <th>12107</th>\n",
       "      <td>12107</td>\n",
       "      <td>XMAS</td>\n",
       "      <td>105.689600</td>\n",
       "      <td>-10.449600</td>\n",
       "      <td>19624489.831482</td>\n",
       "    </tr>\n",
       "    <tr>\n",
       "      <th>12177</th>\n",
       "      <td>12177</td>\n",
       "      <td>DEMP</td>\n",
       "      <td>104.927500</td>\n",
       "      <td>-5.114500</td>\n",
       "      <td>19703407.590527</td>\n",
       "    </tr>\n",
       "    <tr>\n",
       "      <th>12164</th>\n",
       "      <td>12164</td>\n",
       "      <td>CINA</td>\n",
       "      <td>104.557100</td>\n",
       "      <td>-5.911600</td>\n",
       "      <td>19724682.967250</td>\n",
       "    </tr>\n",
       "    <tr>\n",
       "      <th>12163</th>\n",
       "      <td>12163</td>\n",
       "      <td>BPIL</td>\n",
       "      <td>105.638600</td>\n",
       "      <td>-6.532000</td>\n",
       "      <td>19862564.605958</td>\n",
       "    </tr>\n",
       "    <tr>\n",
       "      <th>12152</th>\n",
       "      <td>12152</td>\n",
       "      <td>0705</td>\n",
       "      <td>106.849000</td>\n",
       "      <td>-6.490900</td>\n",
       "      <td>19942974.342034</td>\n",
       "    </tr>\n",
       "    <tr>\n",
       "      <th>23608</th>\n",
       "      <td>23608</td>\n",
       "      <td>BAKO</td>\n",
       "      <td>106.848910</td>\n",
       "      <td>-6.491055</td>\n",
       "      <td>19942991.089480</td>\n",
       "    </tr>\n",
       "    <tr>\n",
       "      <th>12158</th>\n",
       "      <td>12158</td>\n",
       "      <td>BAKO</td>\n",
       "      <td>106.849100</td>\n",
       "      <td>-6.491100</td>\n",
       "      <td>19942997.041816</td>\n",
       "    </tr>\n",
       "    <tr>\n",
       "      <th>12064</th>\n",
       "      <td>12064</td>\n",
       "      <td>BAKO</td>\n",
       "      <td>106.849100</td>\n",
       "      <td>-6.491100</td>\n",
       "      <td>19942997.041816</td>\n",
       "    </tr>\n",
       "  </tbody>\n",
       "</table>\n",
       "<p>27868 rows × 5 columns</p>\n",
       "</div>"
      ],
      "text/plain": [
       "       Unnamed: 0  CODE   Longitude   Latitude         Distance\n",
       "2632         2632  BUCM  -73.181700   7.116900      6977.043272\n",
       "2673         2673  BUCM  -73.181700   7.116900      6977.043272\n",
       "2901         2901  BUCM  -73.181700   7.116900      6977.043272\n",
       "2690         2690  FLOR  -73.088600   7.041600     11435.389590\n",
       "2668         2668  ARAT  -73.052200   6.703200     49053.488836\n",
       "3048         3048  PLON  -72.649000   7.384000     58911.122695\n",
       "25086       25086  MECE  -73.712000   7.107200     65144.656963\n",
       "2728         2728  SOCO  -73.241700   6.462500     76345.500651\n",
       "2871         2871  ABRE  -73.225900   8.086800    106027.388816\n",
       "24149       24149  CUC1  -72.512800   7.932300    110911.258013\n",
       "3075         3075  SARD  -72.806800   8.096700    112050.309243\n",
       "2712         2712  OLIV  -73.321200   6.140100    113199.621271\n",
       "2872         2872  ACHI  -73.576700   8.246200    132922.098131\n",
       "2709         2709  MONI  -73.573300   5.863800    150269.131127\n",
       "2714         2714  PAIP  -73.117700   5.755200    153850.493211\n",
       "3036         3036  PBER  -74.410900   6.465700    160747.984512\n",
       "2729         2729  TAME  -71.767900   6.446800    168193.546279\n",
       "3092         3092  TIBU  -72.736200   8.630500    171237.598550\n",
       "3100         3100  TUNJ  -73.332600   5.581800    174681.482752\n",
       "2734         2734  TUNJ  -73.332600   5.581800    174681.482752\n",
       "2667         2667  AQUI  -72.883900   5.545300    179139.667500\n",
       "2880         2880  AQUI  -72.883900   5.545300    179139.667500\n",
       "2694         2694  HATO  -71.761800   6.153800    185956.063608\n",
       "2961         2961  HATO  -71.761800   6.153800    185956.063608\n",
       "2717         2717  PAZA  -71.887100   5.878400    195621.396327\n",
       "3035         3035  PAZA  -71.887100   5.878400    195621.396327\n",
       "2716         2716  PAUT  -72.087900   5.669700    199382.306059\n",
       "2902         2902  BURR  -73.667000   8.850600    199564.173239\n",
       "2736         2736  VEQU  -73.526800   5.366700    202053.749215\n",
       "23814       23814  CAPI  -72.427800   5.351400    213064.888275\n",
       "...           ...   ...         ...        ...              ...\n",
       "12193       12193  K298  100.576000  -0.961000  19035323.005496\n",
       "12130       12130  K204  100.637700  -0.910800  19036236.010491\n",
       "12286       12286  K204  100.637700  -0.910800  19036236.010491\n",
       "12159       12159  BALA  100.637700  -0.910800  19036236.010491\n",
       "12132       12132  K206  100.638800  -0.911500  19036377.420180\n",
       "12129       12129  K203  100.634700  -0.926800  19037262.096746\n",
       "12262       12262  1339  100.622200  -0.943400  19037586.208215\n",
       "12115       12115  1339  100.622200  -0.943400  19037586.208215\n",
       "12155       12155  1339  100.622200  -0.943400  19037586.208215\n",
       "12192       12192  K297  100.622200  -0.943500  19037594.067275\n",
       "12312       12312  P004  100.750300  -1.176700  19065960.339064\n",
       "12229       12229  P004  100.750300  -1.176700  19065960.339064\n",
       "23719       23719  BNOA  115.209917  -8.746500  19080254.105098\n",
       "12220       12220  KAYA  109.410700   0.812300  19087378.915620\n",
       "12235       12235  PAGA  100.215000  -2.776900  19132068.976508\n",
       "12181       12181  JAMB  103.644800  -1.639700  19306385.921674\n",
       "12223       12223  KULU  102.253100  -3.785200  19381840.004899\n",
       "12180       12180  ENGG  102.163900  -5.291500  19455028.981548\n",
       "12236       12236  PALE  104.699900  -2.900400  19485680.485168\n",
       "24733       24733  JOG2  110.372719  -7.763772  19623511.556977\n",
       "12222       12222  KRUI  103.934200  -5.188400  19624055.574072\n",
       "27828       27828  XMIS  105.688495 -10.449972  19624410.286177\n",
       "12107       12107  XMAS  105.689600 -10.449600  19624489.831482\n",
       "12177       12177  DEMP  104.927500  -5.114500  19703407.590527\n",
       "12164       12164  CINA  104.557100  -5.911600  19724682.967250\n",
       "12163       12163  BPIL  105.638600  -6.532000  19862564.605958\n",
       "12152       12152  0705  106.849000  -6.490900  19942974.342034\n",
       "23608       23608  BAKO  106.848910  -6.491055  19942991.089480\n",
       "12158       12158  BAKO  106.849100  -6.491100  19942997.041816\n",
       "12064       12064  BAKO  106.849100  -6.491100  19942997.041816\n",
       "\n",
       "[27868 rows x 5 columns]"
      ]
     },
     "execution_count": 11,
     "metadata": {},
     "output_type": "execute_result"
    }
   ],
   "source": [
    "UNAVCO_list.sort_values(['Distance'], ascending=[True], inplace=True)\n",
    "UNAVCO_list"
   ]
  },
  {
   "cell_type": "code",
   "execution_count": 12,
   "metadata": {
    "collapsed": false,
    "scrolled": true
   },
   "outputs": [
    {
     "name": "stdout",
     "output_type": "stream",
     "text": [
      "BUCM -73.1817 7.1169 6977.04327191\n"
     ]
    }
   ],
   "source": [
    "#search the nearest land stage\n",
    "IDmin = UNAVCO_list.Distance.argmin()\n",
    "S_Code = UNAVCO_list.CODE[IDmin]\n",
    "S_Dist = UNAVCO_list.Distance[IDmin]\n",
    "print S_Code,UNAVCO_list.Longitude[IDmin],UNAVCO_list.Latitude[IDmin],S_Dist"
   ]
  },
  {
   "cell_type": "markdown",
   "metadata": {},
   "source": [
    "Now I have the Name of the Lan Station that I need.\n"
   ]
  },
  {
   "cell_type": "code",
   "execution_count": 13,
   "metadata": {
    "collapsed": false
   },
   "outputs": [
    {
     "name": "stdout",
     "output_type": "stream",
     "text": [
      "Folder Needed: 250 Directory successfully changed.\n",
      "Current working directory: /pub/gps/data/daily/2017/010/17n\n"
     ]
    }
   ],
   "source": [
    "UNAVCO_FTP = 'data-out.unavco.org'\n",
    "NASA_FTP = 'cddis.gsfc.nasa.gov'\n",
    "\n",
    "try:\n",
    "    f = FTP(NASA_FTP)\n",
    "    #f = FTP(UNAVCO_FTP)\n",
    "    \n",
    "except:\n",
    "    pass\n",
    "#print \"Welcome:\", f.getwelcome()\n",
    "f.login()\n",
    "\n",
    "#Now I wnat to look the folder that I need.\n",
    "UNAVCO_FTP_path = '/pub/rinex/nav/' + str(InputDate.year) + '/' + str(day_of_year).zfill(3)\n",
    "FTP_path ='/pub/gps/data/daily/'+ str(InputDate.year) + '/' + str(day_of_year).zfill(3) + '/' + str(InputDate.year)[2:] + 'n'\n",
    "\n",
    "#[data-out.unavco.org] --> /pub/rinex/nav/2017/002\n",
    "#[cddis.gsfc.nasa.gov] --> /pub/gps/data/daily/2017/001/17n --> \n",
    "#    FTP_path ='/pub/gps/data/daily/'+ str_year + '/' + str(day_of_year).zfill(3) + '/' + str_year[2:] + 'n'\n",
    "\n",
    "print \"Folder Needed:\", f.cwd(FTP_path)\n",
    "print \"Current working directory:\", f.pwd()"
   ]
  },
  {
   "cell_type": "code",
   "execution_count": 14,
   "metadata": {
    "collapsed": false,
    "scrolled": false
   },
   "outputs": [
    {
     "name": "stdout",
     "output_type": "stream",
     "text": [
      "Received 40779 of 40779 total bytes (100.0%) bytes\n",
      "('File medi0100.17n.Z', 'to 296.64 [Km]')\n"
     ]
    }
   ],
   "source": [
    "import os, sys\n",
    "from ftplib import FTP \n",
    "\n",
    "\n",
    "LineData = 0\n",
    "while (1):\n",
    "    try:\n",
    "        if(LineData>70):\n",
    "            break\n",
    "        IDmin = UNAVCO_list.Distance.argmin()\n",
    "        NameStation = UNAVCO_list.CODE[IDmin]\n",
    "        LineData += 1\n",
    "        NameFile = NameStation.lower() + str(day_of_year).zfill(3) + '0.' + str(InputDate.year)[2:] + 'n.Z' \n",
    "        #For Now just GPS constallartion, I mean, .n file.'\n",
    "        clear_output(wait=True)\n",
    "        print(\"Try with station: %s\" % (NameFile),\"to \" + str(float_formatter(UNAVCO_list.Distance[IDmin]/1000)) + \" [Km]\")\n",
    "        print\n",
    "        \n",
    "        f.voidcmd(\"TYPE I\")\n",
    "        datasock, size = f.ntransfercmd(\"RETR \"+ NameFile)\n",
    "        bytes_so_far = 0\n",
    "        fd = open(NameFile, 'wb')\n",
    "        \n",
    "        while 1:\n",
    "            buf = datasock.recv(2048) \n",
    "            \n",
    "            fd.write(buf)\n",
    "            bytes_so_far += len(buf)\n",
    "            clear_output(wait=True)\n",
    "            print \"Received\",bytes_so_far, \"of %d total bytes (%.1f%%)\" % (size, 100 * bytes_so_far / float(size)),\"bytes\"\n",
    "            sys.stdout.flush()\n",
    "            if not buf:\n",
    "                break\n",
    "                 \n",
    "            #if bytes_so_far == len(buf):\n",
    "                #print \n",
    "                #break\n",
    "        print(\"File %s\" % (NameFile),\"to \" + str(float_formatter(UNAVCO_list.Distance[IDmin]/1000)) + \" [Km]\")\n",
    "        fd.close()\n",
    "        datasock.close()\n",
    "        f.voidresp\n",
    "        f.close()\n",
    "        break\n",
    "    except:\n",
    "        UNAVCO_list = UNAVCO_list[UNAVCO_list.CODE != NameStation]"
   ]
  },
  {
   "cell_type": "code",
   "execution_count": 15,
   "metadata": {
    "collapsed": false
   },
   "outputs": [
    {
     "data": {
      "text/plain": [
       "'medi0100.17n.Z'"
      ]
     },
     "execution_count": 15,
     "metadata": {},
     "output_type": "execute_result"
    }
   ],
   "source": [
    "NameFile"
   ]
  },
  {
   "cell_type": "code",
   "execution_count": 16,
   "metadata": {
    "collapsed": false
   },
   "outputs": [
    {
     "name": "stdout",
     "output_type": "stream",
     "text": [
      "uncompressing file 1 to file 2  medi0100.17n.Z navRINEX\n",
      "gunzip executing  gunzip -dc medi0100.17n.Z > navRINEX\n",
      "gunzip returned  0\n"
     ]
    }
   ],
   "source": [
    "gunzip_some_file(NameFile,'navRINEX',0)"
   ]
  },
  {
   "cell_type": "code",
   "execution_count": 54,
   "metadata": {
    "collapsed": false
   },
   "outputs": [],
   "source": [
    "navfile = 'navRINEX'\n",
    "navHeader, navData = gpstk.readRinex3Nav(navfile)\n",
    "# setup ephemeris store to look for satellite positions\n",
    "bcestore = gpstk.GPSEphemerisStore()\n",
    "for navDataObj in navData:\n",
    "    ephem = navDataObj.toGPSEphemeris()\n",
    "    bcestore.addEphemeris(ephem)\n",
    "bcestore.SearchNear()\n",
    "navData.close()"
   ]
  },
  {
   "cell_type": "code",
   "execution_count": 99,
   "metadata": {
    "collapsed": false
   },
   "outputs": [
    {
     "data": {
      "text/plain": [
       "datetime.datetime(2017, 1, 10, 1, 20, 23)"
      ]
     },
     "execution_count": 99,
     "metadata": {},
     "output_type": "execute_result"
    }
   ],
   "source": [
    "import copy\n",
    "systime = copy.copy(InputDate)\n",
    "systime"
   ]
  },
  {
   "cell_type": "code",
   "execution_count": 107,
   "metadata": {
    "collapsed": false
   },
   "outputs": [
    {
     "name": "stdout",
     "output_type": "stream",
     "text": [
      "Hello world!\n",
      "('   The current year is', 2017)\n",
      "('   The current day of year is', 34)\n",
      "('   The current second of day is', 5239.693747)\n",
      "('   The current full GPS week is', 1934)\n",
      "('   The current short GPS week is', 910)\n",
      "('   The current day of GPS week is', 5)\n",
      "('   The current second of GPS week is', 437239.693747)\n"
     ]
    }
   ],
   "source": [
    "#Thx to https://github.com/scienceopen\n",
    "# Read current time from my own date and time\n",
    "systime = gpstk.SystemTime()\n",
    "\n",
    "# Convert to 'CommonTime', the standard way to handle time at GPSTk\n",
    "comtime = systime.toCommonTime()\n",
    "\n",
    "# This is the typical way to handle civil time\n",
    "civtime = gpstk.CivilTime(comtime)\n",
    "\n",
    "# The YDSTime class is very useful for common GNSS tasks\n",
    "ydstime = gpstk.YDSTime(comtime)\n",
    "\n",
    "# This is a typical class to handle time in GPS system\n",
    "gpstime = gpstk.GPSWeekSecond(comtime)\n",
    "\n",
    "# Class to handle Modified Julian Date\n",
    "mjd = gpstk.MJD(comtime)\n",
    "\n",
    "print(\"Hello world!\")\n",
    "#print(\"   The current civil time is\", civtime)\n",
    "print(\"   The current year is\", ydstime.year)\n",
    "print(\"   The current day of year is\", ydstime.doy)\n",
    "print(\"   The current second of day is\", ydstime.sod)\n",
    "print(\"   The current full GPS week is\", gpstime.week)\n",
    "print(\"   The current short GPS week is\", gpstime.getModWeek())\n",
    "print(\"   The current day of GPS week is\", gpstime.getDayOfWeek())\n",
    "print(\"   The current second of GPS week is\", gpstime.sow)\n",
    "#print(\"   The current Modified Julian Date is\", mjd)"
   ]
  },
  {
   "cell_type": "code",
   "execution_count": 110,
   "metadata": {
    "collapsed": false
   },
   "outputs": [
    {
     "name": "stdout",
     "output_type": "stream",
     "text": [
      "2457633 43200000 0.000000000000000 GPS\n",
      "2457765 07200000 0.000000000000000 GPS\n",
      "Input Date 2017-01-10 01:20:23\n",
      "Time in UTS 1486085239 693747 UTC\n",
      "Time in GPS GPS\n"
     ]
    },
    {
     "ename": "AttributeError",
     "evalue": "No constructor defined - class is abstract",
     "output_type": "error",
     "traceback": [
      "\u001b[1;31m---------------------------------------------------------------------------\u001b[0m",
      "\u001b[1;31mAttributeError\u001b[0m                            Traceback (most recent call last)",
      "\u001b[1;32m<ipython-input-110-500f411b5d3a>\u001b[0m in \u001b[0;36m<module>\u001b[1;34m()\u001b[0m\n\u001b[0;32m      7\u001b[0m \u001b[1;32mprint\u001b[0m \u001b[1;34m\"Time in GPS\"\u001b[0m\u001b[1;33m,\u001b[0m\u001b[0mgpstime1\u001b[0m\u001b[1;33m\u001b[0m\u001b[0m\n\u001b[0;32m      8\u001b[0m \u001b[1;33m\u001b[0m\u001b[0m\n\u001b[1;32m----> 9\u001b[1;33m \u001b[1;32mprint\u001b[0m \u001b[0mgpstk\u001b[0m\u001b[1;33m.\u001b[0m\u001b[0mGPSWeek\u001b[0m\u001b[1;33m(\u001b[0m\u001b[0msystime\u001b[0m\u001b[1;33m)\u001b[0m\u001b[1;33m\u001b[0m\u001b[0m\n\u001b[0m\u001b[0;32m     10\u001b[0m \u001b[1;33m\u001b[0m\u001b[0m\n\u001b[0;32m     11\u001b[0m \u001b[1;32mprint\u001b[0m \u001b[0mgpstime\u001b[0m\u001b[1;33m>\u001b[0m\u001b[0mbcestore\u001b[0m\u001b[1;33m.\u001b[0m\u001b[0mgetInitialTime\u001b[0m\u001b[1;33m(\u001b[0m\u001b[1;33m)\u001b[0m\u001b[1;33m\u001b[0m\u001b[0m\n",
      "\u001b[1;32m/opt/anaconda/lib/python2.7/site-packages/gpstk/gpstk.py\u001b[0m in \u001b[0;36m__init__\u001b[1;34m(self, *args, **kwargs)\u001b[0m\n\u001b[0;32m   6534\u001b[0m     \u001b[1;32mfor\u001b[0m \u001b[0m_s\u001b[0m \u001b[1;32min\u001b[0m \u001b[1;33m[\u001b[0m\u001b[0mTimeTag\u001b[0m\u001b[1;33m]\u001b[0m\u001b[1;33m:\u001b[0m \u001b[0m__swig_getmethods__\u001b[0m\u001b[1;33m.\u001b[0m\u001b[0mupdate\u001b[0m\u001b[1;33m(\u001b[0m\u001b[0mgetattr\u001b[0m\u001b[1;33m(\u001b[0m\u001b[0m_s\u001b[0m\u001b[1;33m,\u001b[0m\u001b[1;34m'__swig_getmethods__'\u001b[0m\u001b[1;33m,\u001b[0m\u001b[1;33m{\u001b[0m\u001b[1;33m}\u001b[0m\u001b[1;33m)\u001b[0m\u001b[1;33m)\u001b[0m\u001b[1;33m\u001b[0m\u001b[0m\n\u001b[0;32m   6535\u001b[0m     \u001b[0m__getattr__\u001b[0m \u001b[1;33m=\u001b[0m \u001b[1;32mlambda\u001b[0m \u001b[0mself\u001b[0m\u001b[1;33m,\u001b[0m \u001b[0mname\u001b[0m\u001b[1;33m:\u001b[0m \u001b[0m_swig_getattr\u001b[0m\u001b[1;33m(\u001b[0m\u001b[0mself\u001b[0m\u001b[1;33m,\u001b[0m \u001b[0mGPSWeek\u001b[0m\u001b[1;33m,\u001b[0m \u001b[0mname\u001b[0m\u001b[1;33m)\u001b[0m\u001b[1;33m\u001b[0m\u001b[0m\n\u001b[1;32m-> 6536\u001b[1;33m     \u001b[1;32mdef\u001b[0m \u001b[0m__init__\u001b[0m\u001b[1;33m(\u001b[0m\u001b[0mself\u001b[0m\u001b[1;33m,\u001b[0m \u001b[1;33m*\u001b[0m\u001b[0margs\u001b[0m\u001b[1;33m,\u001b[0m \u001b[1;33m**\u001b[0m\u001b[0mkwargs\u001b[0m\u001b[1;33m)\u001b[0m\u001b[1;33m:\u001b[0m \u001b[1;32mraise\u001b[0m \u001b[0mAttributeError\u001b[0m\u001b[1;33m(\u001b[0m\u001b[1;34m\"No constructor defined - class is abstract\"\u001b[0m\u001b[1;33m)\u001b[0m\u001b[1;33m\u001b[0m\u001b[0m\n\u001b[0m\u001b[0;32m   6537\u001b[0m     \u001b[0m__repr__\u001b[0m \u001b[1;33m=\u001b[0m \u001b[0m_swig_repr\u001b[0m\u001b[1;33m\u001b[0m\u001b[0m\n\u001b[0;32m   6538\u001b[0m     \u001b[0mbits10\u001b[0m \u001b[1;33m=\u001b[0m \u001b[0m_gpstk\u001b[0m\u001b[1;33m.\u001b[0m\u001b[0mGPSWeek_bits10\u001b[0m\u001b[1;33m\u001b[0m\u001b[0m\n",
      "\u001b[1;31mAttributeError\u001b[0m: No constructor defined - class is abstract"
     ]
    }
   ],
   "source": [
    "print bcestore.getInitialTime()\n",
    "print bcestore.getFinalTime()\n",
    "print \"Input Date\",InputDate\n",
    "print \"Time in UTS\", systime\n",
    "#print gpstime.setTimeSystem(gpstk.TimeSystem('GPS'))\n",
    "gpstime1 = gpstk.TimeSystem(\"GPS\")\n",
    "print \"Time in GPS\",gpstime1\n",
    "\n",
    "print gpstk.GPSWeek(systime)\n",
    "\n",
    "print gpstime>bcestore.getInitialTime()\n",
    "print gpstime<bcestore.getFinalTime()"
   ]
  },
  {
   "cell_type": "code",
   "execution_count": 67,
   "metadata": {
    "collapsed": false
   },
   "outputs": [
    {
     "ename": "TypeError",
     "evalue": "in method 'GPSEphemerisStore_findEphemeris', argument 2 of type 'gpstk::SatID const &'",
     "output_type": "error",
     "traceback": [
      "\u001b[1;31m---------------------------------------------------------------------------\u001b[0m",
      "\u001b[1;31mTypeError\u001b[0m                                 Traceback (most recent call last)",
      "\u001b[1;32m<ipython-input-67-6c21d6d8690a>\u001b[0m in \u001b[0;36m<module>\u001b[1;34m()\u001b[0m\n\u001b[0;32m      1\u001b[0m \u001b[1;32mfor\u001b[0m \u001b[0msatID\u001b[0m \u001b[1;32min\u001b[0m \u001b[0mrange\u001b[0m \u001b[1;33m(\u001b[0m\u001b[1;36m1\u001b[0m\u001b[1;33m,\u001b[0m\u001b[1;36m32\u001b[0m\u001b[1;33m)\u001b[0m\u001b[1;33m:\u001b[0m\u001b[1;33m\u001b[0m\u001b[0m\n\u001b[1;32m----> 2\u001b[1;33m     \u001b[0meph\u001b[0m   \u001b[1;33m=\u001b[0m \u001b[0mbcestore\u001b[0m\u001b[1;33m.\u001b[0m\u001b[0mfindEphemeris\u001b[0m\u001b[1;33m(\u001b[0m\u001b[0msatID\u001b[0m\u001b[1;33m,\u001b[0m \u001b[0mgpstime\u001b[0m\u001b[1;33m)\u001b[0m\u001b[1;33m\u001b[0m\u001b[0m\n\u001b[0m\u001b[0;32m      3\u001b[0m     \u001b[0msvXvt\u001b[0m \u001b[1;33m=\u001b[0m \u001b[0meph\u001b[0m\u001b[1;33m.\u001b[0m\u001b[0msvXvt\u001b[0m\u001b[1;33m(\u001b[0m\u001b[0mgpstime\u001b[0m\u001b[1;33m)\u001b[0m\u001b[1;33m\u001b[0m\u001b[0m\n\u001b[0;32m      4\u001b[0m     \u001b[0melev\u001b[0m \u001b[1;33m=\u001b[0m \u001b[0mobsHeader\u001b[0m\u001b[1;33m.\u001b[0m\u001b[0mantennaPosition\u001b[0m\u001b[1;33m.\u001b[0m\u001b[0melvAngle\u001b[0m\u001b[1;33m(\u001b[0m\u001b[0msvXvt\u001b[0m\u001b[1;33m.\u001b[0m\u001b[0mgetPos\u001b[0m\u001b[1;33m(\u001b[0m\u001b[1;33m)\u001b[0m\u001b[1;33m)\u001b[0m\u001b[1;33m\u001b[0m\u001b[0m\n\u001b[0;32m      5\u001b[0m     \u001b[0mazim\u001b[0m  \u001b[1;33m=\u001b[0m \u001b[0mobsHeader\u001b[0m\u001b[1;33m.\u001b[0m\u001b[0mantennaPosition\u001b[0m\u001b[1;33m.\u001b[0m\u001b[0mazAngle\u001b[0m\u001b[1;33m(\u001b[0m\u001b[0msvXvt\u001b[0m\u001b[1;33m.\u001b[0m\u001b[0mgetPos\u001b[0m\u001b[1;33m(\u001b[0m\u001b[1;33m)\u001b[0m\u001b[1;33m)\u001b[0m\u001b[1;33m\u001b[0m\u001b[0m\n",
      "\u001b[1;32m/opt/anaconda/lib/python2.7/site-packages/gpstk/gpstk.py\u001b[0m in \u001b[0;36mfindEphemeris\u001b[1;34m(self, *args)\u001b[0m\n\u001b[0;32m  15334\u001b[0m     \u001b[1;32mdef\u001b[0m \u001b[0mfindEphemeris\u001b[0m\u001b[1;33m(\u001b[0m\u001b[0mself\u001b[0m\u001b[1;33m,\u001b[0m \u001b[1;33m*\u001b[0m\u001b[0margs\u001b[0m\u001b[1;33m)\u001b[0m\u001b[1;33m:\u001b[0m\u001b[1;33m\u001b[0m\u001b[0m\n\u001b[0;32m  15335\u001b[0m         \u001b[1;34m\"\"\"findEphemeris(GPSEphemerisStore self, SatID sat, CommonTime t) -> GPSEphemeris\"\"\"\u001b[0m\u001b[1;33m\u001b[0m\u001b[0m\n\u001b[1;32m> 15336\u001b[1;33m         \u001b[1;32mreturn\u001b[0m \u001b[0m_gpstk\u001b[0m\u001b[1;33m.\u001b[0m\u001b[0mGPSEphemerisStore_findEphemeris\u001b[0m\u001b[1;33m(\u001b[0m\u001b[0mself\u001b[0m\u001b[1;33m,\u001b[0m \u001b[1;33m*\u001b[0m\u001b[0margs\u001b[0m\u001b[1;33m)\u001b[0m\u001b[1;33m\u001b[0m\u001b[0m\n\u001b[0m\u001b[0;32m  15337\u001b[0m \u001b[1;33m\u001b[0m\u001b[0m\n\u001b[0;32m  15338\u001b[0m     \u001b[1;32mdef\u001b[0m \u001b[0maddToList\u001b[0m\u001b[1;33m(\u001b[0m\u001b[0mself\u001b[0m\u001b[1;33m,\u001b[0m \u001b[1;33m*\u001b[0m\u001b[0margs\u001b[0m\u001b[1;33m)\u001b[0m\u001b[1;33m:\u001b[0m\u001b[1;33m\u001b[0m\u001b[0m\n",
      "\u001b[1;31mTypeError\u001b[0m: in method 'GPSEphemerisStore_findEphemeris', argument 2 of type 'gpstk::SatID const &'"
     ]
    }
   ],
   "source": [
    "for satID in range (1,32):\n",
    "    eph   = bcestore.findEphemeris(satID, gpstime)\n",
    "    svXvt = eph.svXvt(gpstime)\n",
    "    elev = obsHeader.antennaPosition.elvAngle(svXvt.getPos())\n",
    "    azim  = obsHeader.antennaPosition.azAngle(svXvt.getPos())\n"
   ]
  },
  {
   "cell_type": "code",
   "execution_count": null,
   "metadata": {
    "collapsed": true
   },
   "outputs": [],
   "source": []
  },
  {
   "cell_type": "code",
   "execution_count": null,
   "metadata": {
    "collapsed": true
   },
   "outputs": [],
   "source": [
    "obsHeader, obsData = gpstk.readRinex3Obs(obsfile)\n",
    "#obsObject = obsData.next()\n",
    "for obsObject in obsData: #round the data\n",
    "    for satID, datumList in obsObject.obs.iteritems():\n",
    "\n",
    "        eph   = bcestore.findEphemeris(satID, obsObject.time)\n",
    "        svXvt = eph.svXvt(obsObject.time)\n",
    "        elev = obsHeader.antennaPosition.elvAngle(svXvt.getPos())\n",
    "        azim    = obsHeader.antennaPosition.azAngle(svXvt.getPos())\n",
    "\n",
    "        if(satID.system != satID.systemGPS):\n",
    "            print satID.system, satID.id\n",
    "        #print satID.system, satID.id\n",
    "        AllSat.append('PRN ' + str(satID.id))\n",
    "        Elevations.append(elev)\n",
    "        Azimuths.append(azim)"
   ]
  },
  {
   "cell_type": "code",
   "execution_count": null,
   "metadata": {
    "collapsed": true
   },
   "outputs": [],
   "source": []
  },
  {
   "cell_type": "code",
   "execution_count": null,
   "metadata": {
    "collapsed": true
   },
   "outputs": [],
   "source": []
  },
  {
   "cell_type": "code",
   "execution_count": null,
   "metadata": {
    "collapsed": true
   },
   "outputs": [],
   "source": []
  }
 ],
 "metadata": {
  "kernelspec": {
   "display_name": "Python 2",
   "language": "python",
   "name": "python2"
  },
  "language_info": {
   "codemirror_mode": {
    "name": "ipython",
    "version": 2
   },
   "file_extension": ".py",
   "mimetype": "text/x-python",
   "name": "python",
   "nbconvert_exporter": "python",
   "pygments_lexer": "ipython2",
   "version": "2.7.12"
  }
 },
 "nbformat": 4,
 "nbformat_minor": 1
}
