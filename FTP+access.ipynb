{
 "cells": [
  {
   "cell_type": "code",
   "execution_count": 1,
   "metadata": {
    "collapsed": true
   },
   "outputs": [],
   "source": [
    "#This is for Know the satellites position with a specific time and date "
   ]
  },
  {
   "cell_type": "code",
   "execution_count": 11,
   "metadata": {
    "collapsed": true
   },
   "outputs": [],
   "source": [
    "#Now I need to know the near \n",
    "import datetime\n",
    "import time"
   ]
  },
  {
   "cell_type": "code",
   "execution_count": 9,
   "metadata": {
    "collapsed": true
   },
   "outputs": [],
   "source": [
    "Sat_Time = \"01:20:23\"\n",
    "Sat_Date = \"12/09/2017\"\n",
    "Latitude_inGround = \"45.9945854\"\n",
    "Longitude_inGround = \"-75.656564\""
   ]
  },
  {
   "cell_type": "code",
   "execution_count": 17,
   "metadata": {
    "collapsed": false
   },
   "outputs": [
    {
     "data": {
      "text/plain": [
       "23"
      ]
     },
     "execution_count": 17,
     "metadata": {},
     "output_type": "execute_result"
    }
   ],
   "source": [
    "day_of_year = datetime.datetime.now().timetuple().tm_yday\n",
    "day_of_year"
   ]
  },
  {
   "cell_type": "code",
   "execution_count": 21,
   "metadata": {
    "collapsed": false
   },
   "outputs": [
    {
     "data": {
      "text/plain": [
       "(12, 9, 2017)"
      ]
     },
     "execution_count": 21,
     "metadata": {},
     "output_type": "execute_result"
    }
   ],
   "source": [
    "#Parse String to Date\n",
    "date_sat = datetime.datetime.strptime(Sat_Date,'%d/%m/%Y')\n",
    "date_sat.day,date.month,date.year"
   ]
  },
  {
   "cell_type": "code",
   "execution_count": 31,
   "metadata": {
    "collapsed": false
   },
   "outputs": [
    {
     "data": {
      "text/plain": [
       "(1, 20, 23)"
      ]
     },
     "execution_count": 31,
     "metadata": {},
     "output_type": "execute_result"
    }
   ],
   "source": [
    "#Parse String to Time\n",
    "time_sat = datetime.datetime.strptime(Sat_Time,'%H:%M:%S')\n",
    "time_sat.hour,time_sat.minute,time_sat.second"
   ]
  },
  {
   "cell_type": "code",
   "execution_count": 4,
   "metadata": {
    "collapsed": false
   },
   "outputs": [
    {
     "name": "stdout",
     "output_type": "stream",
     "text": [
      "Welcome: 220-**********************************************************************\n",
      "220-                 Welcome to the CDDIS Anonymous FTP Archive\n",
      "220-\n",
      "220-\n",
      "220-This U.S. Government resource is for authorized use only.\n",
      "220-\n",
      "220-If not authorized to access this resource, disconnect now.\n",
      "220-Unauthorized use of, or access to this resource may subject you to\n",
      "220-disciplinary action or criminal prosecution.\n",
      "220-\n",
      "220-By accessing and using this resource, you are consenting to\n",
      "220-monitoring, keystroke recording or auditing.\n",
      "220-\n",
      "220-Please consult the /pub/00readme file for a list of the main\n",
      "220-directories and their contents.\n",
      "220-\n",
      "220-Contact Carey Noll (Carey.Noll@nasa.gov) for further information.\n",
      "220-**********************************************************************\n",
      "220 \n"
     ]
    }
   ],
   "source": [
    "from ftplib import FTP\n",
    "f = FTP('cddis.gsfc.nasa.gov')\n",
    "print \"Welcome:\", f.getwelcome()\n"
   ]
  },
  {
   "cell_type": "code",
   "execution_count": 5,
   "metadata": {
    "collapsed": false
   },
   "outputs": [
    {
     "name": "stdout",
     "output_type": "stream",
     "text": [
      "Current working directory: /\n"
     ]
    },
    {
     "data": {
      "text/plain": [
       "'221 Goodbye.'"
      ]
     },
     "execution_count": 5,
     "metadata": {},
     "output_type": "execute_result"
    }
   ],
   "source": [
    "f.login()\n",
    "print \"Current working directory:\", f.pwd()\n",
    "f.quit() "
   ]
  },
  {
   "cell_type": "code",
   "execution_count": null,
   "metadata": {
    "collapsed": true
   },
   "outputs": [],
   "source": []
  }
 ],
 "metadata": {
  "kernelspec": {
   "display_name": "Anaconda 2",
   "language": "python",
   "name": "python2"
  },
  "language_info": {
   "codemirror_mode": {
    "name": "ipython",
    "version": 2
   },
   "file_extension": ".py",
   "mimetype": "text/x-python",
   "name": "python",
   "nbconvert_exporter": "python",
   "pygments_lexer": "ipython2",
   "version": "2.7.12"
  }
 },
 "nbformat": 4,
 "nbformat_minor": 1
}
