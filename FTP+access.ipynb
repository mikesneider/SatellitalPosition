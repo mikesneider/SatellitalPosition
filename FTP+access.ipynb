{
 "cells": [
  {
   "cell_type": "code",
   "execution_count": 1,
   "metadata": {
    "collapsed": true
   },
   "outputs": [],
   "source": [
    "#This is for Know the satellites position with a specific time and date "
   ]
  },
  {
   "cell_type": "code",
   "execution_count": 2,
   "metadata": {
    "collapsed": false
   },
   "outputs": [],
   "source": [
    "#Now I need to know the near \n",
    "import os, sys, time, datetime, re, gpstk\n",
    "from ftplib import FTP\n",
    "import pandas as pd\n",
    "import numpy as np\n",
    "from IPython.display import clear_output\n",
    "import matplotlib.pyplot as plt\n",
    "import math\n",
    "import geocoder #to get the elevation in a lon-lat point\n",
    "\n",
    "%matplotlib inline\n",
    "%run -i pys/utils.py"
   ]
  },
  {
   "cell_type": "code",
   "execution_count": 3,
   "metadata": {
    "collapsed": true
   },
   "outputs": [],
   "source": [
    "Sat_Time = \"21:20:23\"\n",
    "Sat_Date = \"12/03/2017\"\n",
    "#Universidad Industrial de Santander\n",
    "Longitude_inGround = -73.1224429 \n",
    "Latitude_inGround = 7.1388027\n"
   ]
  },
  {
   "cell_type": "code",
   "execution_count": 4,
   "metadata": {
    "collapsed": false
   },
   "outputs": [
    {
     "name": "stdout",
     "output_type": "stream",
     "text": [
      "2017-03-12 21:20:23\n"
     ]
    }
   ],
   "source": [
    "#Parse String to Date\n",
    "import datetime\n",
    "\n",
    "time_sat = datetime.datetime.strptime(Sat_Time,'%H:%M:%S')\n",
    "date_sat = datetime.datetime.strptime(Sat_Date,'%d/%m/%Y')\n",
    "\n",
    "InputDate = datetime.datetime.combine(datetime.date(date_sat.year, date_sat.month, date_sat.day), datetime.time(time_sat.hour, time_sat.minute,time_sat.second))\n",
    "day_of_year = InputDate.timetuple().tm_yday\n",
    "print InputDate"
   ]
  },
  {
   "cell_type": "code",
   "execution_count": 5,
   "metadata": {
    "collapsed": false,
    "scrolled": true
   },
   "outputs": [
    {
     "data": {
      "text/plain": [
       "Index([u'Unnamed: 0', u'CODE', u'Longitude', u'Latitude'], dtype='object')"
      ]
     },
     "execution_count": 5,
     "metadata": {},
     "output_type": "execute_result"
    }
   ],
   "source": [
    "UNAVCO_list = pd.read_csv(\"UNAVCOlist.csv\")\n",
    "UNAVCO_list.columns"
   ]
  },
  {
   "cell_type": "markdown",
   "metadata": {},
   "source": [
    "search the nearest station"
   ]
  },
  {
   "cell_type": "code",
   "execution_count": 6,
   "metadata": {
    "collapsed": false
   },
   "outputs": [],
   "source": [
    "d = compute_distance(UNAVCO_list,Longitude_inGround,Latitude_inGround)\n",
    "UNAVCO_list['Distance'] = d"
   ]
  },
  {
   "cell_type": "code",
   "execution_count": 7,
   "metadata": {
    "collapsed": false,
    "scrolled": true
   },
   "outputs": [
    {
     "data": {
      "text/html": [
       "<div>\n",
       "<table border=\"1\" class=\"dataframe\">\n",
       "  <thead>\n",
       "    <tr style=\"text-align: right;\">\n",
       "      <th></th>\n",
       "      <th>Unnamed: 0</th>\n",
       "      <th>CODE</th>\n",
       "      <th>Longitude</th>\n",
       "      <th>Latitude</th>\n",
       "      <th>Distance</th>\n",
       "    </tr>\n",
       "  </thead>\n",
       "  <tbody>\n",
       "    <tr>\n",
       "      <th>2632</th>\n",
       "      <td>2632</td>\n",
       "      <td>BUCM</td>\n",
       "      <td>-73.181700</td>\n",
       "      <td>7.116900</td>\n",
       "      <td>6977.043272</td>\n",
       "    </tr>\n",
       "    <tr>\n",
       "      <th>2673</th>\n",
       "      <td>2673</td>\n",
       "      <td>BUCM</td>\n",
       "      <td>-73.181700</td>\n",
       "      <td>7.116900</td>\n",
       "      <td>6977.043272</td>\n",
       "    </tr>\n",
       "    <tr>\n",
       "      <th>2901</th>\n",
       "      <td>2901</td>\n",
       "      <td>BUCM</td>\n",
       "      <td>-73.181700</td>\n",
       "      <td>7.116900</td>\n",
       "      <td>6977.043272</td>\n",
       "    </tr>\n",
       "    <tr>\n",
       "      <th>2690</th>\n",
       "      <td>2690</td>\n",
       "      <td>FLOR</td>\n",
       "      <td>-73.088600</td>\n",
       "      <td>7.041600</td>\n",
       "      <td>11435.389590</td>\n",
       "    </tr>\n",
       "    <tr>\n",
       "      <th>2668</th>\n",
       "      <td>2668</td>\n",
       "      <td>ARAT</td>\n",
       "      <td>-73.052200</td>\n",
       "      <td>6.703200</td>\n",
       "      <td>49053.488836</td>\n",
       "    </tr>\n",
       "    <tr>\n",
       "      <th>3048</th>\n",
       "      <td>3048</td>\n",
       "      <td>PLON</td>\n",
       "      <td>-72.649000</td>\n",
       "      <td>7.384000</td>\n",
       "      <td>58911.122695</td>\n",
       "    </tr>\n",
       "    <tr>\n",
       "      <th>25086</th>\n",
       "      <td>25086</td>\n",
       "      <td>MECE</td>\n",
       "      <td>-73.712000</td>\n",
       "      <td>7.107200</td>\n",
       "      <td>65144.656963</td>\n",
       "    </tr>\n",
       "    <tr>\n",
       "      <th>2728</th>\n",
       "      <td>2728</td>\n",
       "      <td>SOCO</td>\n",
       "      <td>-73.241700</td>\n",
       "      <td>6.462500</td>\n",
       "      <td>76345.500651</td>\n",
       "    </tr>\n",
       "    <tr>\n",
       "      <th>2871</th>\n",
       "      <td>2871</td>\n",
       "      <td>ABRE</td>\n",
       "      <td>-73.225900</td>\n",
       "      <td>8.086800</td>\n",
       "      <td>106027.388816</td>\n",
       "    </tr>\n",
       "    <tr>\n",
       "      <th>24149</th>\n",
       "      <td>24149</td>\n",
       "      <td>CUC1</td>\n",
       "      <td>-72.512800</td>\n",
       "      <td>7.932300</td>\n",
       "      <td>110911.258013</td>\n",
       "    </tr>\n",
       "    <tr>\n",
       "      <th>3075</th>\n",
       "      <td>3075</td>\n",
       "      <td>SARD</td>\n",
       "      <td>-72.806800</td>\n",
       "      <td>8.096700</td>\n",
       "      <td>112050.309243</td>\n",
       "    </tr>\n",
       "    <tr>\n",
       "      <th>2712</th>\n",
       "      <td>2712</td>\n",
       "      <td>OLIV</td>\n",
       "      <td>-73.321200</td>\n",
       "      <td>6.140100</td>\n",
       "      <td>113199.621271</td>\n",
       "    </tr>\n",
       "    <tr>\n",
       "      <th>2872</th>\n",
       "      <td>2872</td>\n",
       "      <td>ACHI</td>\n",
       "      <td>-73.576700</td>\n",
       "      <td>8.246200</td>\n",
       "      <td>132922.098131</td>\n",
       "    </tr>\n",
       "    <tr>\n",
       "      <th>2709</th>\n",
       "      <td>2709</td>\n",
       "      <td>MONI</td>\n",
       "      <td>-73.573300</td>\n",
       "      <td>5.863800</td>\n",
       "      <td>150269.131127</td>\n",
       "    </tr>\n",
       "    <tr>\n",
       "      <th>2714</th>\n",
       "      <td>2714</td>\n",
       "      <td>PAIP</td>\n",
       "      <td>-73.117700</td>\n",
       "      <td>5.755200</td>\n",
       "      <td>153850.493211</td>\n",
       "    </tr>\n",
       "    <tr>\n",
       "      <th>3036</th>\n",
       "      <td>3036</td>\n",
       "      <td>PBER</td>\n",
       "      <td>-74.410900</td>\n",
       "      <td>6.465700</td>\n",
       "      <td>160747.984512</td>\n",
       "    </tr>\n",
       "    <tr>\n",
       "      <th>2729</th>\n",
       "      <td>2729</td>\n",
       "      <td>TAME</td>\n",
       "      <td>-71.767900</td>\n",
       "      <td>6.446800</td>\n",
       "      <td>168193.546279</td>\n",
       "    </tr>\n",
       "    <tr>\n",
       "      <th>3092</th>\n",
       "      <td>3092</td>\n",
       "      <td>TIBU</td>\n",
       "      <td>-72.736200</td>\n",
       "      <td>8.630500</td>\n",
       "      <td>171237.598550</td>\n",
       "    </tr>\n",
       "    <tr>\n",
       "      <th>3100</th>\n",
       "      <td>3100</td>\n",
       "      <td>TUNJ</td>\n",
       "      <td>-73.332600</td>\n",
       "      <td>5.581800</td>\n",
       "      <td>174681.482752</td>\n",
       "    </tr>\n",
       "    <tr>\n",
       "      <th>2734</th>\n",
       "      <td>2734</td>\n",
       "      <td>TUNJ</td>\n",
       "      <td>-73.332600</td>\n",
       "      <td>5.581800</td>\n",
       "      <td>174681.482752</td>\n",
       "    </tr>\n",
       "    <tr>\n",
       "      <th>2667</th>\n",
       "      <td>2667</td>\n",
       "      <td>AQUI</td>\n",
       "      <td>-72.883900</td>\n",
       "      <td>5.545300</td>\n",
       "      <td>179139.667500</td>\n",
       "    </tr>\n",
       "    <tr>\n",
       "      <th>2880</th>\n",
       "      <td>2880</td>\n",
       "      <td>AQUI</td>\n",
       "      <td>-72.883900</td>\n",
       "      <td>5.545300</td>\n",
       "      <td>179139.667500</td>\n",
       "    </tr>\n",
       "    <tr>\n",
       "      <th>2694</th>\n",
       "      <td>2694</td>\n",
       "      <td>HATO</td>\n",
       "      <td>-71.761800</td>\n",
       "      <td>6.153800</td>\n",
       "      <td>185956.063608</td>\n",
       "    </tr>\n",
       "    <tr>\n",
       "      <th>2961</th>\n",
       "      <td>2961</td>\n",
       "      <td>HATO</td>\n",
       "      <td>-71.761800</td>\n",
       "      <td>6.153800</td>\n",
       "      <td>185956.063608</td>\n",
       "    </tr>\n",
       "    <tr>\n",
       "      <th>2717</th>\n",
       "      <td>2717</td>\n",
       "      <td>PAZA</td>\n",
       "      <td>-71.887100</td>\n",
       "      <td>5.878400</td>\n",
       "      <td>195621.396327</td>\n",
       "    </tr>\n",
       "    <tr>\n",
       "      <th>3035</th>\n",
       "      <td>3035</td>\n",
       "      <td>PAZA</td>\n",
       "      <td>-71.887100</td>\n",
       "      <td>5.878400</td>\n",
       "      <td>195621.396327</td>\n",
       "    </tr>\n",
       "    <tr>\n",
       "      <th>2716</th>\n",
       "      <td>2716</td>\n",
       "      <td>PAUT</td>\n",
       "      <td>-72.087900</td>\n",
       "      <td>5.669700</td>\n",
       "      <td>199382.306059</td>\n",
       "    </tr>\n",
       "    <tr>\n",
       "      <th>2902</th>\n",
       "      <td>2902</td>\n",
       "      <td>BURR</td>\n",
       "      <td>-73.667000</td>\n",
       "      <td>8.850600</td>\n",
       "      <td>199564.173239</td>\n",
       "    </tr>\n",
       "    <tr>\n",
       "      <th>2736</th>\n",
       "      <td>2736</td>\n",
       "      <td>VEQU</td>\n",
       "      <td>-73.526800</td>\n",
       "      <td>5.366700</td>\n",
       "      <td>202053.749215</td>\n",
       "    </tr>\n",
       "    <tr>\n",
       "      <th>23814</th>\n",
       "      <td>23814</td>\n",
       "      <td>CAPI</td>\n",
       "      <td>-72.427800</td>\n",
       "      <td>5.351400</td>\n",
       "      <td>213064.888275</td>\n",
       "    </tr>\n",
       "    <tr>\n",
       "      <th>...</th>\n",
       "      <td>...</td>\n",
       "      <td>...</td>\n",
       "      <td>...</td>\n",
       "      <td>...</td>\n",
       "      <td>...</td>\n",
       "    </tr>\n",
       "    <tr>\n",
       "      <th>12193</th>\n",
       "      <td>12193</td>\n",
       "      <td>K298</td>\n",
       "      <td>100.576000</td>\n",
       "      <td>-0.961000</td>\n",
       "      <td>19035323.005496</td>\n",
       "    </tr>\n",
       "    <tr>\n",
       "      <th>12130</th>\n",
       "      <td>12130</td>\n",
       "      <td>K204</td>\n",
       "      <td>100.637700</td>\n",
       "      <td>-0.910800</td>\n",
       "      <td>19036236.010491</td>\n",
       "    </tr>\n",
       "    <tr>\n",
       "      <th>12286</th>\n",
       "      <td>12286</td>\n",
       "      <td>K204</td>\n",
       "      <td>100.637700</td>\n",
       "      <td>-0.910800</td>\n",
       "      <td>19036236.010491</td>\n",
       "    </tr>\n",
       "    <tr>\n",
       "      <th>12159</th>\n",
       "      <td>12159</td>\n",
       "      <td>BALA</td>\n",
       "      <td>100.637700</td>\n",
       "      <td>-0.910800</td>\n",
       "      <td>19036236.010491</td>\n",
       "    </tr>\n",
       "    <tr>\n",
       "      <th>12132</th>\n",
       "      <td>12132</td>\n",
       "      <td>K206</td>\n",
       "      <td>100.638800</td>\n",
       "      <td>-0.911500</td>\n",
       "      <td>19036377.420180</td>\n",
       "    </tr>\n",
       "    <tr>\n",
       "      <th>12129</th>\n",
       "      <td>12129</td>\n",
       "      <td>K203</td>\n",
       "      <td>100.634700</td>\n",
       "      <td>-0.926800</td>\n",
       "      <td>19037262.096746</td>\n",
       "    </tr>\n",
       "    <tr>\n",
       "      <th>12262</th>\n",
       "      <td>12262</td>\n",
       "      <td>1339</td>\n",
       "      <td>100.622200</td>\n",
       "      <td>-0.943400</td>\n",
       "      <td>19037586.208215</td>\n",
       "    </tr>\n",
       "    <tr>\n",
       "      <th>12115</th>\n",
       "      <td>12115</td>\n",
       "      <td>1339</td>\n",
       "      <td>100.622200</td>\n",
       "      <td>-0.943400</td>\n",
       "      <td>19037586.208215</td>\n",
       "    </tr>\n",
       "    <tr>\n",
       "      <th>12155</th>\n",
       "      <td>12155</td>\n",
       "      <td>1339</td>\n",
       "      <td>100.622200</td>\n",
       "      <td>-0.943400</td>\n",
       "      <td>19037586.208215</td>\n",
       "    </tr>\n",
       "    <tr>\n",
       "      <th>12192</th>\n",
       "      <td>12192</td>\n",
       "      <td>K297</td>\n",
       "      <td>100.622200</td>\n",
       "      <td>-0.943500</td>\n",
       "      <td>19037594.067275</td>\n",
       "    </tr>\n",
       "    <tr>\n",
       "      <th>12312</th>\n",
       "      <td>12312</td>\n",
       "      <td>P004</td>\n",
       "      <td>100.750300</td>\n",
       "      <td>-1.176700</td>\n",
       "      <td>19065960.339064</td>\n",
       "    </tr>\n",
       "    <tr>\n",
       "      <th>12229</th>\n",
       "      <td>12229</td>\n",
       "      <td>P004</td>\n",
       "      <td>100.750300</td>\n",
       "      <td>-1.176700</td>\n",
       "      <td>19065960.339064</td>\n",
       "    </tr>\n",
       "    <tr>\n",
       "      <th>23719</th>\n",
       "      <td>23719</td>\n",
       "      <td>BNOA</td>\n",
       "      <td>115.209917</td>\n",
       "      <td>-8.746500</td>\n",
       "      <td>19080254.105098</td>\n",
       "    </tr>\n",
       "    <tr>\n",
       "      <th>12220</th>\n",
       "      <td>12220</td>\n",
       "      <td>KAYA</td>\n",
       "      <td>109.410700</td>\n",
       "      <td>0.812300</td>\n",
       "      <td>19087378.915620</td>\n",
       "    </tr>\n",
       "    <tr>\n",
       "      <th>12235</th>\n",
       "      <td>12235</td>\n",
       "      <td>PAGA</td>\n",
       "      <td>100.215000</td>\n",
       "      <td>-2.776900</td>\n",
       "      <td>19132068.976508</td>\n",
       "    </tr>\n",
       "    <tr>\n",
       "      <th>12181</th>\n",
       "      <td>12181</td>\n",
       "      <td>JAMB</td>\n",
       "      <td>103.644800</td>\n",
       "      <td>-1.639700</td>\n",
       "      <td>19306385.921674</td>\n",
       "    </tr>\n",
       "    <tr>\n",
       "      <th>12223</th>\n",
       "      <td>12223</td>\n",
       "      <td>KULU</td>\n",
       "      <td>102.253100</td>\n",
       "      <td>-3.785200</td>\n",
       "      <td>19381840.004899</td>\n",
       "    </tr>\n",
       "    <tr>\n",
       "      <th>12180</th>\n",
       "      <td>12180</td>\n",
       "      <td>ENGG</td>\n",
       "      <td>102.163900</td>\n",
       "      <td>-5.291500</td>\n",
       "      <td>19455028.981548</td>\n",
       "    </tr>\n",
       "    <tr>\n",
       "      <th>12236</th>\n",
       "      <td>12236</td>\n",
       "      <td>PALE</td>\n",
       "      <td>104.699900</td>\n",
       "      <td>-2.900400</td>\n",
       "      <td>19485680.485168</td>\n",
       "    </tr>\n",
       "    <tr>\n",
       "      <th>24733</th>\n",
       "      <td>24733</td>\n",
       "      <td>JOG2</td>\n",
       "      <td>110.372719</td>\n",
       "      <td>-7.763772</td>\n",
       "      <td>19623511.556977</td>\n",
       "    </tr>\n",
       "    <tr>\n",
       "      <th>12222</th>\n",
       "      <td>12222</td>\n",
       "      <td>KRUI</td>\n",
       "      <td>103.934200</td>\n",
       "      <td>-5.188400</td>\n",
       "      <td>19624055.574072</td>\n",
       "    </tr>\n",
       "    <tr>\n",
       "      <th>27828</th>\n",
       "      <td>27828</td>\n",
       "      <td>XMIS</td>\n",
       "      <td>105.688495</td>\n",
       "      <td>-10.449972</td>\n",
       "      <td>19624410.286177</td>\n",
       "    </tr>\n",
       "    <tr>\n",
       "      <th>12107</th>\n",
       "      <td>12107</td>\n",
       "      <td>XMAS</td>\n",
       "      <td>105.689600</td>\n",
       "      <td>-10.449600</td>\n",
       "      <td>19624489.831482</td>\n",
       "    </tr>\n",
       "    <tr>\n",
       "      <th>12177</th>\n",
       "      <td>12177</td>\n",
       "      <td>DEMP</td>\n",
       "      <td>104.927500</td>\n",
       "      <td>-5.114500</td>\n",
       "      <td>19703407.590527</td>\n",
       "    </tr>\n",
       "    <tr>\n",
       "      <th>12164</th>\n",
       "      <td>12164</td>\n",
       "      <td>CINA</td>\n",
       "      <td>104.557100</td>\n",
       "      <td>-5.911600</td>\n",
       "      <td>19724682.967250</td>\n",
       "    </tr>\n",
       "    <tr>\n",
       "      <th>12163</th>\n",
       "      <td>12163</td>\n",
       "      <td>BPIL</td>\n",
       "      <td>105.638600</td>\n",
       "      <td>-6.532000</td>\n",
       "      <td>19862564.605958</td>\n",
       "    </tr>\n",
       "    <tr>\n",
       "      <th>12152</th>\n",
       "      <td>12152</td>\n",
       "      <td>0705</td>\n",
       "      <td>106.849000</td>\n",
       "      <td>-6.490900</td>\n",
       "      <td>19942974.342034</td>\n",
       "    </tr>\n",
       "    <tr>\n",
       "      <th>23608</th>\n",
       "      <td>23608</td>\n",
       "      <td>BAKO</td>\n",
       "      <td>106.848910</td>\n",
       "      <td>-6.491055</td>\n",
       "      <td>19942991.089480</td>\n",
       "    </tr>\n",
       "    <tr>\n",
       "      <th>12158</th>\n",
       "      <td>12158</td>\n",
       "      <td>BAKO</td>\n",
       "      <td>106.849100</td>\n",
       "      <td>-6.491100</td>\n",
       "      <td>19942997.041816</td>\n",
       "    </tr>\n",
       "    <tr>\n",
       "      <th>12064</th>\n",
       "      <td>12064</td>\n",
       "      <td>BAKO</td>\n",
       "      <td>106.849100</td>\n",
       "      <td>-6.491100</td>\n",
       "      <td>19942997.041816</td>\n",
       "    </tr>\n",
       "  </tbody>\n",
       "</table>\n",
       "<p>27868 rows × 5 columns</p>\n",
       "</div>"
      ],
      "text/plain": [
       "       Unnamed: 0  CODE   Longitude   Latitude         Distance\n",
       "2632         2632  BUCM  -73.181700   7.116900      6977.043272\n",
       "2673         2673  BUCM  -73.181700   7.116900      6977.043272\n",
       "2901         2901  BUCM  -73.181700   7.116900      6977.043272\n",
       "2690         2690  FLOR  -73.088600   7.041600     11435.389590\n",
       "2668         2668  ARAT  -73.052200   6.703200     49053.488836\n",
       "3048         3048  PLON  -72.649000   7.384000     58911.122695\n",
       "25086       25086  MECE  -73.712000   7.107200     65144.656963\n",
       "2728         2728  SOCO  -73.241700   6.462500     76345.500651\n",
       "2871         2871  ABRE  -73.225900   8.086800    106027.388816\n",
       "24149       24149  CUC1  -72.512800   7.932300    110911.258013\n",
       "3075         3075  SARD  -72.806800   8.096700    112050.309243\n",
       "2712         2712  OLIV  -73.321200   6.140100    113199.621271\n",
       "2872         2872  ACHI  -73.576700   8.246200    132922.098131\n",
       "2709         2709  MONI  -73.573300   5.863800    150269.131127\n",
       "2714         2714  PAIP  -73.117700   5.755200    153850.493211\n",
       "3036         3036  PBER  -74.410900   6.465700    160747.984512\n",
       "2729         2729  TAME  -71.767900   6.446800    168193.546279\n",
       "3092         3092  TIBU  -72.736200   8.630500    171237.598550\n",
       "3100         3100  TUNJ  -73.332600   5.581800    174681.482752\n",
       "2734         2734  TUNJ  -73.332600   5.581800    174681.482752\n",
       "2667         2667  AQUI  -72.883900   5.545300    179139.667500\n",
       "2880         2880  AQUI  -72.883900   5.545300    179139.667500\n",
       "2694         2694  HATO  -71.761800   6.153800    185956.063608\n",
       "2961         2961  HATO  -71.761800   6.153800    185956.063608\n",
       "2717         2717  PAZA  -71.887100   5.878400    195621.396327\n",
       "3035         3035  PAZA  -71.887100   5.878400    195621.396327\n",
       "2716         2716  PAUT  -72.087900   5.669700    199382.306059\n",
       "2902         2902  BURR  -73.667000   8.850600    199564.173239\n",
       "2736         2736  VEQU  -73.526800   5.366700    202053.749215\n",
       "23814       23814  CAPI  -72.427800   5.351400    213064.888275\n",
       "...           ...   ...         ...        ...              ...\n",
       "12193       12193  K298  100.576000  -0.961000  19035323.005496\n",
       "12130       12130  K204  100.637700  -0.910800  19036236.010491\n",
       "12286       12286  K204  100.637700  -0.910800  19036236.010491\n",
       "12159       12159  BALA  100.637700  -0.910800  19036236.010491\n",
       "12132       12132  K206  100.638800  -0.911500  19036377.420180\n",
       "12129       12129  K203  100.634700  -0.926800  19037262.096746\n",
       "12262       12262  1339  100.622200  -0.943400  19037586.208215\n",
       "12115       12115  1339  100.622200  -0.943400  19037586.208215\n",
       "12155       12155  1339  100.622200  -0.943400  19037586.208215\n",
       "12192       12192  K297  100.622200  -0.943500  19037594.067275\n",
       "12312       12312  P004  100.750300  -1.176700  19065960.339064\n",
       "12229       12229  P004  100.750300  -1.176700  19065960.339064\n",
       "23719       23719  BNOA  115.209917  -8.746500  19080254.105098\n",
       "12220       12220  KAYA  109.410700   0.812300  19087378.915620\n",
       "12235       12235  PAGA  100.215000  -2.776900  19132068.976508\n",
       "12181       12181  JAMB  103.644800  -1.639700  19306385.921674\n",
       "12223       12223  KULU  102.253100  -3.785200  19381840.004899\n",
       "12180       12180  ENGG  102.163900  -5.291500  19455028.981548\n",
       "12236       12236  PALE  104.699900  -2.900400  19485680.485168\n",
       "24733       24733  JOG2  110.372719  -7.763772  19623511.556977\n",
       "12222       12222  KRUI  103.934200  -5.188400  19624055.574072\n",
       "27828       27828  XMIS  105.688495 -10.449972  19624410.286177\n",
       "12107       12107  XMAS  105.689600 -10.449600  19624489.831482\n",
       "12177       12177  DEMP  104.927500  -5.114500  19703407.590527\n",
       "12164       12164  CINA  104.557100  -5.911600  19724682.967250\n",
       "12163       12163  BPIL  105.638600  -6.532000  19862564.605958\n",
       "12152       12152  0705  106.849000  -6.490900  19942974.342034\n",
       "23608       23608  BAKO  106.848910  -6.491055  19942991.089480\n",
       "12158       12158  BAKO  106.849100  -6.491100  19942997.041816\n",
       "12064       12064  BAKO  106.849100  -6.491100  19942997.041816\n",
       "\n",
       "[27868 rows x 5 columns]"
      ]
     },
     "execution_count": 7,
     "metadata": {},
     "output_type": "execute_result"
    }
   ],
   "source": [
    "UNAVCO_list.sort_values(['Distance'], ascending=[True], inplace=True)\n",
    "UNAVCO_list"
   ]
  },
  {
   "cell_type": "code",
   "execution_count": 8,
   "metadata": {
    "collapsed": false,
    "scrolled": true
   },
   "outputs": [
    {
     "name": "stdout",
     "output_type": "stream",
     "text": [
      "BUCM -73.1817 7.1169 6977.04327191\n"
     ]
    }
   ],
   "source": [
    "#search the nearest land stage\n",
    "IDmin = UNAVCO_list.Distance.argmin()\n",
    "S_Code = UNAVCO_list.CODE[IDmin]\n",
    "S_Dist = UNAVCO_list.Distance[IDmin]\n",
    "print S_Code,UNAVCO_list.Longitude[IDmin],UNAVCO_list.Latitude[IDmin],S_Dist"
   ]
  },
  {
   "cell_type": "markdown",
   "metadata": {},
   "source": [
    "Now I have the Name of the Lan Station that I need.\n"
   ]
  },
  {
   "cell_type": "code",
   "execution_count": 9,
   "metadata": {
    "collapsed": false,
    "scrolled": true
   },
   "outputs": [
    {
     "name": "stdout",
     "output_type": "stream",
     "text": [
      "<ftplib.FTP instance at 0xac94feac>\n",
      "Folder Needed: 250 Directory successfully changed.\n",
      "Current working directory: /pub/gps/data/daily/2017/071/17n\n"
     ]
    }
   ],
   "source": [
    "UNAVCO_FTP = 'data-out.unavco.org'\n",
    "NASA_FTP = 'cddis.gsfc.nasa.gov'\n",
    "\n",
    "try:\n",
    "    f = FTP(NASA_FTP)\n",
    "    #f = FTP(UNAVCO_FTP)\n",
    "    print f\n",
    "    \n",
    "except:\n",
    "    pass\n",
    "#print \"Welcome:\", f.getwelcome()\n",
    "f.login()\n",
    "\n",
    "#Now I wnat to look the folder that I need.\n",
    "UNAVCO_FTP_path = '/pub/rinex/nav/' + str(InputDate.year) + '/' + str(day_of_year).zfill(3)\n",
    "FTP_path ='/pub/gps/data/daily/'+ str(InputDate.year) + '/' + str(day_of_year).zfill(3) + '/' + str(InputDate.year)[2:] + 'n'\n",
    "\n",
    "#[data-out.unavco.org] --> /pub/rinex/nav/2017/002\n",
    "#[cddis.gsfc.nasa.gov] --> /pub/gps/data/daily/2017/001/17n --> \n",
    "#    FTP_path ='/pub/gps/data/daily/'+ str_year + '/' + str(day_of_year).zfill(3) + '/' + str_year[2:] + 'n'\n",
    "\n",
    "print \"Folder Needed:\", f.cwd(FTP_path)\n",
    "print \"Current working directory:\", f.pwd()"
   ]
  },
  {
   "cell_type": "code",
   "execution_count": null,
   "metadata": {
    "collapsed": false,
    "scrolled": false
   },
   "outputs": [],
   "source": [
    "import os, sys\n",
    "from ftplib import FTP \n",
    "\n",
    "\n",
    "LineData = 0\n",
    "while (1):\n",
    "    try:\n",
    "        if(LineData>70):\n",
    "            break\n",
    "        IDmin = UNAVCO_list.Distance.argmin()\n",
    "        NameStation = UNAVCO_list.CODE[IDmin]\n",
    "        LineData += 1\n",
    "        NameFile = NameStation.lower() + str(day_of_year).zfill(3) + '0.' + str(InputDate.year)[2:] + 'n.Z' \n",
    "        #For Now just GPS constallartion, I mean, .n file.'\n",
    "        clear_output(wait=True)\n",
    "        print(\"Try with station: %s\" % (NameFile),\"to \" + str(float_formatter(UNAVCO_list.Distance[IDmin]/1000)) + \" [Km]\")\n",
    "        print\n",
    "        \n",
    "        f.voidcmd(\"TYPE I\")\n",
    "        datasock, size = f.ntransfercmd(\"RETR \"+ NameFile)\n",
    "        bytes_so_far = 0\n",
    "        fd = open(NameFile, 'wb')\n",
    "        \n",
    "        while 1:\n",
    "            buf = datasock.recv(2048) \n",
    "            \n",
    "            fd.write(buf)\n",
    "            bytes_so_far += len(buf)\n",
    "            clear_output(wait=True)\n",
    "            print \"Received\",bytes_so_far, \"of %d total bytes (%.1f%%)\" % (size, 100 * bytes_so_far / float(size)),\"bytes\"\n",
    "            sys.stdout.flush()\n",
    "            if not buf:\n",
    "                break\n",
    "                 \n",
    "            #if bytes_so_far == len(buf):\n",
    "                #print \n",
    "                #break\n",
    "        print(\"File %s\" % (NameFile),\"to \" + str(float_formatter(UNAVCO_list.Distance[IDmin]/1000)) + \" [Km]\")\n",
    "        fd.close()\n",
    "        datasock.close()\n",
    "        f.voidresp\n",
    "        f.close()\n",
    "        break\n",
    "    except:\n",
    "        UNAVCO_list = UNAVCO_list[UNAVCO_list.CODE != NameStation]"
   ]
  },
  {
   "cell_type": "code",
   "execution_count": null,
   "metadata": {
    "collapsed": true
   },
   "outputs": [],
   "source": [
    "#Note: If can't find a file, alert, or if the day is before or equal to today."
   ]
  },
  {
   "cell_type": "code",
   "execution_count": null,
   "metadata": {
    "collapsed": false
   },
   "outputs": [],
   "source": [
    "NameFile"
   ]
  },
  {
   "cell_type": "code",
   "execution_count": null,
   "metadata": {
    "collapsed": false
   },
   "outputs": [],
   "source": [
    "gunzip_some_file(NameFile,'navRINEX',0)"
   ]
  },
  {
   "cell_type": "code",
   "execution_count": null,
   "metadata": {
    "collapsed": false
   },
   "outputs": [],
   "source": [
    "#!head -29 $navRINEX"
   ]
  },
  {
   "cell_type": "markdown",
   "metadata": {},
   "source": [
    "Info about coordinate system [here](https://stereo-ssc.nascom.nasa.gov/coordinates_explanation.shtml)"
   ]
  },
  {
   "cell_type": "code",
   "execution_count": 10,
   "metadata": {
    "collapsed": false
   },
   "outputs": [
    {
     "name": "stdout",
     "output_type": "stream",
     "text": [
      "PRN:  GPS 1\n",
      "GPS time: 604230\n",
      "\n"
     ]
    }
   ],
   "source": [
    "import datetime\n",
    "PRN = 23\n",
    "#import ephem\n",
    "\n",
    "navfile = 'navRINEX'\n",
    "navHeader, navData = gpstk.readRinex3Nav(navfile)\n",
    "# setup ephemeris store to look for satellite positions\n",
    "bcestore = gpstk.GPSEphemerisStore()\n",
    "contador = 1\n",
    " \n",
    "for navDataObj in navData:\n",
    "    ephem = navDataObj.toGPSEphemeris()\n",
    "    bcestore.addEphemeris(ephem)\n",
    "    if contador == 1:\n",
    "        print \"PRN: \",ephem.satID\n",
    "        globalEphem = ephem\n",
    "        POS = future_position(ephem,280850,1937)\n",
    "        print \"GPS time:\", ephem.HOWtime\n",
    "        print \n",
    "        contador += 1 \n",
    "bcestore.SearchNear()\n",
    "navData.close()"
   ]
  },
  {
   "cell_type": "code",
   "execution_count": 11,
   "metadata": {
    "collapsed": false
   },
   "outputs": [
    {
     "name": "stdout",
     "output_type": "stream",
     "text": [
      "Azimuth:  252.170708552  Elevation:  77.8946620538\n"
     ]
    }
   ],
   "source": [
    "Longitude_inGround = -73.1224429 \n",
    "Latitude_inGround = 7.1388027\n",
    "AZ,EL = ECEFtoAzElev(POS,Longitude_inGround,Latitude_inGround)\n",
    "print \"Azimuth: \",AZ,\" Elevation: \",EL"
   ]
  },
  {
   "cell_type": "code",
   "execution_count": 12,
   "metadata": {
    "collapsed": false
   },
   "outputs": [
    {
     "data": {
      "text/plain": [
       "<matplotlib.collections.PathCollection at 0xac66324c>"
      ]
     },
     "execution_count": 12,
     "metadata": {},
     "output_type": "execute_result"
    },
    {
     "data": {
      "image/png": "[encoded data removed]",
      "text/plain": [
       "<matplotlib.figure.Figure at 0xac95cd8c>"
      ]
     },
     "metadata": {},
     "output_type": "display_data"
    }
   ],
   "source": [
    "x,y = to_skyplot(EL,AZ)\n",
    "axes = plt.gca()\n",
    "axes.set_xlim([-1,1])\n",
    "axes.set_ylim([-1,1])\n",
    "plt.scatter(x,y)"
   ]
  },
  {
   "cell_type": "code",
   "execution_count": 13,
   "metadata": {
    "collapsed": false,
    "scrolled": true
   },
   "outputs": [
    {
     "name": "stdout",
     "output_type": "stream",
     "text": [
      "146707\n",
      "GPS 10\n"
     ]
    }
   ],
   "source": [
    "import datetime\n",
    "#PRN = All\n",
    "\n",
    "Longitude_inGround = -73.1224429 \n",
    "Latitude_inGround = 7.1388027\n",
    "WeekSec = UTC2GPS(datetime.datetime.now()) #second of week\n",
    "print WeekSec\n",
    "list_PRN = []\n",
    "AZIMUTH = []\n",
    "ELEVATION = []\n",
    "\n",
    "AZIMUTH2 = []\n",
    "ELEVATION2 = []\n",
    "Times = []\n",
    "Diffs = []\n",
    "Now = []\n",
    "ownPRN = np.arange(0,32)\n",
    "prueba = 1\n",
    "\n",
    "navfile = 'navRINEX'\n",
    "navHeader, navData = gpstk.readRinex3Nav(navfile)\n",
    "bcestore = gpstk.GPSEphemerisStore()\n",
    " \n",
    "for navDataObj in navData:\n",
    "    ephem = navDataObj.toGPSEphemeris()\n",
    "    #bcestore.addEphemeris(ephem)\n",
    "    \n",
    "    if ephem.HOWtime <= WeekSec: # and math.fabs(WeekSec-ephem.HOWtime) <= 21600.:  #21600 is 6 hours in seconds\n",
    "        #print \"SAT: \",ephem.satID,\" Time: \",ephem.HOWtime, \" Diff: \", math.fabs(WeekSec-ephem.HOWtime)\n",
    "        list_PRN.append(str(ephem.satID))\n",
    "        Times.append(ephem.HOWtime)\n",
    "        Diffs.append(math.fabs(WeekSec-ephem.HOWtime))\n",
    "        \n",
    "        POS = future_position(ephem,WeekSec,1937)\n",
    "        AZ,EL = ECEFtoAzElev(POS,Longitude_inGround,Latitude_inGround)\n",
    "        AZIMUTH.append(AZ)\n",
    "        ELEVATION.append(EL)\n",
    "        \n",
    "        Now = future_position(ephem,0,1937)\n",
    "        AZ2,EL2 = ECEFtoAzElev(Now,Longitude_inGround,Latitude_inGround)\n",
    "        AZIMUTH2.append(AZ2)\n",
    "        ELEVATION2.append(EL2)\n",
    "        \n",
    "        if prueba == 1:\n",
    "            print ephem.satID\n",
    "            prueba += 1\n",
    "        \n",
    "RES = pd.DataFrame({\"SATID\":list_PRN ,\"Time\": Times, \"Diff\":Diffs,\"EL\": ELEVATION,\"AZ\": AZIMUTH,\n",
    "                    \"EL_now\": ELEVATION2,\"AZ_now\": AZIMUTH2,})\n",
    "        \n",
    "bcestore.SearchNear()\n",
    "navData.close()"
   ]
  },
  {
   "cell_type": "code",
   "execution_count": 14,
   "metadata": {
    "collapsed": false
   },
   "outputs": [
    {
     "data": {
      "text/html": [
       "<div>\n",
       "<table border=\"1\" class=\"dataframe\">\n",
       "  <thead>\n",
       "    <tr style=\"text-align: right;\">\n",
       "      <th></th>\n",
       "      <th>AZ</th>\n",
       "      <th>AZ_now</th>\n",
       "      <th>Diff</th>\n",
       "      <th>EL</th>\n",
       "      <th>EL_now</th>\n",
       "      <th>SATID</th>\n",
       "      <th>Time</th>\n",
       "    </tr>\n",
       "  </thead>\n",
       "  <tbody>\n",
       "    <tr>\n",
       "      <th>0</th>\n",
       "      <td>330.239945</td>\n",
       "      <td>330.239945</td>\n",
       "      <td>146707</td>\n",
       "      <td>54.727463</td>\n",
       "      <td>54.727463</td>\n",
       "      <td>GPS 10</td>\n",
       "      <td>0</td>\n",
       "    </tr>\n",
       "    <tr>\n",
       "      <th>1</th>\n",
       "      <td>74.349052</td>\n",
       "      <td>74.349052</td>\n",
       "      <td>146707</td>\n",
       "      <td>68.285069</td>\n",
       "      <td>68.285069</td>\n",
       "      <td>GPS 32</td>\n",
       "      <td>0</td>\n",
       "    </tr>\n",
       "    <tr>\n",
       "      <th>2</th>\n",
       "      <td>59.649277</td>\n",
       "      <td>59.649277</td>\n",
       "      <td>146707</td>\n",
       "      <td>84.953059</td>\n",
       "      <td>84.953059</td>\n",
       "      <td>GPS 27</td>\n",
       "      <td>0</td>\n",
       "    </tr>\n",
       "    <tr>\n",
       "      <th>3</th>\n",
       "      <td>39.821606</td>\n",
       "      <td>39.821606</td>\n",
       "      <td>146707</td>\n",
       "      <td>46.818827</td>\n",
       "      <td>46.818827</td>\n",
       "      <td>GPS 11</td>\n",
       "      <td>0</td>\n",
       "    </tr>\n",
       "    <tr>\n",
       "      <th>4</th>\n",
       "      <td>165.533678</td>\n",
       "      <td>165.533678</td>\n",
       "      <td>146707</td>\n",
       "      <td>68.147446</td>\n",
       "      <td>68.147446</td>\n",
       "      <td>GPS 8</td>\n",
       "      <td>0</td>\n",
       "    </tr>\n",
       "  </tbody>\n",
       "</table>\n",
       "</div>"
      ],
      "text/plain": [
       "           AZ      AZ_now    Diff         EL     EL_now   SATID  Time\n",
       "0  330.239945  330.239945  146707  54.727463  54.727463  GPS 10     0\n",
       "1   74.349052   74.349052  146707  68.285069  68.285069  GPS 32     0\n",
       "2   59.649277   59.649277  146707  84.953059  84.953059  GPS 27     0\n",
       "3   39.821606   39.821606  146707  46.818827  46.818827  GPS 11     0\n",
       "4  165.533678  165.533678  146707  68.147446  68.147446   GPS 8     0"
      ]
     },
     "execution_count": 14,
     "metadata": {},
     "output_type": "execute_result"
    }
   ],
   "source": [
    "RES.head()"
   ]
  },
  {
   "cell_type": "code",
   "execution_count": 15,
   "metadata": {
    "collapsed": false
   },
   "outputs": [
    {
     "data": {
      "text/plain": [
       "(147069, 205)"
      ]
     },
     "execution_count": 15,
     "metadata": {},
     "output_type": "execute_result"
    }
   ],
   "source": [
    "seconds = UTC2GPS(datetime.datetime.now())\n",
    "seconds, len(RES)"
   ]
  },
  {
   "cell_type": "code",
   "execution_count": null,
   "metadata": {
    "collapsed": false
   },
   "outputs": [],
   "source": [
    "#GPS2UTC(1937,seconds)\n",
    "#datetime.datetime(2017, 2, 3, 15, 1, 16)"
   ]
  },
  {
   "cell_type": "code",
   "execution_count": 30,
   "metadata": {
    "collapsed": false
   },
   "outputs": [
    {
     "name": "stdout",
     "output_type": "stream",
     "text": [
      "205 197 8\n"
     ]
    }
   ],
   "source": [
    "sx= []\n",
    "sy = []\n",
    "sx2 = []\n",
    "sy2 = []\n",
    "counterGPS = 0\n",
    "counterNotGPS = 0\n",
    "for k in range (0,len(RES)):\n",
    "    if (RES.SATID[k] == 'GPS 2'):\n",
    "        sx,sy = (to_skyplot(RES.EL,RES.AZ))\n",
    "        sx2,sy2 = (to_skyplot(RES.EL,RES.AZ))\n",
    "        counterGPS += 1\n",
    "    else:\n",
    "        counterNotGPS += 1\n",
    "\n",
    "print len(sx),counterNotGPS,counterGPS\n"
   ]
  },
  {
   "cell_type": "code",
   "execution_count": 28,
   "metadata": {
    "collapsed": false
   },
   "outputs": [
    {
     "data": {
      "image/png": "[encoded data removed]",
      "text/plain": [
       "<matplotlib.figure.Figure at 0xa7269b8c>"
      ]
     },
     "metadata": {},
     "output_type": "display_data"
    }
   ],
   "source": [
    "fig =plt.figure(figsize=(11,11))\n",
    "axes = plt.gca()\n",
    "axes.set_xlim([-1,1])\n",
    "axes.set_ylim([-1,1])\n",
    "plt.scatter(sx,sy,s=5, alpha=0.5, color = 'blue')\n",
    "plt.scatter(sx2,sy2,s=5, alpha=0.5, color = 'red')\n",
    "plt.title('PRN Position')\n",
    "plt.grid()"
   ]
  },
  {
   "cell_type": "code",
   "execution_count": null,
   "metadata": {
    "collapsed": false,
    "scrolled": true
   },
   "outputs": [],
   "source": [
    "import datetime\n",
    "#PRN = All\n",
    "\n",
    "Longitude_inGround = -73.1224429 \n",
    "Latitude_inGround = 7.1388027\n",
    "WeekSec = UTC2GPS(datetime.datetime.now()) #second of week\n",
    "print WeekSec\n",
    "list_PRN = []\n",
    "AZIMUTH = []\n",
    "ELEVATION = []\n",
    "Times = []\n",
    "Diffs = []\n",
    "ownPRN = np.arange(0,32)\n",
    "prueba = 1\n",
    "\n",
    "navfile = 'navRINEX'\n",
    "navHeader, navData = gpstk.readRinex3Nav(navfile)\n",
    "bcestore = gpstk.GPSEphemerisStore()\n",
    " \n",
    "for navDataObj in navData:\n",
    "    ephem = navDataObj.toGPSEphemeris()\n",
    "    #bcestore.addEphemeris(ephem)\n",
    "    \n",
    "    if 1 == 1: #ephem.HOWtime <= WeekSec: # and math.fabs(WeekSec-ephem.HOWtime) <= 21600.:  #21600 is 6 hours in seconds\n",
    "        #print \"SAT: \",ephem.satID,\" Time: \",ephem.HOWtime, \" Diff: \", math.fabs(WeekSec-ephem.HOWtime)\n",
    "        list_PRN.append(str(ephem.satID))\n",
    "        Times.append(ephem.HOWtime)\n",
    "        Diffs.append(math.fabs(WeekSec-ephem.HOWtime))\n",
    "        POS = future_position(ephem,WeekSec,1937)\n",
    "        AZ,EL = ECEFtoAzElev(POS,Longitude_inGround,Latitude_inGround)\n",
    "        AZIMUTH.append(AZ)\n",
    "        ELEVATION.append(EL)\n",
    "        if prueba == 1:\n",
    "            print ephem.satID\n",
    "            prueba += 1\n",
    "        \n",
    "RES = pd.DataFrame({\"SATID\":list_PRN ,\"Time\": Times, \"Diff\":Diffs,\"Elev\": ELEVATION,\"Azimuth\": AZIMUTH,})\n",
    "        \n",
    "bcestore.SearchNear()\n",
    "navData.close()"
   ]
  }
 ],
 "metadata": {
  "kernelspec": {
   "display_name": "Python 2",
   "language": "python",
   "name": "python2"
  },
  "language_info": {
   "codemirror_mode": {
    "name": "ipython",
    "version": 2
   },
   "file_extension": ".py",
   "mimetype": "text/x-python",
   "name": "python",
   "nbconvert_exporter": "python",
   "pygments_lexer": "ipython2",
   "version": "2.7.12"
  }
 },
 "nbformat": 4,
 "nbformat_minor": 1
}
